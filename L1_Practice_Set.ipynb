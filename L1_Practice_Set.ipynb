{
 "cells": [
  {
   "cell_type": "markdown",
   "id": "83e04cbe",
   "metadata": {},
   "source": [
    "Q1. Write a program to convert the value of 4.56 to integer."
   ]
  },
  {
   "cell_type": "code",
   "execution_count": 2,
   "id": "b7f66a44",
   "metadata": {},
   "outputs": [
    {
     "name": "stdout",
     "output_type": "stream",
     "text": [
      "Truncated Value: 4\n"
     ]
    }
   ],
   "source": [
    "value = 4.56\n",
    "integer_value = int(value)\n",
    "print(\"Truncated Value:\", integer_value)"
   ]
  },
  {
   "cell_type": "markdown",
   "id": "bd817ed2",
   "metadata": {},
   "source": [
    "Q2. Find the integer values obtained by converting boolean values (True, False) to integer."
   ]
  },
  {
   "cell_type": "code",
   "execution_count": 3,
   "id": "44aa1e80",
   "metadata": {},
   "outputs": [
    {
     "name": "stdout",
     "output_type": "stream",
     "text": [
      "Integer value of True: 1\n",
      "Integer value of False: 0\n"
     ]
    }
   ],
   "source": [
    "# Boolean values\n",
    "true_value = True\n",
    "false_value = False\n",
    "\n",
    "# Convert to integers\n",
    "true_as_int = int(true_value)\n",
    "false_as_int = int(false_value)\n",
    "\n",
    "print(\"Integer value of True:\", true_as_int)\n",
    "print(\"Integer value of False:\", false_as_int)\n"
   ]
  },
  {
   "cell_type": "markdown",
   "id": "32005a7d",
   "metadata": {},
   "source": [
    "Q3. When 973 is divided by 32, what is the quotient, and what is the remainder?"
   ]
  },
  {
   "cell_type": "code",
   "execution_count": 4,
   "id": "5f8372f9",
   "metadata": {},
   "outputs": [
    {
     "data": {
      "text/plain": [
       "(30, 13)"
      ]
     },
     "execution_count": 4,
     "metadata": {},
     "output_type": "execute_result"
    }
   ],
   "source": [
    "# Given values\n",
    "dividend = 973\n",
    "divisor = 32\n",
    "\n",
    "# Calculate quotient and remainder\n",
    "quotient = dividend // divisor\n",
    "remainder = dividend % divisor\n",
    "\n",
    "quotient, remainder\n"
   ]
  },
  {
   "cell_type": "markdown",
   "id": "ab64cecb",
   "metadata": {},
   "source": [
    "Q4. Write a program to print the division of two numbers 'x' and 'y'\n",
    "\n",
    "x = 5 ; y = \"100\""
   ]
  },
  {
   "cell_type": "code",
   "execution_count": 5,
   "id": "e5a03743",
   "metadata": {},
   "outputs": [
    {
     "name": "stdout",
     "output_type": "stream",
     "text": [
      "The division of 5 and 100 is 0.05\n"
     ]
    }
   ],
   "source": [
    "# Define the variables\n",
    "x = 5\n",
    "y = \"100\"\n",
    "\n",
    "# Convert the string to an integer\n",
    "y_int = int(y)\n",
    "\n",
    "# Perform the division\n",
    "result = x / y_int\n",
    "\n",
    "# Print the result\n",
    "print(\"The division of\", x, \"and\", y, \"is\", result)\n"
   ]
  },
  {
   "cell_type": "markdown",
   "id": "bf2fd8b3",
   "metadata": {},
   "source": [
    "Q5. (a) Write a code to check whether \"e\" is present in \"klswrtcvfghypuoccxz\".\n",
    "\n",
    "(b)  Write a code to confirm whether \"u\" is not present in \"klswrtcvfghypuoccxz\"."
   ]
  },
  {
   "cell_type": "code",
   "execution_count": 6,
   "id": "dd4e2597",
   "metadata": {},
   "outputs": [
    {
     "name": "stdout",
     "output_type": "stream",
     "text": [
      "The character 'e' is not present in the string.\n",
      "The character 'u' is present in the string.\n"
     ]
    }
   ],
   "source": [
    "# Define the string and the character to check\n",
    "string = \"klswrtcvfghypuoccxz\"\n",
    "character_to_check = \"e\"\n",
    "\n",
    "# Check if the character is in the string\n",
    "if character_to_check in string:\n",
    "    print(f\"The character '{character_to_check}' is present in the string.\")\n",
    "else:\n",
    "    print(f\"The character '{character_to_check}' is not present in the string.\")\n",
    "# Define the string and the character to check\n",
    "string = \"klswrtcvfghypuoccxz\"\n",
    "character_to_check = \"u\"\n",
    "\n",
    "# Check if the character is not in the string\n",
    "if character_to_check not in string:\n",
    "    print(f\"The character '{character_to_check}' is not present in the string.\")\n",
    "else:\n",
    "    print(f\"The character '{character_to_check}' is present in the string.\")\n"
   ]
  },
  {
   "cell_type": "markdown",
   "id": "fe315a7d",
   "metadata": {},
   "source": [
    "Q6. Take input from the user. Write a code to print whether a number is divisible by 5 or a multiple of 8."
   ]
  },
  {
   "cell_type": "code",
   "execution_count": 7,
   "id": "e0ce022c",
   "metadata": {},
   "outputs": [
    {
     "name": "stdout",
     "output_type": "stream",
     "text": [
      "7854 is neither divisible by 5 nor a multiple of 8.\n"
     ]
    }
   ],
   "source": [
    "# Take input from the user\n",
    "number = int(input(\"Enter a number: \"))\n",
    "\n",
    "# Check if the number is divisible by 5 or a multiple of 8\n",
    "if number % 5 == 0:\n",
    "    print(f\"{number} is divisible by 5.\")\n",
    "elif number % 8 == 0:\n",
    "    print(f\"{number} is a multiple of 8.\")\n",
    "else:\n",
    "    print(f\"{number} is neither divisible by 5 nor a multiple of 8.\")\n"
   ]
  },
  {
   "cell_type": "markdown",
   "id": "4bf97af2",
   "metadata": {},
   "source": [
    "Q7. Create a program that prompts the user to enter their age and prints whether the age falls within the range of 18 to 30 or not."
   ]
  },
  {
   "cell_type": "code",
   "execution_count": 8,
   "id": "2322cd80",
   "metadata": {},
   "outputs": [
    {
     "name": "stdout",
     "output_type": "stream",
     "text": [
      "Your age, 58, does not fall within the range of 18 to 30.\n"
     ]
    }
   ],
   "source": [
    "# Take input from the user\n",
    "age = int(input(\"Enter your age: \"))\n",
    "\n",
    "# Check if the age falls within the range of 18 to 30\n",
    "if 18 <= age <= 30:\n",
    "    print(f\"Your age, {age}, falls within the range of 18 to 30.\")\n",
    "else:\n",
    "    print(f\"Your age, {age}, does not fall within the range of 18 to 30.\")\n"
   ]
  },
  {
   "cell_type": "markdown",
   "id": "eca298e8",
   "metadata": {},
   "source": [
    "Q8. Write a code to access the country name of the student from the following dictionary.\n",
    "\n",
    "student = {\n",
    "   'name': 'John',\n",
    "   'age': 20,\n",
    "   'country': 'USA'\n",
    "}"
   ]
  },
  {
   "cell_type": "code",
   "execution_count": 9,
   "id": "38e7db7a",
   "metadata": {},
   "outputs": [
    {
     "name": "stdout",
     "output_type": "stream",
     "text": [
      "The country of the student is: USA\n"
     ]
    }
   ],
   "source": [
    "# Define the dictionary\n",
    "student = {\n",
    "   'name': 'John',\n",
    "   'age': 20,\n",
    "   'country': 'USA'\n",
    "}\n",
    "\n",
    "# Access the country name\n",
    "country_name = student['country']\n",
    "\n",
    "# Print the country name\n",
    "print(\"The country of the student is:\", country_name)\n"
   ]
  },
  {
   "cell_type": "markdown",
   "id": "0d4150d6",
   "metadata": {},
   "source": [
    "Q9. Write a Python script that takes a string input from the user and checks whether the string contains all lowercase letters."
   ]
  },
  {
   "cell_type": "code",
   "execution_count": 10,
   "id": "bc3155e4",
   "metadata": {},
   "outputs": [
    {
     "name": "stdout",
     "output_type": "stream",
     "text": [
      "The string does not contain all lowercase letters.\n"
     ]
    }
   ],
   "source": [
    "def contains_all_lowercase(s):\n",
    "    # Define the set of all lowercase letters\n",
    "    lowercase_letters = set('abcdefghijklmnopqrstuvwxyz')\n",
    "    \n",
    "    # Create a set of unique lowercase letters in the input string\n",
    "    letters_in_string = set(char for char in s if char.islower())\n",
    "    \n",
    "    # Check if the set of letters in the string contains all lowercase letters\n",
    "    return lowercase_letters.issubset(letters_in_string)\n",
    "\n",
    "# Take input from the user\n",
    "user_input = input(\"Enter a string: \")\n",
    "\n",
    "# Check if the string contains all lowercase letters\n",
    "if contains_all_lowercase(user_input):\n",
    "    print(\"The string contains all lowercase letters.\")\n",
    "else:\n",
    "    print(\"The string does not contain all lowercase letters.\")\n"
   ]
  },
  {
   "cell_type": "markdown",
   "id": "811be964",
   "metadata": {},
   "source": [
    "Q10. Check if two variables a and b point to the same object in memory.\n",
    "\n",
    "a = [0, 1, 2, 4, 8, 16]\n",
    "\n",
    "b = [0, 1, 2, 4, 8, 16]\n",
    "\n"
   ]
  },
  {
   "cell_type": "code",
   "execution_count": 11,
   "id": "1d2b3576",
   "metadata": {},
   "outputs": [
    {
     "name": "stdout",
     "output_type": "stream",
     "text": [
      "a and b do not point to the same object in memory.\n"
     ]
    }
   ],
   "source": [
    "a = [0, 1, 2, 4, 8, 16]\n",
    "b = [0, 1, 2, 4, 8, 16]\n",
    "\n",
    "# Check if `a` and `b` point to the same object\n",
    "if a is b:\n",
    "    print(\"a and b point to the same object in memory.\")\n",
    "else:\n",
    "    print(\"a and b do not point to the same object in memory.\")\n"
   ]
  }
 ],
 "metadata": {
  "kernelspec": {
   "display_name": "Python 3 (ipykernel)",
   "language": "python",
   "name": "python3"
  },
  "language_info": {
   "codemirror_mode": {
    "name": "ipython",
    "version": 3
   },
   "file_extension": ".py",
   "mimetype": "text/x-python",
   "name": "python",
   "nbconvert_exporter": "python",
   "pygments_lexer": "ipython3",
   "version": "3.12.3"
  }
 },
 "nbformat": 4,
 "nbformat_minor": 5
}
