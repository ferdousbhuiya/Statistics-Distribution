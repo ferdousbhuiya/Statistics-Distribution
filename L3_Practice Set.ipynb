{
 "cells": [
  {
   "cell_type": "markdown",
   "id": "1e1d724f",
   "metadata": {},
   "source": [
    "\n",
    "1. Write a Python program to print all numbers between 1 and 10."
   ]
  },
  {
   "cell_type": "code",
   "execution_count": 2,
   "id": "d1921b52",
   "metadata": {},
   "outputs": [
    {
     "name": "stdout",
     "output_type": "stream",
     "text": [
      "1\n",
      "2\n",
      "3\n",
      "4\n",
      "5\n",
      "6\n",
      "7\n",
      "8\n",
      "9\n",
      "10\n"
     ]
    }
   ],
   "source": [
    "# Loop through numbers from 1 to 10\n",
    "for number in range(1, 11):\n",
    "    print(number)"
   ]
  },
  {
   "cell_type": "markdown",
   "id": "bc3d78c3",
   "metadata": {},
   "source": [
    "2. Write a Python program to find the sum of all even numbers between 1 and 20.\n"
   ]
  },
  {
   "cell_type": "code",
   "execution_count": 1,
   "id": "dbe67939",
   "metadata": {},
   "outputs": [
    {
     "name": "stdout",
     "output_type": "stream",
     "text": [
      "The sum of all even numbers between 1 and 20 is: 110\n"
     ]
    }
   ],
   "source": [
    "# Initialize the sum variable\n",
    "sum_of_evens = 0\n",
    "\n",
    "# Loop through numbers from 1 to 20\n",
    "for number in range(1, 21):\n",
    "    # Check if the number is even\n",
    "    if number % 2 == 0:\n",
    "        # Add the even number to the sum\n",
    "        sum_of_evens += number\n",
    "\n",
    "# Print the result\n",
    "print(\"The sum of all even numbers between 1 and 20 is:\", sum_of_evens)"
   ]
  },
  {
   "cell_type": "markdown",
   "id": "9b254a0f",
   "metadata": {},
   "source": [
    "3. Write a Python program to print the multiplication table of a given number. Take input from user.\n"
   ]
  },
  {
   "cell_type": "code",
   "execution_count": 3,
   "id": "f1cac8da",
   "metadata": {},
   "outputs": [
    {
     "name": "stdout",
     "output_type": "stream",
     "text": [
      "Multiplication table of 56:\n",
      "56 x 1 = 56\n",
      "56 x 2 = 112\n",
      "56 x 3 = 168\n",
      "56 x 4 = 224\n",
      "56 x 5 = 280\n",
      "56 x 6 = 336\n",
      "56 x 7 = 392\n",
      "56 x 8 = 448\n",
      "56 x 9 = 504\n",
      "56 x 10 = 560\n"
     ]
    }
   ],
   "source": [
    "# Take input from the user\n",
    "number = int(input(\"Enter a number to print its multiplication table: \"))\n",
    "\n",
    "# Print the multiplication table\n",
    "print(f\"Multiplication table of {number}:\")\n",
    "for i in range(1, 11):\n",
    "    print(f\"{number} x {i} = {number * i}\")"
   ]
  },
  {
   "cell_type": "markdown",
   "id": "01b70ad3",
   "metadata": {},
   "source": [
    "4. Write a Python program to check if a given number is prime or not. Take input from user.\n"
   ]
  },
  {
   "cell_type": "code",
   "execution_count": 4,
   "id": "1ebf32ca",
   "metadata": {},
   "outputs": [
    {
     "name": "stdout",
     "output_type": "stream",
     "text": [
      "56 is not a prime number.\n"
     ]
    }
   ],
   "source": [
    "# Function to check if a number is prime\n",
    "def is_prime(number):\n",
    "    if number <= 1:\n",
    "        return False\n",
    "    for i in range(2, int(number ** 0.5) + 1):\n",
    "        if number % i == 0:\n",
    "            return False\n",
    "    return True\n",
    "\n",
    "# Take input from the user\n",
    "num = int(input(\"Enter a number to check if it is prime: \"))\n",
    "\n",
    "# Check if the number is prime and print the result\n",
    "if is_prime(num):\n",
    "    print(f\"{num} is a prime number.\")\n",
    "else:\n",
    "    print(f\"{num} is not a prime number.\")"
   ]
  },
  {
   "cell_type": "markdown",
   "id": "20f7589c",
   "metadata": {},
   "source": [
    "5. Write a Python program to print the Fibonacci sequence up to n terms. Take input from user.\n"
   ]
  },
  {
   "cell_type": "code",
   "execution_count": 5,
   "id": "e0829796",
   "metadata": {},
   "outputs": [
    {
     "name": "stdout",
     "output_type": "stream",
     "text": [
      "The first 23 terms of the Fibonacci sequence are:\n",
      "[0, 1, 1, 2, 3, 5, 8, 13, 21, 34, 55, 89, 144, 233, 377, 610, 987, 1597, 2584, 4181, 6765, 10946, 17711]\n"
     ]
    }
   ],
   "source": [
    "# Function to generate Fibonacci sequence\n",
    "def fibonacci_sequence(n):\n",
    "    fib_sequence = []\n",
    "    a, b = 0, 1\n",
    "    for _ in range(n):\n",
    "        fib_sequence.append(a)\n",
    "        a, b = b, a + b\n",
    "    return fib_sequence\n",
    "\n",
    "# Take input from the user\n",
    "num_terms = int(input(\"Enter the number of terms in the Fibonacci sequence: \"))\n",
    "\n",
    "# Check if the input is valid\n",
    "if num_terms <= 0:\n",
    "    print(\"Please enter a positive integer.\")\n",
    "else:\n",
    "    # Get the Fibonacci sequence and print it\n",
    "    fib_seq = fibonacci_sequence(num_terms)\n",
    "    print(f\"The first {num_terms} terms of the Fibonacci sequence are:\")\n",
    "    print(fib_seq)"
   ]
  },
  {
   "cell_type": "markdown",
   "id": "a8fb8527",
   "metadata": {},
   "source": [
    "6. Write a Python program to find the factorial of a given number. Take input from user.\n"
   ]
  },
  {
   "cell_type": "code",
   "execution_count": 6,
   "id": "414b239f",
   "metadata": {},
   "outputs": [
    {
     "name": "stdout",
     "output_type": "stream",
     "text": [
      "The factorial of 73 is 4470115461512684340891257138125051110076800700282905015819080092370422104067183317016903680000000000000000.\n"
     ]
    }
   ],
   "source": [
    "# Function to calculate factorial\n",
    "def factorial(n):\n",
    "    if n == 0 or n == 1:\n",
    "        return 1\n",
    "    else:\n",
    "        return n * factorial(n - 1)\n",
    "\n",
    "# Take input from the user\n",
    "num = int(input(\"Enter a number to find its factorial: \"))\n",
    "\n",
    "# Check if the input is a non-negative integer\n",
    "if num < 0:\n",
    "    print(\"Factorial is not defined for negative numbers.\")\n",
    "else:\n",
    "    # Calculate the factorial\n",
    "    fact = factorial(num)\n",
    "    # Print the result\n",
    "    print(f\"The factorial of {num} is {fact}.\")"
   ]
  },
  {
   "cell_type": "markdown",
   "id": "127b02cb",
   "metadata": {},
   "source": [
    "7. Write a Python program to check if a given string is a palindrome or not. Take input from user.\n"
   ]
  },
  {
   "cell_type": "code",
   "execution_count": 7,
   "id": "9b990341",
   "metadata": {},
   "outputs": [
    {
     "name": "stdout",
     "output_type": "stream",
     "text": [
      "'lkjlkjl' is not a palindrome.\n"
     ]
    }
   ],
   "source": [
    "# Function to check if a string is a palindrome\n",
    "def is_palindrome(s):\n",
    "    # Remove any spaces and convert the string to lowercase for uniformity\n",
    "    s = s.replace(\" \", \"\").lower()\n",
    "    # Check if the string reads the same forwards and backwards\n",
    "    return s == s[::-1]\n",
    "\n",
    "# Take input from the user\n",
    "user_input = input(\"Enter a string to check if it's a palindrome: \")\n",
    "\n",
    "# Check if the string is a palindrome\n",
    "if is_palindrome(user_input):\n",
    "    print(f\"'{user_input}' is a palindrome.\")\n",
    "else:\n",
    "    print(f\"'{user_input}' is not a palindrome.\")"
   ]
  },
  {
   "cell_type": "markdown",
   "id": "67c3f2ab",
   "metadata": {},
   "source": [
    "8. Write a Python program to find the largest element in the following list.\n",
    "\n",
    "my_list = [3, 5, 2, 8, 1, 9, 7]\n"
   ]
  },
  {
   "cell_type": "code",
   "execution_count": 8,
   "id": "bf3cf614",
   "metadata": {},
   "outputs": [
    {
     "name": "stdout",
     "output_type": "stream",
     "text": [
      "The largest element in the list is: 9\n"
     ]
    }
   ],
   "source": [
    "# Define the list\n",
    "my_list = [3, 5, 2, 8, 1, 9, 7]\n",
    "\n",
    "# Find the largest element using the max() function\n",
    "largest_element = max(my_list)\n",
    "\n",
    "# Print the largest element\n",
    "print(\"The largest element in the list is:\", largest_element)"
   ]
  },
  {
   "cell_type": "markdown",
   "id": "04207649",
   "metadata": {},
   "source": [
    "9. Write a Python program to find the sum of digits of a given number.\n"
   ]
  },
  {
   "cell_type": "code",
   "execution_count": 9,
   "id": "3dca67e3",
   "metadata": {},
   "outputs": [
    {
     "name": "stdout",
     "output_type": "stream",
     "text": [
      "The sum of the digits is: 24\n"
     ]
    }
   ],
   "source": [
    "# Take input from the user\n",
    "number = int(input(\"Enter a number: \"))\n",
    "\n",
    "# Initialize a variable to store the sum of digits\n",
    "sum_of_digits = 0\n",
    "\n",
    "# Loop through each digit in the number\n",
    "while number > 0:\n",
    "    digit = number % 10  # Get the last digit\n",
    "    sum_of_digits += digit  # Add the digit to the sum\n",
    "    number = number // 10  # Remove the last digit\n",
    "\n",
    "# Print the sum of digits\n",
    "print(\"The sum of the digits is:\", sum_of_digits)"
   ]
  },
  {
   "cell_type": "markdown",
   "id": "c6071db8",
   "metadata": {},
   "source": [
    "10. Write a Python program to count the number of vowels in a given string. Take input from user."
   ]
  },
  {
   "cell_type": "code",
   "execution_count": 10,
   "id": "7e707a24",
   "metadata": {},
   "outputs": [
    {
     "name": "stdout",
     "output_type": "stream",
     "text": [
      "The number of vowels in the string is: 0\n"
     ]
    }
   ],
   "source": [
    "# Take input from the user\n",
    "user_string = input(\"Enter a string: \")\n",
    "\n",
    "# Define a set of vowels\n",
    "vowels = \"aeiouAEIOU\"\n",
    "\n",
    "# Initialize a counter for vowels\n",
    "vowel_count = 0\n",
    "\n",
    "# Loop through each character in the string\n",
    "for char in user_string:\n",
    "    if char in vowels:\n",
    "        vowel_count += 1\n",
    "\n",
    "# Print the number of vowels\n",
    "print(\"The number of vowels in the string is:\", vowel_count)"
   ]
  },
  {
   "cell_type": "markdown",
   "id": "bb6de83e",
   "metadata": {},
   "source": [
    "11. Write a Python program to sort a list of integers in ascending order.\n",
    "\n",
    "my_list = [3, 5, 2, 8, 1, 9, 7]"
   ]
  },
  {
   "cell_type": "code",
   "execution_count": 11,
   "id": "c6ba2309",
   "metadata": {},
   "outputs": [
    {
     "name": "stdout",
     "output_type": "stream",
     "text": [
      "Sorted list in ascending order: [1, 2, 3, 5, 7, 8, 9]\n"
     ]
    }
   ],
   "source": [
    "# Define the list of integers\n",
    "my_list = [3, 5, 2, 8, 1, 9, 7]\n",
    "\n",
    "# Sort the list in ascending order\n",
    "my_list.sort()\n",
    "\n",
    "# Print the sorted list\n",
    "print(\"Sorted list in ascending order:\", my_list)\n"
   ]
  },
  {
   "cell_type": "markdown",
   "id": "8de4ce30",
   "metadata": {},
   "source": [
    "12. Write a Python program to check if a given list is sorted in ascending order. Take input from user separated by comma.\n"
   ]
  },
  {
   "cell_type": "code",
   "execution_count": 12,
   "id": "1df783fc",
   "metadata": {},
   "outputs": [
    {
     "name": "stdout",
     "output_type": "stream",
     "text": [
      "The list is sorted in ascending order.\n"
     ]
    }
   ],
   "source": [
    "def is_sorted_ascending(lst):\n",
    "    # Check if the list is sorted in ascending order\n",
    "    return lst == sorted(lst)\n",
    "\n",
    "# Take input from user\n",
    "user_input = input(\"Enter numbers separated by commas: \")\n",
    "\n",
    "# Convert the input string to a list of integers\n",
    "try:\n",
    "    # Split the input string by commas and convert each element to an integer\n",
    "    num_list = [int(x.strip()) for x in user_input.split(',')]\n",
    "    \n",
    "    # Check if the list is sorted in ascending order\n",
    "    if is_sorted_ascending(num_list):\n",
    "        print(\"The list is sorted in ascending order.\")\n",
    "    else:\n",
    "        print(\"The list is not sorted in ascending order.\")\n",
    "except ValueError:\n",
    "    print(\"Invalid input. Please enter numbers separated by commas.\")"
   ]
  },
  {
   "cell_type": "markdown",
   "id": "548c8ac9",
   "metadata": {},
   "source": [
    "13. Write a Python program to find the second largest element in a list. Take input from user separated by comma."
   ]
  },
  {
   "cell_type": "code",
   "execution_count": 13,
   "id": "f7342951",
   "metadata": {},
   "outputs": [
    {
     "name": "stdout",
     "output_type": "stream",
     "text": [
      "The second largest element is: 23\n"
     ]
    }
   ],
   "source": [
    "def find_second_largest(lst):\n",
    "    # Remove duplicates by converting the list to a set and then back to a list\n",
    "    unique_lst = list(set(lst))\n",
    "    \n",
    "    # Check if there are less than two unique elements\n",
    "    if len(unique_lst) < 2:\n",
    "        return None\n",
    "    \n",
    "    # Sort the list in descending order\n",
    "    unique_lst.sort(reverse=True)\n",
    "    \n",
    "    # Return the second largest element\n",
    "    return unique_lst[1]\n",
    "\n",
    "# Take input from user\n",
    "user_input = input(\"Enter numbers separated by commas: \")\n",
    "\n",
    "# Convert the input string to a list of integers\n",
    "try:\n",
    "    # Split the input string by commas and convert each element to an integer\n",
    "    num_list = [int(x.strip()) for x in user_input.split(',')]\n",
    "    \n",
    "    # Find the second largest element\n",
    "    second_largest = find_second_largest(num_list)\n",
    "    \n",
    "    if second_largest is not None:\n",
    "        print(f\"The second largest element is: {second_largest}\")\n",
    "    else:\n",
    "        print(\"There are not enough unique elements to determine the second largest.\")\n",
    "except ValueError:\n",
    "    print(\"Invalid input. Please enter numbers separated by commas.\")"
   ]
  },
  {
   "cell_type": "markdown",
   "id": "c02252ef",
   "metadata": {},
   "source": [
    "14. Write a Python program to find all prime numbers between 1 and 100.\n"
   ]
  },
  {
   "cell_type": "code",
   "execution_count": 14,
   "id": "f4673703",
   "metadata": {},
   "outputs": [
    {
     "name": "stdout",
     "output_type": "stream",
     "text": [
      "Prime numbers between 1 and 100 are: [2, 3, 5, 7, 11, 13, 17, 19, 23, 29, 31, 37, 41, 43, 47, 53, 59, 61, 67, 71, 73, 79, 83, 89, 97]\n"
     ]
    }
   ],
   "source": [
    "def is_prime(num):\n",
    "    \"\"\"Check if a number is prime.\"\"\"\n",
    "    if num <= 1:\n",
    "        return False\n",
    "    if num <= 3:\n",
    "        return True\n",
    "    if num % 2 == 0 or num % 3 == 0:\n",
    "        return False\n",
    "    i = 5\n",
    "    while i * i <= num:\n",
    "        if num % i == 0 or num % (i + 2) == 0:\n",
    "            return False\n",
    "        i += 6\n",
    "    return True\n",
    "\n",
    "def find_primes_in_range(start, end):\n",
    "    \"\"\"Find all prime numbers in a given range.\"\"\"\n",
    "    primes = []\n",
    "    for num in range(start, end + 1):\n",
    "        if is_prime(num):\n",
    "            primes.append(num)\n",
    "    return primes\n",
    "\n",
    "# Define the range\n",
    "start = 1\n",
    "end = 100\n",
    "\n",
    "# Find and print all prime numbers between 1 and 100\n",
    "prime_numbers = find_primes_in_range(start, end)\n",
    "print(f\"Prime numbers between {start} and {end} are: {prime_numbers}\")"
   ]
  },
  {
   "cell_type": "markdown",
   "id": "16d84efa",
   "metadata": {},
   "source": [
    "15. Write a Python program to find the GCD (Greatest Common Divisor) of two numbers.\n"
   ]
  },
  {
   "cell_type": "code",
   "execution_count": 15,
   "id": "54c4e9aa",
   "metadata": {},
   "outputs": [
    {
     "name": "stdout",
     "output_type": "stream",
     "text": [
      "The GCD of 52 and 69 is: 1\n"
     ]
    }
   ],
   "source": [
    "def gcd(a, b):\n",
    "    \"\"\"Compute the GCD of two numbers using the Euclidean algorithm.\"\"\"\n",
    "    while b:\n",
    "        a, b = b, a % b\n",
    "    return a\n",
    "\n",
    "# Take input from the user\n",
    "num1 = int(input(\"Enter the first number: \"))\n",
    "num2 = int(input(\"Enter the second number: \"))\n",
    "\n",
    "# Find and print the GCD\n",
    "result = gcd(num1, num2)\n",
    "print(f\"The GCD of {num1} and {num2} is: {result}\")"
   ]
  },
  {
   "cell_type": "markdown",
   "id": "2dff5d1d",
   "metadata": {},
   "source": [
    "16. Write a Python program to implement binary search to find a number 16 on the following sorted list.\n",
    "\n",
    "sorted_list = [2, 5, 8, 12, 16, 23, 38, 56, 72, 91]"
   ]
  },
  {
   "cell_type": "code",
   "execution_count": 16,
   "id": "1326a376",
   "metadata": {},
   "outputs": [
    {
     "name": "stdout",
     "output_type": "stream",
     "text": [
      "Number 16 found at index 4.\n"
     ]
    }
   ],
   "source": [
    "def binary_search(sorted_list, target):\n",
    "    \"\"\"Perform binary search to find the target in sorted_list.\"\"\"\n",
    "    left, right = 0, len(sorted_list) - 1\n",
    "    \n",
    "    while left <= right:\n",
    "        mid = (left + right) // 2\n",
    "        mid_value = sorted_list[mid]\n",
    "        \n",
    "        if mid_value == target:\n",
    "            return mid  # Target found at index `mid`\n",
    "        elif mid_value < target:\n",
    "            left = mid + 1  # Search in the right half\n",
    "        else:\n",
    "            right = mid - 1  # Search in the left half\n",
    "    \n",
    "    return -1  # Target not found\n",
    "\n",
    "# Given sorted list\n",
    "sorted_list = [2, 5, 8, 12, 16, 23, 38, 56, 72, 91]\n",
    "\n",
    "# Number to search\n",
    "target = 16\n",
    "\n",
    "# Perform binary search\n",
    "index = binary_search(sorted_list, target)\n",
    "\n",
    "# Print the result\n",
    "if index != -1:\n",
    "    print(f\"Number {target} found at index {index}.\")\n",
    "else:\n",
    "    print(f\"Number {target} not found in the list.\")"
   ]
  }
 ],
 "metadata": {
  "kernelspec": {
   "display_name": "Python 3 (ipykernel)",
   "language": "python",
   "name": "python3"
  },
  "language_info": {
   "codemirror_mode": {
    "name": "ipython",
    "version": 3
   },
   "file_extension": ".py",
   "mimetype": "text/x-python",
   "name": "python",
   "nbconvert_exporter": "python",
   "pygments_lexer": "ipython3",
   "version": "3.12.3"
  }
 },
 "nbformat": 4,
 "nbformat_minor": 5
}
