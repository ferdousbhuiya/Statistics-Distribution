{
 "cells": [
  {
   "cell_type": "markdown",
   "id": "adb1f132",
   "metadata": {},
   "source": [
    "## Built-in Function"
   ]
  },
  {
   "cell_type": "markdown",
   "id": "23bcfa5f",
   "metadata": {},
   "source": [
    "Q1. Write a Python program that takes a string and returns it in uppercase."
   ]
  },
  {
   "cell_type": "code",
   "execution_count": 1,
   "id": "ffa8d907",
   "metadata": {},
   "outputs": [
    {
     "name": "stdout",
     "output_type": "stream",
     "text": [
      "Uppercase string: JHJHGJH\n"
     ]
    }
   ],
   "source": [
    "# Function to convert a string to uppercase\n",
    "def convert_to_uppercase(input_string):\n",
    "    return input_string.upper()\n",
    "\n",
    "# Take input from the user\n",
    "user_input = input(\"Enter a string: \")\n",
    "\n",
    "# Convert the string to uppercase\n",
    "uppercase_string = convert_to_uppercase(user_input)\n",
    "\n",
    "# Print the result\n",
    "print(\"Uppercase string:\", uppercase_string)\n"
   ]
  },
  {
   "cell_type": "markdown",
   "id": "0accbb68",
   "metadata": {},
   "source": [
    "Q2. Write a Python program that sorts a list of strings in alphabetical order."
   ]
  },
  {
   "cell_type": "code",
   "execution_count": 2,
   "id": "3cf1efac",
   "metadata": {},
   "outputs": [
    {
     "name": "stdout",
     "output_type": "stream",
     "text": [
      "Sorted list: ['apple', 'banana', 'cherry', 'date', 'elderberry', 'fig']\n"
     ]
    }
   ],
   "source": [
    "# Function to sort a list of strings in alphabetical order\n",
    "def sort_strings_alphabetically(string_list):\n",
    "    return sorted(string_list)\n",
    "\n",
    "# Example list of strings\n",
    "my_strings = [\"banana\", \"apple\", \"cherry\", \"date\", \"fig\", \"elderberry\"]\n",
    "\n",
    "# Sort the list\n",
    "sorted_strings = sort_strings_alphabetically(my_strings)\n",
    "\n",
    "# Print the sorted list\n",
    "print(\"Sorted list:\", sorted_strings)\n"
   ]
  },
  {
   "cell_type": "markdown",
   "id": "c0e4f780",
   "metadata": {},
   "source": [
    "Q3. Create a Python program that combines two lists of equal length into a dictionary."
   ]
  },
  {
   "cell_type": "code",
   "execution_count": 3,
   "id": "54ddfa05",
   "metadata": {},
   "outputs": [
    {
     "name": "stdout",
     "output_type": "stream",
     "text": [
      "Combined dictionary: {'a': 1, 'b': 2, 'c': 3, 'd': 4}\n"
     ]
    }
   ],
   "source": [
    "# Function to combine two lists into a dictionary\n",
    "def combine_lists_to_dict(keys, values):\n",
    "    # Use the zip function to pair elements and create a dictionary\n",
    "    return dict(zip(keys, values))\n",
    "\n",
    "# Example lists\n",
    "list1 = ['a', 'b', 'c', 'd']\n",
    "list2 = [1, 2, 3, 4]\n",
    "\n",
    "# Combine the lists into a dictionary\n",
    "result_dict = combine_lists_to_dict(list1, list2)\n",
    "\n",
    "# Print the resulting dictionary\n",
    "print(\"Combined dictionary:\", result_dict)\n"
   ]
  },
  {
   "cell_type": "markdown",
   "id": "76107bda",
   "metadata": {},
   "source": [
    "Q4. Write a function to find the smallest number in a list of integers."
   ]
  },
  {
   "cell_type": "code",
   "execution_count": 4,
   "id": "919b33ca",
   "metadata": {},
   "outputs": [
    {
     "name": "stdout",
     "output_type": "stream",
     "text": [
      "The smallest number in the list is: 1\n"
     ]
    }
   ],
   "source": [
    "def find_smallest_number(numbers):\n",
    "    # Check if the list is empty\n",
    "    if not numbers:\n",
    "        return None  # Return None if the list is empty\n",
    "\n",
    "    # Initialize the smallest number with the first element of the list\n",
    "    smallest = numbers[0]\n",
    "\n",
    "    # Iterate through the list and compare each number\n",
    "    for number in numbers:\n",
    "        if number < smallest:\n",
    "            smallest = number\n",
    "\n",
    "    return smallest\n",
    "\n",
    "# Example usage\n",
    "my_list = [3, 5, 2, 8, 1, 9, 7]\n",
    "smallest_number = find_smallest_number(my_list)\n",
    "print(\"The smallest number in the list is:\", smallest_number)\n"
   ]
  },
  {
   "cell_type": "markdown",
   "id": "befb3585",
   "metadata": {},
   "source": [
    "Q5.Write a function to check if any element in a list is greater than 10."
   ]
  },
  {
   "cell_type": "code",
   "execution_count": 5,
   "id": "0a51eefc",
   "metadata": {},
   "outputs": [
    {
     "name": "stdout",
     "output_type": "stream",
     "text": [
      "Is any element in the list greater than 10? True\n"
     ]
    }
   ],
   "source": [
    "def is_any_element_greater_than_10(numbers):\n",
    "    # Iterate through the list and check each element\n",
    "    for number in numbers:\n",
    "        if number > 10:\n",
    "            return True  # Return True as soon as a number greater than 10 is found\n",
    "    \n",
    "    return False  # Return False if no number greater than 10 is found\n",
    "\n",
    "# Example usage\n",
    "my_list = [3, 5, 2, 8, 12, 7]\n",
    "result = is_any_element_greater_than_10(my_list)\n",
    "print(\"Is any element in the list greater than 10?\", result)\n"
   ]
  },
  {
   "cell_type": "markdown",
   "id": "981507c4",
   "metadata": {},
   "source": [
    "### User Defined Functions"
   ]
  },
  {
   "cell_type": "markdown",
   "id": "454e7143",
   "metadata": {},
   "source": [
    "Q6. Create a function called `fibonacci` that returns the nth Fibonacci number."
   ]
  },
  {
   "cell_type": "code",
   "execution_count": 6,
   "id": "f2139076",
   "metadata": {
    "scrolled": true
   },
   "outputs": [
    {
     "name": "stdout",
     "output_type": "stream",
     "text": [
      "The 10th Fibonacci number is: 34\n"
     ]
    }
   ],
   "source": [
    "def fibonacci(n):\n",
    "    # Handle the base cases\n",
    "    if n <= 0:\n",
    "        return \"Input should be a positive integer.\"\n",
    "    elif n == 1:\n",
    "        return 0\n",
    "    elif n == 2:\n",
    "        return 1\n",
    "    \n",
    "    # Initialize the first two Fibonacci numbers\n",
    "    a, b = 0, 1\n",
    "    \n",
    "    # Compute the nth Fibonacci number\n",
    "    for _ in range(3, n + 1):\n",
    "        a, b = b, a + b\n",
    "    \n",
    "    return b\n",
    "\n",
    "# Example usage\n",
    "n = 10\n",
    "result = fibonacci(n)\n",
    "print(f\"The {n}th Fibonacci number is: {result}\")\n"
   ]
  },
  {
   "cell_type": "markdown",
   "id": "7b92eebc",
   "metadata": {},
   "source": [
    "Q7. Write a function called `palindrome` that checks if a given string is a palindrome."
   ]
  },
  {
   "cell_type": "code",
   "execution_count": 7,
   "id": "4db294a0",
   "metadata": {},
   "outputs": [
    {
     "name": "stdout",
     "output_type": "stream",
     "text": [
      "'A man a plan a canal Panama' is a palindrome.\n"
     ]
    }
   ],
   "source": [
    "def palindrome(s):\n",
    "    # Remove any spaces and convert the string to lowercase\n",
    "    s = s.replace(\" \", \"\").lower()\n",
    "    \n",
    "    # Check if the string is equal to its reverse\n",
    "    return s == s[::-1]\n",
    "\n",
    "# Example usage\n",
    "input_string = \"A man a plan a canal Panama\"\n",
    "if palindrome(input_string):\n",
    "    print(f\"'{input_string}' is a palindrome.\")\n",
    "else:\n",
    "    print(f\"'{input_string}' is not a palindrome.\")\n"
   ]
  },
  {
   "cell_type": "markdown",
   "id": "8ff69ef6",
   "metadata": {},
   "source": [
    "Q8. Create a function called `merge_dicts` that merges two dictionaries."
   ]
  },
  {
   "cell_type": "code",
   "execution_count": 8,
   "id": "d3aac7f1",
   "metadata": {},
   "outputs": [
    {
     "name": "stdout",
     "output_type": "stream",
     "text": [
      "{'a': 1, 'b': 3, 'c': 4}\n"
     ]
    }
   ],
   "source": [
    "def merge_dicts(dict1, dict2):\n",
    "    # Create a new dictionary that contains all items from both dictionaries\n",
    "    merged_dict = dict1.copy()  # Start with a copy of the first dictionary\n",
    "    merged_dict.update(dict2)   # Add items from the second dictionary\n",
    "\n",
    "    return merged_dict\n",
    "\n",
    "# Example usage\n",
    "dict1 = {'a': 1, 'b': 2}\n",
    "dict2 = {'b': 3, 'c': 4}\n",
    "\n",
    "result = merge_dicts(dict1, dict2)\n",
    "print(result)\n"
   ]
  },
  {
   "cell_type": "markdown",
   "id": "541bf381",
   "metadata": {},
   "source": [
    "### Map Function"
   ]
  },
  {
   "cell_type": "markdown",
   "id": "0b4baf14",
   "metadata": {},
   "source": [
    "Q9. Write a Python program that uses `map()` to convert a list of strings to integers."
   ]
  },
  {
   "cell_type": "code",
   "execution_count": 9,
   "id": "04a67ec8",
   "metadata": {},
   "outputs": [
    {
     "name": "stdout",
     "output_type": "stream",
     "text": [
      "[1, 2, 3, 4, 5]\n"
     ]
    }
   ],
   "source": [
    "# Define a list of strings\n",
    "str_list = [\"1\", \"2\", \"3\", \"4\", \"5\"]\n",
    "\n",
    "# Use map() to convert each string in the list to an integer\n",
    "int_list = list(map(int, str_list))\n",
    "\n",
    "# Print the resulting list of integers\n",
    "print(int_list)\n"
   ]
  },
  {
   "cell_type": "markdown",
   "id": "e019180d",
   "metadata": {},
   "source": [
    "Q10. Write a Python program that uses `map()` to apply a lambda function that doubles each number in a list."
   ]
  },
  {
   "cell_type": "code",
   "execution_count": 10,
   "id": "1bec5e20",
   "metadata": {},
   "outputs": [
    {
     "name": "stdout",
     "output_type": "stream",
     "text": [
      "[2, 4, 6, 8, 10]\n"
     ]
    }
   ],
   "source": [
    "# Define a list of numbers\n",
    "numbers = [1, 2, 3, 4, 5]\n",
    "\n",
    "# Use map() with a lambda function to double each number\n",
    "doubled_numbers = list(map(lambda x: x * 2, numbers))\n",
    "\n",
    "# Print the resulting list of doubled numbers\n",
    "print(doubled_numbers)\n"
   ]
  },
  {
   "cell_type": "markdown",
   "id": "392c5e11",
   "metadata": {},
   "source": [
    "### Lambda Function"
   ]
  },
  {
   "cell_type": "markdown",
   "id": "b1fbcdb4",
   "metadata": {},
   "source": [
    "Q11. Write a lambda function that returns the square of a number."
   ]
  },
  {
   "cell_type": "code",
   "execution_count": 11,
   "id": "cbfdd2be",
   "metadata": {},
   "outputs": [
    {
     "name": "stdout",
     "output_type": "stream",
     "text": [
      "16\n",
      "49\n"
     ]
    }
   ],
   "source": [
    "# Lambda function to return the square of a number\n",
    "square = lambda x: x ** 2\n",
    "\n",
    "# Example usage\n",
    "print(square(4))  # Output: 16\n",
    "print(square(7))  # Output: 49\n"
   ]
  },
  {
   "cell_type": "markdown",
   "id": "1d5530b5",
   "metadata": {},
   "source": [
    "Q12. Define a function which uses a lambda function to sort a list of tuples by the second value."
   ]
  },
  {
   "cell_type": "code",
   "execution_count": 12,
   "id": "9a8297fb",
   "metadata": {},
   "outputs": [
    {
     "name": "stdout",
     "output_type": "stream",
     "text": [
      "[(2, 1), (4, 2), (1, 3)]\n"
     ]
    }
   ],
   "source": [
    "def sort_by_second_value(tuples_list):\n",
    "    # Use sorted() with a lambda function as the key\n",
    "    return sorted(tuples_list, key=lambda x: x[1])\n",
    "\n",
    "# Example usage\n",
    "tuples_list = [(1, 3), (2, 1), (4, 2)]\n",
    "sorted_list = sort_by_second_value(tuples_list)\n",
    "\n",
    "print(sorted_list)  # Output: [(2, 1), (4, 2), (1, 3)]\n"
   ]
  },
  {
   "cell_type": "markdown",
   "id": "148c4b53",
   "metadata": {},
   "source": [
    "### Filter Function"
   ]
  },
  {
   "cell_type": "markdown",
   "id": "74fc6eef",
   "metadata": {},
   "source": [
    "Q13. Use the `filter()` function to extract even numbers from a list of integers."
   ]
  },
  {
   "cell_type": "code",
   "execution_count": 13,
   "id": "3ad6c6f7",
   "metadata": {},
   "outputs": [
    {
     "name": "stdout",
     "output_type": "stream",
     "text": [
      "[2, 4, 6, 8, 10]\n"
     ]
    }
   ],
   "source": [
    "def extract_even_numbers(numbers):\n",
    "    # Use filter() with a lambda function to keep only even numbers\n",
    "    return list(filter(lambda x: x % 2 == 0, numbers))\n",
    "\n",
    "# Example usage\n",
    "numbers = [1, 2, 3, 4, 5, 6, 7, 8, 9, 10]\n",
    "even_numbers = extract_even_numbers(numbers)\n",
    "\n",
    "print(even_numbers)  # Output: [2, 4, 6, 8, 10]\n"
   ]
  },
  {
   "cell_type": "markdown",
   "id": "ed7e74ac",
   "metadata": {},
   "source": [
    "Q14. Write a Python program to select words from a list that are longer than 5 characters."
   ]
  },
  {
   "cell_type": "code",
   "execution_count": 14,
   "id": "56e9d928",
   "metadata": {},
   "outputs": [
    {
     "name": "stdout",
     "output_type": "stream",
     "text": [
      "['banana', 'cherry', 'elderberry']\n"
     ]
    }
   ],
   "source": [
    "def filter_long_words(words):\n",
    "    # Use filter() with a lambda function to select words longer than 5 characters\n",
    "    return list(filter(lambda word: len(word) > 5, words))\n",
    "\n",
    "# Example usage\n",
    "words_list = [\"apple\", \"banana\", \"cherry\", \"date\", \"elderberry\", \"fig\", \"grape\"]\n",
    "long_words = filter_long_words(words_list)\n",
    "\n",
    "print(long_words)  # Output: ['banana', 'cherry', 'elderberry']\n"
   ]
  },
  {
   "cell_type": "markdown",
   "id": "517b6625",
   "metadata": {},
   "source": [
    "## Reduce Function"
   ]
  },
  {
   "cell_type": "markdown",
   "id": "0f196ad5",
   "metadata": {},
   "source": [
    "Q15. Find the product of all elements in a list."
   ]
  },
  {
   "cell_type": "code",
   "execution_count": 15,
   "id": "5a65be36",
   "metadata": {},
   "outputs": [
    {
     "name": "stdout",
     "output_type": "stream",
     "text": [
      "120\n"
     ]
    }
   ],
   "source": [
    "def product_of_elements(numbers):\n",
    "    product = 1\n",
    "    for number in numbers:\n",
    "        product *= number\n",
    "    return product\n",
    "\n",
    "# Example usage\n",
    "numbers_list = [1, 2, 3, 4, 5]\n",
    "result = product_of_elements(numbers_list)\n",
    "\n",
    "print(result)  # Output: 120\n"
   ]
  },
  {
   "cell_type": "code",
   "execution_count": 16,
   "id": "6e9375be",
   "metadata": {},
   "outputs": [
    {
     "name": "stdout",
     "output_type": "stream",
     "text": [
      "120\n"
     ]
    }
   ],
   "source": [
    "from functools import reduce\n",
    "import operator\n",
    "\n",
    "def product_of_elements(numbers):\n",
    "    return reduce(operator.mul, numbers, 1)\n",
    "\n",
    "# Example usage\n",
    "numbers_list = [1, 2, 3, 4, 5]\n",
    "result = product_of_elements(numbers_list)\n",
    "\n",
    "print(result)  # Output: 120\n"
   ]
  },
  {
   "cell_type": "markdown",
   "id": "b41965d1",
   "metadata": {},
   "source": [
    "Q16. Write a `reduce()` function that takes a list of strings and concatenates them, but only if the string length is greater than 3."
   ]
  },
  {
   "cell_type": "code",
   "execution_count": 17,
   "id": "85828a4e",
   "metadata": {},
   "outputs": [
    {
     "name": "stdout",
     "output_type": "stream",
     "text": [
      "helloworldthistest\n"
     ]
    }
   ],
   "source": [
    "from functools import reduce\n",
    "\n",
    "def concatenate_long_strings(strings):\n",
    "    # Use reduce to concatenate strings, only if their length is greater than 3\n",
    "    return reduce(lambda acc, s: acc + s if len(s) > 3 else acc, strings, '')\n",
    "\n",
    "# Example usage\n",
    "string_list = ['hi', 'hello', 'world', 'this', 'is', 'a', 'test']\n",
    "result = concatenate_long_strings(string_list)\n",
    "\n",
    "print(result)  # Output: 'helloworldthis'\n"
   ]
  },
  {
   "cell_type": "markdown",
   "id": "7018e07c",
   "metadata": {},
   "source": [
    "### More Challenges!"
   ]
  },
  {
   "cell_type": "markdown",
   "id": "c72b36af",
   "metadata": {},
   "source": [
    "Q17. Write a Python program that uses a lambda function inside the `sorted()` function to sort a list of dictionaries by multiple keys (e.g., sort by age and then by name).\n",
    "\n",
    "people = [\n",
    "    {\"name\": \"Alice\", \"age\": 25},\n",
    "    {\"name\": \"Bob\", \"age\": 30},\n",
    "    {\"name\": \"Charlie\", \"age\": 20},\n",
    "    {\"name\": \"David\", \"age\": 25}\n",
    "]"
   ]
  },
  {
   "cell_type": "code",
   "execution_count": 18,
   "id": "fdd180b8",
   "metadata": {},
   "outputs": [
    {
     "name": "stdout",
     "output_type": "stream",
     "text": [
      "[{'name': 'Charlie', 'age': 20}, {'name': 'Alice', 'age': 25}, {'name': 'David', 'age': 25}, {'name': 'Bob', 'age': 30}]\n"
     ]
    }
   ],
   "source": [
    "people = [\n",
    "    {\"name\": \"Alice\", \"age\": 25},\n",
    "    {\"name\": \"Bob\", \"age\": 30},\n",
    "    {\"name\": \"Charlie\", \"age\": 20},\n",
    "    {\"name\": \"David\", \"age\": 25}\n",
    "]\n",
    "\n",
    "# Sort by age first, and then by name\n",
    "sorted_people = sorted(people, key=lambda person: (person['age'], person['name']))\n",
    "\n",
    "print(sorted_people)"
   ]
  },
  {
   "cell_type": "markdown",
   "id": "84c90dde",
   "metadata": {},
   "source": [
    "Q18. Implement a pipeline of functions (using `map()` and `filter()`) to process a list of integers by first squaring them, then filtering out the squares that are not divisible by 5."
   ]
  },
  {
   "cell_type": "code",
   "execution_count": 19,
   "id": "645cc28b",
   "metadata": {},
   "outputs": [
    {
     "name": "stdout",
     "output_type": "stream",
     "text": [
      "[25, 100]\n"
     ]
    }
   ],
   "source": [
    "# Sample list of integers\n",
    "numbers = [1, 2, 3, 4, 5, 6, 7, 8, 9, 10]\n",
    "\n",
    "# Step 1: Square each number using map\n",
    "squared_numbers = map(lambda x: x ** 2, numbers)\n",
    "\n",
    "# Step 2: Filter out the squares that are not divisible by 5\n",
    "filtered_squares = filter(lambda x: x % 5 == 0, squared_numbers)\n",
    "\n",
    "# Convert the result to a list and print it\n",
    "result = list(filtered_squares)\n",
    "print(result)\n"
   ]
  },
  {
   "cell_type": "markdown",
   "id": "ec91ec16",
   "metadata": {},
   "source": [
    "Q19. Write a Python program that filters out all prime numbers from a list of integers using the `filter()` function and a user-defined function `is_prime()` that checks if a number is prime."
   ]
  },
  {
   "cell_type": "code",
   "execution_count": 20,
   "id": "6974b63b",
   "metadata": {},
   "outputs": [
    {
     "name": "stdout",
     "output_type": "stream",
     "text": [
      "[23, 41, 53, 71]\n"
     ]
    }
   ],
   "source": [
    "# Define the function to check if a number is prime\n",
    "def is_prime(n):\n",
    "    if n <= 1:\n",
    "        return False\n",
    "    if n <= 3:\n",
    "        return True\n",
    "    if n % 2 == 0 or n % 3 == 0:\n",
    "        return False\n",
    "    i = 5\n",
    "    while i * i <= n:\n",
    "        if n % i == 0 or n % (i + 2) == 0:\n",
    "            return False\n",
    "        i += 6\n",
    "    return True\n",
    "\n",
    "# Sample list of integers\n",
    "numbers = [10, 23, 36, 41, 50, 53, 60, 71]\n",
    "\n",
    "# Use filter to keep only prime numbers\n",
    "prime_numbers = filter(is_prime, numbers)\n",
    "\n",
    "# Convert the result to a list and print it\n",
    "prime_numbers_list = list(prime_numbers)\n",
    "print(prime_numbers_list)"
   ]
  },
  {
   "cell_type": "markdown",
   "id": "e956bd2a",
   "metadata": {},
   "source": [
    "Q20. Create a Python program that uses nested lambda functions to implement a simple calculator that can add, subtract, multiply, and divide."
   ]
  },
  {
   "cell_type": "code",
   "execution_count": 21,
   "id": "1c2e32b4",
   "metadata": {},
   "outputs": [
    {
     "name": "stdout",
     "output_type": "stream",
     "text": [
      "Result: 103.0\n"
     ]
    }
   ],
   "source": [
    "# Define the calculator function using nested lambda functions\n",
    "calculator = lambda op: (lambda x, y: {\n",
    "    'add': lambda: x + y,\n",
    "    'subtract': lambda: x - y,\n",
    "    'multiply': lambda: x * y,\n",
    "    'divide': lambda: x / y if y != 0 else 'Error: Division by zero'\n",
    "}[op]()) \n",
    "\n",
    "# User input for the operation\n",
    "operation = input(\"Enter operation (add, subtract, multiply, divide): \").strip().lower()\n",
    "# User input for the numbers\n",
    "x = float(input(\"Enter the first number: \"))\n",
    "y = float(input(\"Enter the second number: \"))\n",
    "\n",
    "# Call the calculator with the user inputs and print the result\n",
    "result = calculator(operation)(x, y)\n",
    "print(\"Result:\", result)\n"
   ]
  },
  {
   "cell_type": "markdown",
   "id": "9700791d",
   "metadata": {},
   "source": [
    "Q21. Write a custom aggregation function using `reduce()` that takes a list of dictionaries representing products (each with `price` and `quantity`) and returns the total inventory value.\n",
    "\n",
    "products = [\n",
    "    {\"price\": 10, \"quantity\": 2},\n",
    "    {\"price\": 15, \"quantity\": 4},\n",
    "    {\"price\": 7, \"quantity\": 10},\n",
    "    {\"price\": 25, \"quantity\": 1}\n",
    "]"
   ]
  },
  {
   "cell_type": "code",
   "execution_count": 22,
   "id": "bc3632e2",
   "metadata": {},
   "outputs": [
    {
     "name": "stdout",
     "output_type": "stream",
     "text": [
      "Total inventory value: 175\n"
     ]
    }
   ],
   "source": [
    "from functools import reduce\n",
    "\n",
    "# List of products\n",
    "products = [\n",
    "    {\"price\": 10, \"quantity\": 2},\n",
    "    {\"price\": 15, \"quantity\": 4},\n",
    "    {\"price\": 7, \"quantity\": 10},\n",
    "    {\"price\": 25, \"quantity\": 1}\n",
    "]\n",
    "\n",
    "# Custom aggregation function to calculate total inventory value\n",
    "def calculate_inventory_value(accumulator, product):\n",
    "    # Compute the value of the current product\n",
    "    product_value = product['price'] * product['quantity']\n",
    "    # Add the product value to the accumulator\n",
    "    return accumulator + product_value\n",
    "\n",
    "# Use reduce to aggregate the total inventory value\n",
    "total_value = reduce(calculate_inventory_value, products, 0)\n",
    "\n",
    "print(\"Total inventory value:\", total_value)"
   ]
  },
  {
   "cell_type": "markdown",
   "id": "b33c9bf9",
   "metadata": {},
   "source": [
    "Q22. Given a list of tuples representing points in a 2D space, use a lambda function to sort the points by their distance from the origin.\n",
    "\n",
    "points = [(1, 2), (3, 4), (0, 0), (2, 1), (-1, -1)]"
   ]
  },
  {
   "cell_type": "code",
   "execution_count": 23,
   "id": "d32a3548",
   "metadata": {},
   "outputs": [
    {
     "name": "stdout",
     "output_type": "stream",
     "text": [
      "Points sorted by distance from the origin: [(0, 0), (-1, -1), (1, 2), (2, 1), (3, 4)]\n"
     ]
    }
   ],
   "source": [
    "import math\n",
    "\n",
    "# List of points\n",
    "points = [(1, 2), (3, 4), (0, 0), (2, 1), (-1, -1)]\n",
    "\n",
    "# Sort points by their distance from the origin using a lambda function\n",
    "sorted_points = sorted(points, key=lambda p: p[0]**2 + p[1]**2)\n",
    "\n",
    "# Print the sorted list of points\n",
    "print(\"Points sorted by distance from the origin:\", sorted_points)"
   ]
  }
 ],
 "metadata": {
  "kernelspec": {
   "display_name": "Python 3 (ipykernel)",
   "language": "python",
   "name": "python3"
  },
  "language_info": {
   "codemirror_mode": {
    "name": "ipython",
    "version": 3
   },
   "file_extension": ".py",
   "mimetype": "text/x-python",
   "name": "python",
   "nbconvert_exporter": "python",
   "pygments_lexer": "ipython3",
   "version": "3.12.3"
  }
 },
 "nbformat": 4,
 "nbformat_minor": 5
}
