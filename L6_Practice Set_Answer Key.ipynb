{
 "cells": [
  {
   "cell_type": "markdown",
   "id": "a2d5f7ad-8aa5-4e20-80e1-b643e07d2cda",
   "metadata": {},
   "source": [
    "Q1. Find all matches of the word \"data\" in the given string.\n",
    "\n",
    "text = \"Data Science is a field that uses data analysis to extract knowledge from data.\""
   ]
  },
  {
   "cell_type": "code",
   "execution_count": 1,
   "id": "1cfe1645-1b2a-469b-8850-ae9b8aaa4453",
   "metadata": {},
   "outputs": [
    {
     "name": "stdout",
     "output_type": "stream",
     "text": [
      "['Data', 'data', 'data']\n"
     ]
    }
   ],
   "source": [
    "import re\n",
    "text = \"Data Science is a field that uses data analysis to extract knowledge from data.\"\n",
    "matches = re.findall(r\"data\", text, re.IGNORECASE)\n",
    "print(matches)\n"
   ]
  },
  {
   "cell_type": "markdown",
   "id": "eef454a2-4214-4dd7-a45b-a3c56f471836",
   "metadata": {},
   "source": [
    "Q2. Split the string on each comma and space.\n",
    "\n",
    "text = \"data, science, is, awesome\""
   ]
  },
  {
   "cell_type": "code",
   "execution_count": 2,
   "id": "a1928f0c-a8a7-411c-908e-8793ebaa51e8",
   "metadata": {},
   "outputs": [
    {
     "name": "stdout",
     "output_type": "stream",
     "text": [
      "['data', 'science', 'is', 'awesome']\n"
     ]
    }
   ],
   "source": [
    "import re\n",
    "text = \"data, science, is, awesome\"\n",
    "result = re.split(r\",\\s*\", text)\n",
    "print(result)\n"
   ]
  },
  {
   "cell_type": "markdown",
   "id": "76895942-87a8-4dfd-b989-ea2021a905f2",
   "metadata": {},
   "source": [
    "Q3. Replace all digits with a hash (#).\n",
    "\n",
    "    text = \"My phone number is 123-456-7890.\""
   ]
  },
  {
   "cell_type": "code",
   "execution_count": 3,
   "id": "f9fd6cfe-5152-4d5a-a076-18253c1b75d6",
   "metadata": {},
   "outputs": [
    {
     "name": "stdout",
     "output_type": "stream",
     "text": [
      "My phone number is ###-###-####.\n"
     ]
    }
   ],
   "source": [
    "import re\n",
    "text = \"My phone number is 123-456-7890.\"\n",
    "result = re.sub(r\"\\d\", \"#\", text)\n",
    "print(result)\n"
   ]
  },
  {
   "cell_type": "markdown",
   "id": "ac30d7c1-f42e-4db0-8cb7-260750233b7b",
   "metadata": {},
   "source": [
    "Q4. Find the first match of the word \"Python\" in the following string.\n",
    "\n",
    "text = \"I love python programming. Python is great!\""
   ]
  },
  {
   "cell_type": "code",
   "execution_count": 5,
   "id": "23d38081-8beb-40d4-a019-324612669f67",
   "metadata": {},
   "outputs": [
    {
     "name": "stdout",
     "output_type": "stream",
     "text": [
      "Python\n"
     ]
    }
   ],
   "source": [
    "import re\n",
    "text = \"I love python programming. Python is great!\"\n",
    "match = re.search(r\"Python\", text)\n",
    "print(match.group() if match else \"No match\")\n"
   ]
  },
  {
   "cell_type": "markdown",
   "id": "ddea1d2b-82e2-4e54-8202-14885238e211",
   "metadata": {},
   "source": [
    "Q5. Check if the string starts with \"Hello\".\n",
    "\n",
    "text = \"Hello, how are you?\""
   ]
  },
  {
   "cell_type": "code",
   "execution_count": 6,
   "id": "0bf02c97-34c7-4a7a-b9af-1650c3a38eeb",
   "metadata": {},
   "outputs": [
    {
     "name": "stdout",
     "output_type": "stream",
     "text": [
      "True\n"
     ]
    }
   ],
   "source": [
    "import re\n",
    "text = \"Hello, how are you?\"\n",
    "match = re.match(r\"Hello\", text)\n",
    "print(True if match else False)\n"
   ]
  },
  {
   "cell_type": "markdown",
   "id": "fe6e9dbd-56da-43dd-a2db-d0a0344073b6",
   "metadata": {},
   "source": [
    "Q6. Extract all the words starting with a capital letter.\n",
    "\n",
    "text = \"Hello World. Welcome to the Universe.\""
   ]
  },
  {
   "cell_type": "code",
   "execution_count": 7,
   "id": "46e84478-7cac-42da-b6ad-812989af2018",
   "metadata": {},
   "outputs": [
    {
     "name": "stdout",
     "output_type": "stream",
     "text": [
      "['Hello', 'World', 'Welcome', 'Universe']\n"
     ]
    }
   ],
   "source": [
    "import re\n",
    "text = \"Hello World. Welcome to the Universe.\"\n",
    "matches = re.findall(r\"\\b[A-Z][a-z]*\\b\", text)\n",
    "print(matches)\n"
   ]
  },
  {
   "cell_type": "markdown",
   "id": "559726d6-b186-48ec-b54b-612ecc75a275",
   "metadata": {},
   "source": [
    "Q7. Find all email addresses in the given text.\n",
    "\n",
    "text = \"Please contact us at support@example.com or sales@example.org.\""
   ]
  },
  {
   "cell_type": "code",
   "execution_count": 9,
   "id": "918ddcbd-66ef-413e-966a-de766d0973fd",
   "metadata": {},
   "outputs": [
    {
     "name": "stdout",
     "output_type": "stream",
     "text": [
      "['support@example.com', 'sales@example.org']\n"
     ]
    }
   ],
   "source": [
    "import re\n",
    "text = \"Please contact us at support@example.com or sales@example.org.\"\n",
    "emails = re.findall(r\"\\b[A-Za-z0-9._%+-]+@[A-Za-z0-9.-]+\\.[A-Z|a-z]{2,}\\b\", text)\n",
    "print(emails)\n"
   ]
  },
  {
   "cell_type": "markdown",
   "id": "1f3be57c-d6a5-4f91-9333-5e1d02d24eec",
   "metadata": {},
   "source": [
    "Q8. Check if the string contains only alphanumeric characters.\n",
    "\n",
    "text = \"DataScience2024\""
   ]
  },
  {
   "cell_type": "code",
   "execution_count": 11,
   "id": "16b65d75-ec5b-4c3f-bd84-5adf238c72a2",
   "metadata": {},
   "outputs": [
    {
     "name": "stdout",
     "output_type": "stream",
     "text": [
      "True\n"
     ]
    }
   ],
   "source": [
    "import re\n",
    "text = \"DataScience2024\"\n",
    "match = re.fullmatch(r\"\\w+\", text)\n",
    "print(True if match else False)\n"
   ]
  },
  {
   "cell_type": "markdown",
   "id": "5c3e3dc8-e30e-4fa1-a308-cf5b109aa766",
   "metadata": {},
   "source": [
    "Q9. Replace multiple spaces with a single space.\n",
    "\n",
    "text = \"Data    Science   is   fun\""
   ]
  },
  {
   "cell_type": "code",
   "execution_count": 12,
   "id": "dd046218-2f0d-4f8b-a511-b0d0bcc86c70",
   "metadata": {},
   "outputs": [
    {
     "name": "stdout",
     "output_type": "stream",
     "text": [
      "Data Science is fun\n"
     ]
    }
   ],
   "source": [
    "import re\n",
    "text = \"Data    Science   is   fun\"\n",
    "result = re.sub(r\"\\s+\", \" \", text)\n",
    "print(result)\n"
   ]
  },
  {
   "cell_type": "markdown",
   "id": "fa769ef9-beee-49e7-b608-3859c11168c9",
   "metadata": {},
   "source": [
    "Q10. Find all the words in the given string.\n",
    "\n",
    "text = \"DataScience 101: Introduction to Data!\""
   ]
  },
  {
   "cell_type": "code",
   "execution_count": 13,
   "id": "1e10c8a0-bc7f-4c8a-8adb-5d08de9cba81",
   "metadata": {},
   "outputs": [
    {
     "name": "stdout",
     "output_type": "stream",
     "text": [
      "['DataScience', '101', 'Introduction', 'to', 'Data']\n"
     ]
    }
   ],
   "source": [
    "import re\n",
    "text = \"DataScience 101: Introduction to Data!\"\n",
    "words = re.findall(r\"\\b\\w+\\b\", text)\n",
    "print(words)\n"
   ]
  },
  {
   "cell_type": "markdown",
   "id": "d96e8062-a131-4132-b564-df8ffa0fe9ad",
   "metadata": {},
   "source": [
    "Q11. Extract all phone numbers in the format XXX-XXX-XXXX.\n",
    "\n",
    "text = \"Call me at 123-456-7890 or 987-654-3210.\""
   ]
  },
  {
   "cell_type": "code",
   "execution_count": 15,
   "id": "88153e9b-fe8b-470c-a1a5-86c62605f9e4",
   "metadata": {},
   "outputs": [
    {
     "name": "stdout",
     "output_type": "stream",
     "text": [
      "['123-456-7890', '987-654-3210']\n"
     ]
    }
   ],
   "source": [
    "import re\n",
    "text = \"Call me at 123-456-7890 or 987-654-3210.\"\n",
    "phones = re.findall(r\"\\b\\d{3}-\\d{3}-\\d{4}\\b\", text)\n",
    "print(phones)\n"
   ]
  },
  {
   "cell_type": "markdown",
   "id": "00b4b3b5-fa20-4886-96e5-ca295c9ec214",
   "metadata": {},
   "source": [
    "Q12. Find all sequences of consecutive vowels in the given string.\n",
    "\n",
    "text = \"Artificial Intelligence and Deep Learning are fascinating fields.\""
   ]
  },
  {
   "cell_type": "code",
   "execution_count": 16,
   "id": "f3f4951b-7635-4dbe-8cbe-6dbb73a0da58",
   "metadata": {},
   "outputs": [
    {
     "name": "stdout",
     "output_type": "stream",
     "text": [
      "['A', 'i', 'i', 'ia', 'I', 'e', 'i', 'e', 'e', 'a', 'ee', 'ea', 'i', 'a', 'e', 'a', 'i', 'a', 'i', 'ie']\n"
     ]
    }
   ],
   "source": [
    "import re\n",
    "text = \"Artificial Intelligence and Deep Learning are fascinating fields.\"\n",
    "vowels = re.findall(r\"[aeiouAEIOU]+\", text)\n",
    "print(vowels)\n"
   ]
  },
  {
   "cell_type": "code",
   "execution_count": null,
   "id": "c4cda968-0e2b-468a-a2c1-83a42b7e59bb",
   "metadata": {},
   "outputs": [],
   "source": []
  },
  {
   "cell_type": "code",
   "execution_count": null,
   "id": "02c467e3-0f2b-42bb-8ac4-820a33163a5a",
   "metadata": {},
   "outputs": [],
   "source": []
  },
  {
   "cell_type": "code",
   "execution_count": null,
   "id": "fb8971d0-8a94-4584-b117-7afeee512cd1",
   "metadata": {},
   "outputs": [],
   "source": []
  },
  {
   "cell_type": "code",
   "execution_count": null,
   "id": "7883dff6-8413-4627-b25a-102d255a7c0c",
   "metadata": {},
   "outputs": [],
   "source": []
  },
  {
   "cell_type": "code",
   "execution_count": null,
   "id": "80fd77a9-c5d1-43fe-b134-a2280a7d7e69",
   "metadata": {},
   "outputs": [],
   "source": []
  },
  {
   "cell_type": "code",
   "execution_count": null,
   "id": "6bf68c43-0b7b-4ec8-b693-5efe41c08b55",
   "metadata": {},
   "outputs": [],
   "source": []
  }
 ],
 "metadata": {
  "kernelspec": {
   "display_name": "Python 3 (ipykernel)",
   "language": "python",
   "name": "python3"
  },
  "language_info": {
   "codemirror_mode": {
    "name": "ipython",
    "version": 3
   },
   "file_extension": ".py",
   "mimetype": "text/x-python",
   "name": "python",
   "nbconvert_exporter": "python",
   "pygments_lexer": "ipython3",
   "version": "3.12.3"
  }
 },
 "nbformat": 4,
 "nbformat_minor": 5
}
