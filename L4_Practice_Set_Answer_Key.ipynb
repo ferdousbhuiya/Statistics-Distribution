{
 "cells": [
  {
   "cell_type": "markdown",
   "id": "c323d63a",
   "metadata": {},
   "source": [
    "## Built-in Function"
   ]
  },
  {
   "cell_type": "markdown",
   "id": "88bf87ef",
   "metadata": {},
   "source": [
    "Q1. Write a Python program that takes a string and returns it in uppercase."
   ]
  },
  {
   "cell_type": "code",
   "execution_count": 1,
   "id": "fdfeff54",
   "metadata": {},
   "outputs": [],
   "source": [
    "def up(string):\n",
    "    return string.upper()\n",
    "    "
   ]
  },
  {
   "cell_type": "code",
   "execution_count": 2,
   "id": "5d8fa3af",
   "metadata": {},
   "outputs": [
    {
     "data": {
      "text/plain": [
       "'FUNCTION'"
      ]
     },
     "execution_count": 2,
     "metadata": {},
     "output_type": "execute_result"
    }
   ],
   "source": [
    "up('function')"
   ]
  },
  {
   "cell_type": "markdown",
   "id": "6f6d9d38",
   "metadata": {},
   "source": [
    "Q2. Write a Python program that sorts a list of strings in alphabetical order."
   ]
  },
  {
   "cell_type": "code",
   "execution_count": 3,
   "id": "fe674a2c",
   "metadata": {},
   "outputs": [],
   "source": [
    "def sort(list1):\n",
    "    return sorted(list1)"
   ]
  },
  {
   "cell_type": "code",
   "execution_count": 4,
   "id": "38d6d2a6",
   "metadata": {},
   "outputs": [
    {
     "data": {
      "text/plain": [
       "['Apple', 'Banana', 'Chocolate', 'Dryfruits', 'Egg']"
      ]
     },
     "execution_count": 4,
     "metadata": {},
     "output_type": "execute_result"
    }
   ],
   "source": [
    "list1 = ['Banana', 'Apple','Chocolate','Egg', 'Dryfruits']\n",
    "sorted(list1)"
   ]
  },
  {
   "cell_type": "markdown",
   "id": "8b65d2c9",
   "metadata": {},
   "source": [
    "Q3. Create a Python program that combines two lists of equal length into a dictionary."
   ]
  },
  {
   "cell_type": "code",
   "execution_count": 5,
   "id": "2a5ebd14",
   "metadata": {},
   "outputs": [],
   "source": [
    "def combine_lists_to_dict(keys, values):\n",
    "    \n",
    "    combined_dict = dict(zip(keys, values))\n",
    "    return combined_dict"
   ]
  },
  {
   "cell_type": "code",
   "execution_count": 6,
   "id": "2fdf54d5",
   "metadata": {},
   "outputs": [
    {
     "name": "stdout",
     "output_type": "stream",
     "text": [
      "{'a': 1, 'b': 2, 'c': 3, 'd': 4}\n"
     ]
    }
   ],
   "source": [
    "keys = ['a', 'b', 'c', 'd']\n",
    "values = [1, 2, 3, 4]\n",
    "\n",
    "combined_dict = combine_lists_to_dict(keys, values)\n",
    "print(combined_dict)\n"
   ]
  },
  {
   "cell_type": "markdown",
   "id": "ac5ff2c8",
   "metadata": {},
   "source": [
    "Q4. Write a function to find the smallest number in a list of integers."
   ]
  },
  {
   "cell_type": "code",
   "execution_count": 7,
   "id": "c39394d1",
   "metadata": {},
   "outputs": [],
   "source": [
    "def find_smallest_number(numbers):\n",
    "    \n",
    "    smallest = numbers[0]\n",
    "    for number in numbers[1:]:\n",
    "        if number < smallest:\n",
    "            smallest = number\n",
    "    \n",
    "    return smallest\n"
   ]
  },
  {
   "cell_type": "code",
   "execution_count": 8,
   "id": "d78ebf87",
   "metadata": {},
   "outputs": [
    {
     "name": "stdout",
     "output_type": "stream",
     "text": [
      "The smallest number in the list is: -2\n"
     ]
    }
   ],
   "source": [
    "numbers = [5, 3, 8, 1, 9, -2, 4]\n",
    "smallest_number = find_smallest_number(numbers)\n",
    "print(f\"The smallest number in the list is: {smallest_number}\")"
   ]
  },
  {
   "cell_type": "markdown",
   "id": "ea8fe4a8",
   "metadata": {},
   "source": [
    "Q5. Write a function to check if any element in a list is greater than 10."
   ]
  },
  {
   "cell_type": "code",
   "execution_count": 9,
   "id": "62d50fd1",
   "metadata": {},
   "outputs": [],
   "source": [
    "def greater_than_10(list1):\n",
    "    flag = False\n",
    "    for i in list1:\n",
    "        if i > 10:\n",
    "            flag = True\n",
    "            break\n",
    "    return flag"
   ]
  },
  {
   "cell_type": "code",
   "execution_count": 10,
   "id": "e7c7147d",
   "metadata": {},
   "outputs": [
    {
     "data": {
      "text/plain": [
       "False"
      ]
     },
     "execution_count": 10,
     "metadata": {},
     "output_type": "execute_result"
    }
   ],
   "source": [
    "numbers = [5, 3, 8, 1, 9, -2, 4]\n",
    "\n",
    "greater_than_10(numbers)"
   ]
  },
  {
   "cell_type": "code",
   "execution_count": 11,
   "id": "992f4a46",
   "metadata": {},
   "outputs": [
    {
     "data": {
      "text/plain": [
       "True"
      ]
     },
     "execution_count": 11,
     "metadata": {},
     "output_type": "execute_result"
    }
   ],
   "source": [
    "numbers = [5, 3, 18, 1, 9, -2, 4]\n",
    "\n",
    "greater_than_10(numbers)"
   ]
  },
  {
   "cell_type": "markdown",
   "id": "0be1b556",
   "metadata": {},
   "source": [
    "### User Defined Functions"
   ]
  },
  {
   "cell_type": "markdown",
   "id": "9ff90e18",
   "metadata": {},
   "source": [
    "Q6. Create a function called `fibonacci` that returns the nth Fibonacci number."
   ]
  },
  {
   "cell_type": "code",
   "execution_count": 17,
   "id": "570dbca5",
   "metadata": {},
   "outputs": [],
   "source": [
    "def nth_fibo(n):\n",
    "    list1 = [0,1]\n",
    "    \n",
    "    for i in range(n-2):\n",
    "        list1.append(list1[-1] + list1[-2])\n",
    "        \n",
    "    return list1[-1]"
   ]
  },
  {
   "cell_type": "code",
   "execution_count": 20,
   "id": "71fdca24",
   "metadata": {
    "scrolled": true
   },
   "outputs": [
    {
     "data": {
      "text/plain": [
       "34"
      ]
     },
     "execution_count": 20,
     "metadata": {},
     "output_type": "execute_result"
    }
   ],
   "source": [
    "nth_fibo(10)"
   ]
  },
  {
   "cell_type": "markdown",
   "id": "4f84f31f",
   "metadata": {},
   "source": [
    "Q7. Write a function called `palindrome` that checks if a given string is a palindrome."
   ]
  },
  {
   "cell_type": "code",
   "execution_count": 23,
   "id": "7338e96e",
   "metadata": {},
   "outputs": [],
   "source": [
    "def palindrome_check(str1):\n",
    "    if str1 == str1[::-1]:\n",
    "        return True\n",
    "    else:\n",
    "        return False"
   ]
  },
  {
   "cell_type": "code",
   "execution_count": 26,
   "id": "0509d634",
   "metadata": {},
   "outputs": [
    {
     "data": {
      "text/plain": [
       "False"
      ]
     },
     "execution_count": 26,
     "metadata": {},
     "output_type": "execute_result"
    }
   ],
   "source": [
    "palindrome_check('hello')"
   ]
  },
  {
   "cell_type": "code",
   "execution_count": 28,
   "id": "4d1d4038",
   "metadata": {},
   "outputs": [
    {
     "data": {
      "text/plain": [
       "True"
      ]
     },
     "execution_count": 28,
     "metadata": {},
     "output_type": "execute_result"
    }
   ],
   "source": [
    "palindrome_check('radar')"
   ]
  },
  {
   "cell_type": "markdown",
   "id": "3963d789",
   "metadata": {},
   "source": [
    "Q8. Create a function called `merge_dicts` that merges two dictionaries."
   ]
  },
  {
   "cell_type": "code",
   "execution_count": 36,
   "id": "0cacacb0",
   "metadata": {},
   "outputs": [],
   "source": [
    "def merge_dicts(dict1, dict2):\n",
    "\n",
    "    \n",
    "    merged_dict = dict1.copy()\n",
    "    \n",
    "    merged_dict.update(dict2)\n",
    "    \n",
    "    return merged_dict\n"
   ]
  },
  {
   "cell_type": "code",
   "execution_count": 37,
   "id": "fc5a6d49",
   "metadata": {},
   "outputs": [
    {
     "data": {
      "text/plain": [
       "{'a': 1, 'b': 4, 'c': 3, 'd': 5}"
      ]
     },
     "execution_count": 37,
     "metadata": {},
     "output_type": "execute_result"
    }
   ],
   "source": [
    "dict1 = {'a': 1, 'b': 2, 'c': 3}\n",
    "dict2 = {'b': 4, 'd': 5}\n",
    "\n",
    "merge_dicts(dict1, dict2)\n",
    " # Output: {'a': 1, 'b': 4, 'c': 3, 'd': 5}"
   ]
  },
  {
   "cell_type": "markdown",
   "id": "0226288d",
   "metadata": {},
   "source": [
    "### Map Function"
   ]
  },
  {
   "cell_type": "markdown",
   "id": "2f8b74de",
   "metadata": {},
   "source": [
    "Q9. Write a Python program that uses `map()` to convert a list of strings to integers."
   ]
  },
  {
   "cell_type": "code",
   "execution_count": 38,
   "id": "7c6627ad",
   "metadata": {},
   "outputs": [],
   "source": [
    "def convert_strings_to_integers(string_list):\n",
    "\n",
    "    # Use map to apply int() to each item in string_list\n",
    "    int_list = list(map(int, string_list))\n",
    "    return int_list\n",
    "\n",
    "\n"
   ]
  },
  {
   "cell_type": "code",
   "execution_count": 39,
   "id": "e97eb3a0",
   "metadata": {},
   "outputs": [
    {
     "name": "stdout",
     "output_type": "stream",
     "text": [
      "Original list of strings: ['1', '2', '3', '4', '5']\n",
      "Converted list of integers: [1, 2, 3, 4, 5]\n"
     ]
    }
   ],
   "source": [
    "string_list = ['1', '2', '3', '4', '5']\n",
    "int_list = convert_strings_to_integers(string_list)\n",
    "print(f\"Original list of strings: {string_list}\")\n",
    "print(f\"Converted list of integers: {int_list}\")"
   ]
  },
  {
   "cell_type": "markdown",
   "id": "0a9d278c",
   "metadata": {},
   "source": [
    "Q10. Write a Python program that uses `map()` to apply a lambda function that doubles each number in a list."
   ]
  },
  {
   "cell_type": "code",
   "execution_count": 1,
   "id": "a950d0b3",
   "metadata": {},
   "outputs": [
    {
     "name": "stdout",
     "output_type": "stream",
     "text": [
      "Doubled numbers: [2, 4, 6, 8, 10]\n"
     ]
    }
   ],
   "source": [
    "\n",
    "numbers = [1, 2, 3, 4, 5]\n",
    "\n",
    "doubled_numbers = map(lambda x: x * 2, numbers)\n",
    "\n",
    "doubled_numbers_list = list(doubled_numbers)\n",
    "\n",
    "print(\"Doubled numbers:\", doubled_numbers_list)"
   ]
  },
  {
   "cell_type": "markdown",
   "id": "7f5fc416",
   "metadata": {},
   "source": [
    "### Lambda Function"
   ]
  },
  {
   "cell_type": "markdown",
   "id": "46865bd4",
   "metadata": {},
   "source": [
    "Q11. Write a lambda function that returns the square of a number."
   ]
  },
  {
   "cell_type": "code",
   "execution_count": 40,
   "id": "55cc6edf",
   "metadata": {},
   "outputs": [],
   "source": [
    "l1 = lambda x: x**2\n"
   ]
  },
  {
   "cell_type": "code",
   "execution_count": 41,
   "id": "5d43f1de",
   "metadata": {},
   "outputs": [
    {
     "data": {
      "text/plain": [
       "25"
      ]
     },
     "execution_count": 41,
     "metadata": {},
     "output_type": "execute_result"
    }
   ],
   "source": [
    "l1(5)"
   ]
  },
  {
   "cell_type": "markdown",
   "id": "1c3cf6c1",
   "metadata": {},
   "source": [
    "Q12. Define a function which uses a lambda function to sort a list of tuples by the second value."
   ]
  },
  {
   "cell_type": "code",
   "execution_count": 43,
   "id": "9af36ad5",
   "metadata": {},
   "outputs": [],
   "source": [
    "def sort_tuples_by_second_value(tuples_list):\n",
    "\n",
    "    sorted_list = sorted(tuples_list, key=lambda x: x[1])\n",
    "    return sorted_list\n"
   ]
  },
  {
   "cell_type": "code",
   "execution_count": 44,
   "id": "b8531324",
   "metadata": {},
   "outputs": [
    {
     "name": "stdout",
     "output_type": "stream",
     "text": [
      "Original list of tuples: [(1, 3), (4, 1), (2, 2), (5, 0)]\n",
      "Sorted list of tuples by second value: [(5, 0), (4, 1), (2, 2), (1, 3)]\n"
     ]
    }
   ],
   "source": [
    "tuples_list = [(1, 3), (4, 1), (2, 2), (5, 0)]\n",
    "sorted_list = sort_tuples_by_second_value(tuples_list)\n",
    "print(f\"Original list of tuples: {tuples_list}\")\n",
    "print(f\"Sorted list of tuples by second value: {sorted_list}\")"
   ]
  },
  {
   "cell_type": "markdown",
   "id": "8035a225",
   "metadata": {},
   "source": [
    "### Filter Function"
   ]
  },
  {
   "cell_type": "markdown",
   "id": "16b71bc0",
   "metadata": {},
   "source": [
    "Q13. Use the `filter()` function to extract even numbers from a list of integers."
   ]
  },
  {
   "cell_type": "code",
   "execution_count": 49,
   "id": "7c5dcabe",
   "metadata": {},
   "outputs": [],
   "source": [
    "a = list(filter(lambda x: x%2==0, list1))"
   ]
  },
  {
   "cell_type": "code",
   "execution_count": 50,
   "id": "10ae4b19",
   "metadata": {},
   "outputs": [
    {
     "data": {
      "text/plain": [
       "[2, 4]"
      ]
     },
     "execution_count": 50,
     "metadata": {},
     "output_type": "execute_result"
    }
   ],
   "source": [
    "list1 = [1, 2, 3, 4, 5]\n",
    "a"
   ]
  },
  {
   "cell_type": "markdown",
   "id": "5b414261",
   "metadata": {},
   "source": [
    "Q14. Write a Python program to select words from a list that are longer than 5 characters."
   ]
  },
  {
   "cell_type": "code",
   "execution_count": 52,
   "id": "5e29ea60",
   "metadata": {},
   "outputs": [],
   "source": [
    "words = list(filter(lambda x: len(x)>5, list1))"
   ]
  },
  {
   "cell_type": "code",
   "execution_count": 53,
   "id": "cb4eddd6",
   "metadata": {},
   "outputs": [
    {
     "data": {
      "text/plain": [
       "['Banana', 'Chocolate', 'Dryfruits']"
      ]
     },
     "execution_count": 53,
     "metadata": {},
     "output_type": "execute_result"
    }
   ],
   "source": [
    "list1 = ['Apple', 'Banana', 'Chocolate', 'Dryfruits', 'Egg']\n",
    "words\n"
   ]
  },
  {
   "cell_type": "markdown",
   "id": "b247c326",
   "metadata": {},
   "source": [
    "## Reduce Function"
   ]
  },
  {
   "cell_type": "markdown",
   "id": "a1f7ee0b",
   "metadata": {},
   "source": [
    "Q15. Find the product of all elements in a list."
   ]
  },
  {
   "cell_type": "code",
   "execution_count": 56,
   "id": "c7334f7d",
   "metadata": {},
   "outputs": [],
   "source": [
    "from functools import reduce\n",
    "\n",
    "def multiply(x, y):\n",
    "    return x * y\n",
    "\n",
    "def find_product(numbers_list):\n",
    "    \n",
    "    filtered_numbers = list(filter(lambda x: isinstance(x, int), numbers_list))\n",
    "    \n",
    "    product = reduce(multiply, filtered_numbers, 1)\n",
    "    \n",
    "    return product\n"
   ]
  },
  {
   "cell_type": "code",
   "execution_count": 57,
   "id": "f6e7e40b",
   "metadata": {},
   "outputs": [
    {
     "name": "stdout",
     "output_type": "stream",
     "text": [
      "The product of all elements in the list is: 120\n"
     ]
    }
   ],
   "source": [
    "numbers_list = [1, 2, 3, 4, 5]\n",
    "product = find_product(numbers_list)\n",
    "print(f\"The product of all elements in the list is: {product}\")"
   ]
  },
  {
   "cell_type": "markdown",
   "id": "af60c1a0",
   "metadata": {},
   "source": [
    "Q16. Write a `reduce()` function that takes a list of strings and concatenates them, but only if the string length is greater than 3."
   ]
  },
  {
   "cell_type": "code",
   "execution_count": 59,
   "id": "91397de2",
   "metadata": {},
   "outputs": [],
   "source": [
    "from functools import reduce\n",
    "\n",
    "def func1(list_of_strings):\n",
    "    \n",
    "    list1 = list(filter(lambda x: len(x)>3, list_of_strings))\n",
    "    \n",
    "    conc = reduce(lambda x,y: x+y, list1)\n",
    "    \n",
    "    return conc\n",
    "\n"
   ]
  },
  {
   "cell_type": "code",
   "execution_count": 60,
   "id": "73935ad0",
   "metadata": {},
   "outputs": [
    {
     "name": "stdout",
     "output_type": "stream",
     "text": [
      "The concatenated string is: applebananaorangegrapekiwipear\n"
     ]
    }
   ],
   "source": [
    "strings_list = [\"apple\", \"banana\", \"orange\", \"grape\", \"kiwi\", \"pear\"]\n",
    "concatenated_string = func1(strings_list)\n",
    "print(f\"The concatenated string is: {concatenated_string}\")"
   ]
  },
  {
   "cell_type": "markdown",
   "id": "7a0c99a8",
   "metadata": {},
   "source": [
    "### More Challenges!"
   ]
  },
  {
   "cell_type": "markdown",
   "id": "015d7bec",
   "metadata": {},
   "source": [
    "Q17. Write a Python program that uses a lambda function inside the `sorted()` function to sort a list of dictionaries by multiple keys (e.g., sort by age and then by name).\n",
    "\n",
    "people = [\n",
    "    {\"name\": \"Alice\", \"age\": 25},\n",
    "    {\"name\": \"Bob\", \"age\": 30},\n",
    "    {\"name\": \"Charlie\", \"age\": 20},\n",
    "    {\"name\": \"David\", \"age\": 25}\n",
    "]"
   ]
  },
  {
   "cell_type": "code",
   "execution_count": 63,
   "id": "5616fea8",
   "metadata": {},
   "outputs": [
    {
     "name": "stdout",
     "output_type": "stream",
     "text": [
      "{'name': 'Charlie', 'age': 20}\n",
      "{'name': 'Alice', 'age': 25}\n",
      "{'name': 'David', 'age': 25}\n",
      "{'name': 'Bob', 'age': 30}\n"
     ]
    }
   ],
   "source": [
    "\n",
    "people = [\n",
    "    {\"name\": \"Alice\", \"age\": 25},\n",
    "    {\"name\": \"Bob\", \"age\": 30},\n",
    "    {\"name\": \"Charlie\", \"age\": 20},\n",
    "    {\"name\": \"David\", \"age\": 25}\n",
    "]\n",
    "\n",
    "sorted_people = sorted(people, key=lambda x: (x['age'], x['name']))\n",
    "\n",
    "\n",
    "for person in sorted_people:\n",
    "    print(person)\n"
   ]
  },
  {
   "cell_type": "markdown",
   "id": "3fcc8b21",
   "metadata": {},
   "source": [
    "Q18. Implement a pipeline of functions (using `map()` and `filter()`) to process a list of integers by first squaring them, then filtering out the squares that are not divisible by 5."
   ]
  },
  {
   "cell_type": "code",
   "execution_count": 65,
   "id": "a5ffd5c2",
   "metadata": {},
   "outputs": [],
   "source": [
    "def func2(list1):\n",
    "    \n",
    "    list2 = list(map(lambda x: x**2, list1))\n",
    "    list3 = list(filter(lambda x: x%5!=0, list2))\n",
    "    return list3"
   ]
  },
  {
   "cell_type": "code",
   "execution_count": 66,
   "id": "ded2cf19",
   "metadata": {},
   "outputs": [
    {
     "data": {
      "text/plain": [
       "[1, 4, 9, 16, 36, 49, 64, 81]"
      ]
     },
     "execution_count": 66,
     "metadata": {},
     "output_type": "execute_result"
    }
   ],
   "source": [
    "numbers = [1, 2, 3, 4, 5, 6, 7, 8, 9, 10]\n",
    "func2(numbers)"
   ]
  },
  {
   "cell_type": "markdown",
   "id": "96e75ab8",
   "metadata": {},
   "source": [
    "Q19. Write a Python program that filters out all prime numbers from a list of integers using the `filter()` function and a user-defined function `is_prime()` that checks if a number is prime."
   ]
  },
  {
   "cell_type": "code",
   "execution_count": 73,
   "id": "acc06bd5",
   "metadata": {},
   "outputs": [
    {
     "data": {
      "text/plain": [
       "[2, 3, 7, 19, 43, 79]"
      ]
     },
     "execution_count": 73,
     "metadata": {},
     "output_type": "execute_result"
    }
   ],
   "source": [
    "def is_prime(n):\n",
    "    flag = True\n",
    "    if n == 0 or n==1:\n",
    "        flag = False\n",
    "    if n>=2:\n",
    "        for i in range(2, int(n*0.5)+1):\n",
    "            if n % i == 0:\n",
    "                flag = False\n",
    "    return flag\n",
    "\n",
    "\n",
    "list2 = list(filter(lambda x:is_prime(x), numbers))\n",
    "\n",
    "numbers = [1, 2,3, 4, 7, 9, 19,36, 43, 49, 64, 79, 81]\n",
    "list2"
   ]
  },
  {
   "cell_type": "markdown",
   "id": "d1378521",
   "metadata": {},
   "source": [
    "Q20. Create a Python program that uses nested lambda functions to implement a simple calculator that can add, subtract, multiply, and divide."
   ]
  },
  {
   "cell_type": "code",
   "execution_count": 75,
   "id": "7ea241ab",
   "metadata": {},
   "outputs": [
    {
     "name": "stdout",
     "output_type": "stream",
     "text": [
      "Addition (5 + 3): 8\n",
      "Subtraction (10 - 4): 6\n",
      "Multiplication (6 * 7): 42\n",
      "Division (20 / 4): 5.0\n",
      "Division by zero (10 / 0): Error: Division by zero\n"
     ]
    }
   ],
   "source": [
    "# Define the calculator functions using nested lambdas\n",
    "calculator = {\n",
    "    'add': lambda x: lambda y: x + y,\n",
    "    'subtract': lambda x: lambda y: x - y,\n",
    "    'multiply': lambda x: lambda y: x * y,\n",
    "    'divide': lambda x: lambda y: x / y if y != 0 else 'Error: Division by zero'\n",
    "}\n",
    "\n",
    "# Function to perform the calculation\n",
    "def calculate(operation, x, y):\n",
    "\n",
    "    if operation in calculator:\n",
    "        return calculator[operation](x)(y)\n",
    "    else:\n",
    "        return 'Error: Invalid operation'\n",
    "\n",
    "# Example usage\n",
    "print(\"Addition (5 + 3):\", calculate('add', 5, 3))\n",
    "print(\"Subtraction (10 - 4):\", calculate('subtract', 10, 4))\n",
    "print(\"Multiplication (6 * 7):\", calculate('multiply', 6, 7))\n",
    "print(\"Division (20 / 4):\", calculate('divide', 20, 4))\n",
    "print(\"Division by zero (10 / 0):\", calculate('divide', 10, 0))\n"
   ]
  },
  {
   "cell_type": "markdown",
   "id": "3876aa16",
   "metadata": {},
   "source": [
    "Q21. Write a custom aggregation function using `reduce()` that takes a list of dictionaries representing products (each with `price` and `quantity`) and returns the total inventory value.\n",
    "\n",
    "products = [\n",
    "    {\"price\": 10, \"quantity\": 2},\n",
    "    {\"price\": 15, \"quantity\": 4},\n",
    "    {\"price\": 7, \"quantity\": 10},\n",
    "    {\"price\": 25, \"quantity\": 1}\n",
    "]"
   ]
  },
  {
   "cell_type": "code",
   "execution_count": 78,
   "id": "efa0375e",
   "metadata": {},
   "outputs": [
    {
     "name": "stdout",
     "output_type": "stream",
     "text": [
      "Total inventory value: 175\n"
     ]
    }
   ],
   "source": [
    "from functools import reduce\n",
    "\n",
    "# List of dictionaries representing products\n",
    "products = [\n",
    "    {\"price\": 10, \"quantity\": 2},\n",
    "    {\"price\": 15, \"quantity\": 4},\n",
    "    {\"price\": 7, \"quantity\": 10},\n",
    "    {\"price\": 25, \"quantity\": 1}\n",
    "]\n",
    "\n",
    "# Define a function to aggregate the total inventory value\n",
    "\n",
    "def aggregate_inventory_value(total, product):\n",
    "    \n",
    "    return total + (product['price'] * product['quantity'])\n",
    "\n",
    "# Use reduce() to calculate the total inventory value\n",
    "total_inventory_value = reduce(aggregate_inventory_value, products, 0)\n",
    "\n",
    "# Print the total inventory value\n",
    "print(f\"Total inventory value: {total_inventory_value}\")\n"
   ]
  },
  {
   "cell_type": "markdown",
   "id": "e080b417",
   "metadata": {},
   "source": [
    "Q22. Given a list of tuples representing points in a 2D space, use a lambda function to sort the points by their distance from the origin.\n",
    "\n",
    "points = [(1, 2), (3, 4), (0, 0), (2, 1), (-1, -1)]"
   ]
  },
  {
   "cell_type": "code",
   "execution_count": 80,
   "id": "5569a5a6",
   "metadata": {},
   "outputs": [
    {
     "name": "stdout",
     "output_type": "stream",
     "text": [
      "Points sorted by distance from the origin: [(0, 0), (-1, -1), (1, 2), (2, 1), (3, 4)]\n"
     ]
    }
   ],
   "source": [
    "# List of tuples representing points in a 2D space\n",
    "points = [(1, 2), (3, 4), (0, 0), (2, 1), (-1, -1)]\n",
    "\n",
    "#since the square root function is monotonically increasing, you can simplify the comparison by using directly without taking the square root\n",
    "\n",
    "# Sort the points by their distance from the origin (0, 0)\n",
    "sorted_points = sorted(points, key=lambda point: point[0]**2 + point[1]**2)\n",
    "\n",
    "# Print the sorted list of points\n",
    "print(\"Points sorted by distance from the origin:\", sorted_points)\n"
   ]
  }
 ],
 "metadata": {
  "kernelspec": {
   "display_name": "Python 3 (ipykernel)",
   "language": "python",
   "name": "python3"
  },
  "language_info": {
   "codemirror_mode": {
    "name": "ipython",
    "version": 3
   },
   "file_extension": ".py",
   "mimetype": "text/x-python",
   "name": "python",
   "nbconvert_exporter": "python",
   "pygments_lexer": "ipython3",
   "version": "3.12.4"
  }
 },
 "nbformat": 4,
 "nbformat_minor": 5
}
