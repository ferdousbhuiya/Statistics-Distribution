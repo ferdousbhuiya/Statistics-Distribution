{
 "cells": [
  {
   "cell_type": "markdown",
   "id": "a527e49d-7999-4ba0-bbd2-045ea4e0e5c5",
   "metadata": {},
   "source": [
    "### Coding Assignment: Rock, Paper, Scissors Game"
   ]
  },
  {
   "cell_type": "markdown",
   "id": "873d8dfe-f0fe-44d9-be14-0d74b462f66c",
   "metadata": {},
   "source": [
    "\n",
    "#### Objectives:\n",
    "\n",
    "Understand and implement classes and objects.\n",
    "\n",
    "Use instance variables to store the state of objects.\n",
    "\n",
    "Implement methods to define the behavior of objects.\n",
    "\n",
    "#### Classes to Implement:\n",
    "\n",
    "Game: Manages the overall game logic.\n",
    "\n",
    "Player: Represents a player in the game.\n",
    "\n",
    "ComputerPlayer: Represents the computer as a player.\n",
    "\n",
    "\n",
    "\n",
    "#### Step-by-Step Instructions:\n",
    "\n",
    "\n",
    "##### Define the Player class:\n",
    "\n",
    "Attributes: name, choice.\n",
    "\n",
    "Methods: choose(), get_choice().\n",
    "\n",
    "\n",
    "\n",
    "##### Define the ComputerPlayer class (inherits from Player):\n",
    "\n",
    "Methods: Override choose() to make a random choice.\n",
    "\n",
    "\n",
    "\n",
    "##### Define the Game class:\n",
    "\n",
    "Attributes: player, computer.\n",
    "\n",
    "Methods: play_round(), determine_winner(), start().\n",
    "\n"
   ]
  },
  {
   "cell_type": "code",
   "execution_count": 1,
   "id": "6b212921-be69-4fe9-901e-207c6b97f016",
   "metadata": {},
   "outputs": [],
   "source": [
    "import random\n",
    "\n",
    "class Player:\n",
    "    def __init__(self, name):\n",
    "        self.name = name\n",
    "        self.choice = None\n",
    "\n",
    "    def choose(self, choice):\n",
    "        \"\"\"Set the player's choice.\"\"\"\n",
    "        self.choice = choice\n",
    "\n",
    "    def get_choice(self):\n",
    "        \"\"\"Return the player's choice.\"\"\"\n",
    "        return self.choice\n"
   ]
  },
  {
   "cell_type": "code",
   "execution_count": 2,
   "id": "4444600b-6e9c-40bc-8bb6-11fb8c8a9ec6",
   "metadata": {},
   "outputs": [],
   "source": [
    "class ComputerPlayer(Player):\n",
    "    def __init__(self, name):\n",
    "        super().__init__(name)\n",
    "\n",
    "    def choose(self):\n",
    "        \"\"\"Set a random choice for the computer.\"\"\"\n",
    "        choices = ['rock', 'paper', 'scissors']\n",
    "        self.choice = random.choice(choices)\n"
   ]
  },
  {
   "cell_type": "code",
   "execution_count": 3,
   "id": "dbbb1b3c",
   "metadata": {},
   "outputs": [
    {
     "name": "stdout",
     "output_type": "stream",
     "text": [
      "Player choice: rock\n",
      "Computer choice: scissors\n",
      "You win!\n",
      "Player choice: scissors\n",
      "Computer choice: rock\n",
      "Computer wins!\n"
     ]
    }
   ],
   "source": [
    "class Game:\n",
    "    def __init__(self, player_name):\n",
    "        self.player = Player(player_name)\n",
    "        self.computer = ComputerPlayer(\"Computer\")\n",
    "\n",
    "    def play_round(self, player_choice):\n",
    "        \"\"\"Play a round of the game with the player's choice.\"\"\"\n",
    "        self.player.choose(player_choice)\n",
    "        self.computer.choose()\n",
    "        player_choice = self.player.get_choice()\n",
    "        computer_choice = self.computer.get_choice()\n",
    "        return player_choice, computer_choice\n",
    "\n",
    "    def determine_winner(self, player_choice, computer_choice):\n",
    "        \"\"\"Determine the winner of the round.\"\"\"\n",
    "        if player_choice == computer_choice:\n",
    "            return \"It's a tie!\"\n",
    "        elif (player_choice == 'rock' and computer_choice == 'scissors') or \\\n",
    "             (player_choice == 'scissors' and computer_choice == 'paper') or \\\n",
    "             (player_choice == 'paper' and computer_choice == 'rock'):\n",
    "            return \"You win!\"\n",
    "        else:\n",
    "            return \"Computer wins!\"\n",
    "\n",
    "    def start(self):\n",
    "        \"\"\"Start the game and handle the game flow.\"\"\"\n",
    "        while True:\n",
    "            player_choice = input(\"Enter your choice (rock, paper, scissors): \").lower()\n",
    "            if player_choice not in ['rock', 'paper', 'scissors']:\n",
    "                print(\"Invalid choice, please choose rock, paper, or scissors.\")\n",
    "                continue\n",
    "\n",
    "            player_choice, computer_choice = self.play_round(player_choice)\n",
    "            print(f\"Player choice: {player_choice}\")\n",
    "            print(f\"Computer choice: {computer_choice}\")\n",
    "\n",
    "            result = self.determine_winner(player_choice, computer_choice)\n",
    "            print(result)\n",
    "\n",
    "            play_again = input(\"Do you want to play again? (yes/no): \").lower()\n",
    "            if play_again != 'yes':\n",
    "                break\n",
    "\n",
    "# Example of how to start the game\n",
    "if __name__ == \"__main__\":\n",
    "    game = Game(\"Player1\")\n",
    "    game.start()\n"
   ]
  }
 ],
 "metadata": {
  "kernelspec": {
   "display_name": "Python 3 (ipykernel)",
   "language": "python",
   "name": "python3"
  },
  "language_info": {
   "codemirror_mode": {
    "name": "ipython",
    "version": 3
   },
   "file_extension": ".py",
   "mimetype": "text/x-python",
   "name": "python",
   "nbconvert_exporter": "python",
   "pygments_lexer": "ipython3",
   "version": "3.12.3"
  }
 },
 "nbformat": 4,
 "nbformat_minor": 5
}
