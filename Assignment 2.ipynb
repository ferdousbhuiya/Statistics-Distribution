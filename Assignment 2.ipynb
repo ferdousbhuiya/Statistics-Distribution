{
 "cells": [
  {
   "cell_type": "markdown",
   "id": "bdec107a",
   "metadata": {},
   "source": [
    "# Guidlines:\n",
    "- Candidates are strictly prohibited from seeking assistance from instructors, peers, or any external sources. All responses should be the independent work of the individual candidate.\n",
    "\n",
    "- Solutions must be submitted in either .py or .ipynb file formats. Please ensure your code is well-documented and clear.\n",
    "\n",
    "- Engaging in any form of malpractice or dishonesty will result in immediate disqualification from the examination. Integrity and authenticity in your submissions are paramount"
   ]
  },
  {
   "cell_type": "markdown",
   "id": "8475c968",
   "metadata": {},
   "source": [
    "### Questions:"
   ]
  },
  {
   "cell_type": "markdown",
   "id": "329243a2",
   "metadata": {},
   "source": [
    "- Explain the four fundamental pillars of OOPs in detail.\n",
    "- Explain the fundamental differences between a while loop and for loop in python. In what scenarios is one preferred over the others?\n",
    "-  Create a list that contains the first n even numbers. For instance, if n is 5, the list would be [2, 4, 6, 8, 10].\n",
    "- Write a function that calculates the total price after applying a discount. The function should accept the original price and an optional discount rate (default to 10%). \n",
    "- Design a function that returns a list of prime numbers between two given numbers.\n",
    "- Given two numbers, find all prime numbers in that interval using loops.\n",
    "- Given a string, count the number of vowels in it.\n",
    "- Given two sequences, find the length of the longest subsequence present in both of them. A subsequence is a sequence that appears in the same relative order but not necessarily contiguous.\n",
    "- Write a function that schedules events. Given a list of events with start and end times, the function should return a list of events that don't overlap with each other, prioritizing events that start earlier.\n",
    "- Create a function that tracks the inventory of items in an e-commerce store. Given a list of transactions (items bought or restocked), the function should return the current inventory of items.<br>\n",
    " **or** \n",
    "- Given a list of feedback from customers as positive or negative, design a function that calculates a running average of positive feedback and returns the days when the positive feedback dropped below 50%."
   ]
  },
  {
   "cell_type": "markdown",
   "id": "d592b7bb",
   "metadata": {},
   "source": [
    "#### Q: Explain the four fundamental pillars of OOPs in detail.\n",
    "#### Ans:\n",
    "Object-Oriented Programming (OOP) is a programming paradigm centered around the concept of objects, which can contain data and code to manipulate that data. The four fundamental pillars of OOP are:\n",
    "\n",
    "1. Encapsulation\n",
    "* Definition: Encapsulation is the concept of bundling the data (attributes) and methods (functions) that operate on the data into a single unit called a class. It also involves restricting direct access to some of the object's components, which is often achieved by making attributes private and providing public getter and setter methods.\n",
    "\n",
    "Details:\n",
    "\n",
    "* Data Hiding: Encapsulation hides the internal state of an object and only exposes what is necessary for the object's use. This helps to protect the object's integrity by preventing outside code from making uncontrolled changes.\n",
    "* Public Interface: The class provides a public interface through methods that interact with its private data. This ensures that data can only be modified in a controlled manner.\n",
    "\n",
    "2. Abstraction\n",
    "* Definition: Abstraction is the process of hiding complex implementation details and showing only the necessary features of an object. It focuses on what an object does rather than how it does it.\n",
    "\n",
    "Details:\n",
    "\n",
    "* Simplification: By using abstraction, you can simplify complex systems by focusing on high-level operations and hiding the underlying details.\n",
    "* Abstract Classes and Interfaces: In many OOP languages, abstraction is implemented through abstract classes and interfaces. Abstract classes can define abstract methods (methods without implementation) that must be implemented by derived classes.\n",
    "\n",
    "3. Inheritance\n",
    "* Definition: Inheritance is the mechanism by which one class (the child or subclass) can inherit attributes and methods from another class (the parent or superclass). It allows for code reusability and establishes a natural hierarchy between classes.\n",
    "\n",
    "Details:\n",
    "\n",
    "* Code Reusability: By inheriting from a parent class, a child class can reuse the code from the parent, reducing redundancy.\n",
    "* Hierarchical Relationships: Inheritance models real-world relationships where subclasses extend or specialize the behavior of parent classes.\n",
    "\n",
    "4. Polymorphism\n",
    "* Definition: Polymorphism allows objects of different classes to be treated as objects of a common superclass. It enables a single function or method to operate in different ways depending on the object it is acting upon.\n",
    "\n",
    "Details:\n",
    "\n",
    "* Method Overloading: In some languages, polymorphism allows multiple methods with the same name but different parameters to exist within the same class.\n",
    "* Method Overriding: Inheritance allows a subclass to provide a specific implementation of a method that is already defined in its superclass.\n",
    "* Dynamic Method Resolution: Polymorphism is often implemented through dynamic method resolution, where the method to be invoked is determined at runtime based on the object’s type.\n",
    "\n",
    "Summary\n",
    "* Encapsulation protects an object's state and provides a controlled interface for interacting with it.\n",
    "* Abstraction simplifies complex systems by focusing on essential features while hiding unnecessary details.\n",
    "* Inheritance promotes code reuse and models hierarchical relationships between classes.\n",
    "* Polymorphism allows objects of different classes to be treated uniformly, enabling flexible and interchangeable code."
   ]
  },
  {
   "cell_type": "markdown",
   "id": "767d7ed8",
   "metadata": {},
   "source": [
    "#### Q: Explain the fundamental differences between a while loop and for loop in python. In what scenarios is one preferred over the others?\n",
    "#### Ans:\n",
    "* In Python, both while loops and for loops are used to execute a block of code repeatedly, but they are suited to different scenarios based on their characteristics.\n",
    "\n",
    "while Loop\n",
    "* Definition: The while loop repeatedly executes a block of code as long as a given condition remains True.\n",
    "\n",
    "Key Characteristics:\n",
    "\n",
    "* Condition-Based: It continues to execute as long as the condition is True. If the condition is initially False, the loop will not execute at all.\n",
    "* Potential for Infinite Loop: If the condition never becomes False, the while loop can result in an infinite loop. Therefore, it's essential to ensure that the condition will eventually become False.\n",
    "* Use Cases: It is preferred when the number of iterations is not known beforehand and depends on some dynamic condition that is evaluated during execution.\n",
    "\n",
    "for Loop\n",
    "* Definition: The for loop iterates over a sequence (such as a list, tuple, dictionary, set, or string) or an iterable object, executing a block of code for each item in the sequence.\n",
    "\n",
    "Key Characteristics:\n",
    "\n",
    "* Sequence-Based: It iterates over a sequence or iterable and executes the block of code for each item. The number of iterations is determined by the length of the sequence.\n",
    "* No Need for Manual Increment: The for loop automatically iterates through each item of the iterable, eliminating the need to manually manage the loop counter.\n",
    "* Use Cases: It is preferred when you know beforehand the sequence of items over which you need to iterate or when you are iterating through collections of items.\n",
    "\n",
    "Summary: Both loops are powerful, but choosing between them depends on whether you need to iterate over a sequence or conditionally execute code. The for loop is generally preferred for its clarity and simplicity in iterating over known sequences, while the while loop is useful for scenarios where the iteration depends on dynamic conditions."
   ]
  },
  {
   "cell_type": "markdown",
   "id": "a25b49a9",
   "metadata": {},
   "source": [
    "#### Q: Create a list that contains the first n even numbers. For instance, if n is 5, the list would be [2, 4, 6, 8, 10].\n",
    "#### Ans:"
   ]
  },
  {
   "cell_type": "code",
   "execution_count": 1,
   "id": "565437bf",
   "metadata": {},
   "outputs": [
    {
     "name": "stdout",
     "output_type": "stream",
     "text": [
      "[2, 4, 6, 8, 10]\n"
     ]
    }
   ],
   "source": [
    "def first_n_even_numbers(n):\n",
    "    even_numbers = []\n",
    "    for i in range(1, n + 1):\n",
    "        even_numbers.append(2 * i)\n",
    "    return even_numbers\n",
    "\n",
    "# Example usage\n",
    "n = 5\n",
    "even_numbers = first_n_even_numbers(n)\n",
    "print(even_numbers)  # Output: [2, 4, 6, 8, 10]\n"
   ]
  },
  {
   "cell_type": "markdown",
   "id": "c18d99f9",
   "metadata": {},
   "source": [
    "#### Q: Write a function that calculates the total price after applying a discount. The function should accept the original price and an optional discount rate (default to 10%). \n",
    "#### Ans: "
   ]
  },
  {
   "cell_type": "code",
   "execution_count": 2,
   "id": "05436855",
   "metadata": {},
   "outputs": [
    {
     "name": "stdout",
     "output_type": "stream",
     "text": [
      "Total price after 15.0% discount: $85.00\n",
      "Total price after default discount: $90.00\n"
     ]
    }
   ],
   "source": [
    "def calculate_total_price(original_price, discount_rate=0.10):\n",
    "    \n",
    "    # Calculate the discount amount\n",
    "    discount_amount = original_price * discount_rate\n",
    "    # Calculate the total price after discount\n",
    "    total_price = original_price - discount_amount\n",
    "    return total_price\n",
    "\n",
    "# Example usage\n",
    "original_price = 100.0  # Example original price\n",
    "discount_rate = 0.15    # Example discount rate (15%)\n",
    "\n",
    "total_price = calculate_total_price(original_price, discount_rate)\n",
    "print(f\"Total price after {discount_rate*100}% discount: ${total_price:.2f}\")\n",
    "\n",
    "# Using default discount rate\n",
    "total_price_default = calculate_total_price(original_price)\n",
    "print(f\"Total price after default discount: ${total_price_default:.2f}\")\n"
   ]
  },
  {
   "cell_type": "markdown",
   "id": "3e77edc6",
   "metadata": {},
   "source": [
    "#### Q: Design a function that returns a list of prime numbers between two given numbers.\n",
    "#### Ans:"
   ]
  },
  {
   "cell_type": "code",
   "execution_count": 3,
   "id": "40749a98",
   "metadata": {},
   "outputs": [
    {
     "name": "stdout",
     "output_type": "stream",
     "text": [
      "Prime numbers between 10 and 50: [11, 13, 17, 19, 23, 29, 31, 37, 41, 43, 47]\n"
     ]
    }
   ],
   "source": [
    "def is_prime(num):\n",
    "    \n",
    "    if num <= 1:\n",
    "        return False\n",
    "    if num <= 3:\n",
    "        return True\n",
    "    if num % 2 == 0 or num % 3 == 0:\n",
    "        return False\n",
    "    i = 5\n",
    "    while i * i <= num:\n",
    "        if num % i == 0 or num % (i + 2) == 0:\n",
    "            return False\n",
    "        i += 6\n",
    "    return True\n",
    "\n",
    "def primes_between(start, end):\n",
    "    \n",
    "    prime_list = [num for num in range(start, end + 1) if is_prime(num)]\n",
    "    return prime_list\n",
    "\n",
    "# Example usage\n",
    "start = 10\n",
    "end = 50\n",
    "prime_numbers = primes_between(start, end)\n",
    "print(f\"Prime numbers between {start} and {end}: {prime_numbers}\")\n"
   ]
  },
  {
   "cell_type": "markdown",
   "id": "9d1ef454",
   "metadata": {},
   "source": [
    "#### Q: Given two numbers, find all prime numbers in that interval using loops.\n",
    "#### Ans:"
   ]
  },
  {
   "cell_type": "code",
   "execution_count": 4,
   "id": "7a296904",
   "metadata": {},
   "outputs": [
    {
     "name": "stdout",
     "output_type": "stream",
     "text": [
      "Prime numbers between 10 and 50: [11, 13, 17, 19, 23, 29, 31, 37, 41, 43, 47]\n"
     ]
    }
   ],
   "source": [
    "def is_prime(num):\n",
    "    \n",
    "    if num <= 1:\n",
    "        return False\n",
    "    if num <= 3:\n",
    "        return True\n",
    "    if num % 2 == 0 or num % 3 == 0:\n",
    "        return False\n",
    "    i = 5\n",
    "    while i * i <= num:\n",
    "        if num % i == 0 or num % (i + 2) == 0:\n",
    "            return False\n",
    "        i += 6\n",
    "    return True\n",
    "\n",
    "def primes_in_interval(start, end):\n",
    "    \n",
    "    primes = []\n",
    "    for num in range(start, end + 1):\n",
    "        if is_prime(num):\n",
    "            primes.append(num)\n",
    "    return primes\n",
    "\n",
    "# Example usage\n",
    "start = 10\n",
    "end = 50\n",
    "prime_numbers = primes_in_interval(start, end)\n",
    "print(f\"Prime numbers between {start} and {end}: {prime_numbers}\")\n"
   ]
  },
  {
   "cell_type": "markdown",
   "id": "ebe9bf07",
   "metadata": {},
   "source": [
    "#### Q: Given a string, count the number of vowels in it.\n",
    "#### Ans:"
   ]
  },
  {
   "cell_type": "code",
   "execution_count": 5,
   "id": "272d7382",
   "metadata": {},
   "outputs": [
    {
     "name": "stdout",
     "output_type": "stream",
     "text": [
      "Number of vowels in the string: 11\n"
     ]
    }
   ],
   "source": [
    "def count_vowels(s):\n",
    "    \n",
    "    vowels = 'aeiouAEIOU'  \n",
    "    count = 0\n",
    "    \n",
    "    # Iterate through each character in the string\n",
    "    for char in s:\n",
    "        if char in vowels:\n",
    "            count += 1  # Increment count if the character is a vowel\n",
    "    \n",
    "    return count\n",
    "\n",
    "# Example usage\n",
    "input_string = \"Hello, how many vowels are in this string?\"\n",
    "vowel_count = count_vowels(input_string)\n",
    "print(f\"Number of vowels in the string: {vowel_count}\")\n"
   ]
  },
  {
   "cell_type": "markdown",
   "id": "09a2409b",
   "metadata": {},
   "source": [
    "#### Q: Given two sequences, find the length of the longest subsequence present in both of them. A subsequence is a sequence that appears in the same relative order but not necessarily contiguous.\n",
    "#### Ans: "
   ]
  },
  {
   "cell_type": "code",
   "execution_count": 6,
   "id": "c98f637f",
   "metadata": {},
   "outputs": [
    {
     "name": "stdout",
     "output_type": "stream",
     "text": [
      "The length of the longest common subsequence is: 4\n"
     ]
    }
   ],
   "source": [
    "def longest_common_subsequence(seq1, seq2):\n",
    "    \n",
    "    m, n = len(seq1), len(seq2)\n",
    "    \n",
    "    # Create a 2D DP table\n",
    "    dp = [[0] * (n + 1) for _ in range(m + 1)]\n",
    "    \n",
    "    # Fill the DP table\n",
    "    for i in range(1, m + 1):\n",
    "        for j in range(1, n + 1):\n",
    "            if seq1[i - 1] == seq2[j - 1]:\n",
    "                dp[i][j] = dp[i - 1][j - 1] + 1\n",
    "            else:\n",
    "                dp[i][j] = max(dp[i - 1][j], dp[i][j - 1])\n",
    "    \n",
    "    # The length of the longest common subsequence is in dp[m][n]\n",
    "    return dp[m][n]\n",
    "\n",
    "# Example usage\n",
    "seq1 = [1, 3, 4, 1, 2]\n",
    "seq2 = [3, 4, 1, 2, 1]\n",
    "lcs_length = longest_common_subsequence(seq1, seq2)\n",
    "print(f\"The length of the longest common subsequence is: {lcs_length}\")\n"
   ]
  },
  {
   "cell_type": "markdown",
   "id": "25adfe21",
   "metadata": {},
   "source": [
    "#### Q: Write a function that schedules events. Given a list of events with start and end times, the function should return a list of events that don't overlap with each other, prioritizing events that start earlier.\n",
    "#### Ans:"
   ]
  },
  {
   "cell_type": "code",
   "execution_count": 7,
   "id": "ddce309c",
   "metadata": {},
   "outputs": [
    {
     "name": "stdout",
     "output_type": "stream",
     "text": [
      "Scheduled events: [(1, 4), (7, 9)]\n"
     ]
    }
   ],
   "source": [
    "def schedule_events(events):\n",
    "    \n",
    "    # Sort events first by start time, and then by end time if start times are the same\n",
    "    events.sort(key=lambda x: (x[0], x[1]))\n",
    "    \n",
    "    # List to hold the selected events\n",
    "    selected_events = []\n",
    "    \n",
    "    # Track the end time of the last added event\n",
    "    last_end_time = -1\n",
    "    \n",
    "    # Iterate over the sorted events\n",
    "    for start, end in events:\n",
    "        # If the event starts after or when the last selected event ends\n",
    "        if start >= last_end_time:\n",
    "            selected_events.append((start, end))\n",
    "            last_end_time = end\n",
    "    \n",
    "    return selected_events\n",
    "\n",
    "# Example usage\n",
    "events = [(1, 4), (2, 5), (7, 9), (8, 10)]\n",
    "scheduled_events = schedule_events(events)\n",
    "print(f\"Scheduled events: {scheduled_events}\")\n"
   ]
  },
  {
   "cell_type": "markdown",
   "id": "81fa9d85",
   "metadata": {},
   "source": [
    "#### Q: Create a function that tracks the inventory of items in an e-commerce store. Given a list of transactions (items bought or restocked), the function should return the current inventory of items.\n",
    "#### Ans:"
   ]
  },
  {
   "cell_type": "code",
   "execution_count": 8,
   "id": "083de19e",
   "metadata": {},
   "outputs": [
    {
     "name": "stdout",
     "output_type": "stream",
     "text": [
      "Current Inventory: {'apple': 3, 'banana': 3, 'orange': 7}\n"
     ]
    }
   ],
   "source": [
    "def track_inventory(transactions):\n",
    "    \n",
    "    # Initialize an empty dictionary to store inventory counts\n",
    "    inventory = {}\n",
    "    \n",
    "    # Process each transaction\n",
    "    for item_name, quantity, transaction_type in transactions:\n",
    "        if transaction_type == 'buy':\n",
    "            # Subtract quantity for purchases, ensure inventory doesn't go negative\n",
    "            if item_name in inventory:\n",
    "                inventory[item_name] = max(0, inventory[item_name] - quantity)\n",
    "            else:\n",
    "                inventory[item_name] = max(0, -quantity)\n",
    "        elif transaction_type == 'restock':\n",
    "            # Add quantity for restocks\n",
    "            if item_name in inventory:\n",
    "                inventory[item_name] += quantity\n",
    "            else:\n",
    "                inventory[item_name] = quantity\n",
    "    \n",
    "    return inventory\n",
    "\n",
    "# Example usage\n",
    "transactions = [\n",
    "    ('apple', 10, 'restock'),\n",
    "    ('banana', 5, 'restock'),\n",
    "    ('apple', 3, 'buy'),\n",
    "    ('banana', 2, 'buy'),\n",
    "    ('orange', 7, 'restock'),\n",
    "    ('apple', 4, 'buy')\n",
    "]\n",
    "\n",
    "current_inventory = track_inventory(transactions)\n",
    "print(f\"Current Inventory: {current_inventory}\")\n"
   ]
  },
  {
   "cell_type": "markdown",
   "id": "d1383bd6",
   "metadata": {},
   "source": [
    "##### Q: Given a list of feedback from customers as positive or negative, design a function that calculates a running average of positive feedback and returns the days when the positive feedback dropped below 50%.\n",
    "#### Ans:"
   ]
  },
  {
   "cell_type": "code",
   "execution_count": 9,
   "id": "dfe07756",
   "metadata": {},
   "outputs": [
    {
     "name": "stdout",
     "output_type": "stream",
     "text": [
      "Days when positive feedback dropped below 50%: [3, 4, 5]\n"
     ]
    }
   ],
   "source": [
    "def track_feedback(feedback_list):\n",
    "    \n",
    "    positive_counts = 0\n",
    "    total_counts = 0\n",
    "    days_below_50 = []\n",
    "\n",
    "    for day_number, pos_count, tot_count in feedback_list:\n",
    "        # Update counts\n",
    "        positive_counts += pos_count\n",
    "        total_counts += tot_count\n",
    "\n",
    "        # Calculate percentage\n",
    "        if total_counts > 0:\n",
    "            positive_percentage = (positive_counts / total_counts) * 100\n",
    "        else:\n",
    "            positive_percentage = 0\n",
    "\n",
    "        # Check if the positive feedback dropped below 50%\n",
    "        if positive_percentage < 50:\n",
    "            days_below_50.append(day_number)\n",
    "    \n",
    "    return days_below_50\n",
    "\n",
    "# Example usage\n",
    "feedback_list = [\n",
    "    (1, 60, 100),  # Day 1: 60 positive out of 100 total\n",
    "    (2, 50, 100),  # Day 2: 50 positive out of 100 total\n",
    "    (3, 30, 100),  # Day 3: 30 positive out of 100 total\n",
    "    (4, 40, 100),  # Day 4: 40 positive out of 100 total\n",
    "    (5, 70, 200)   # Day 5: 70 positive out of 200 total\n",
    "]\n",
    "\n",
    "days_below_50 = track_feedback(feedback_list)\n",
    "print(f\"Days when positive feedback dropped below 50%: {days_below_50}\")\n"
   ]
  }
 ],
 "metadata": {
  "kernelspec": {
   "display_name": "Python 3 (ipykernel)",
   "language": "python",
   "name": "python3"
  },
  "language_info": {
   "codemirror_mode": {
    "name": "ipython",
    "version": 3
   },
   "file_extension": ".py",
   "mimetype": "text/x-python",
   "name": "python",
   "nbconvert_exporter": "python",
   "pygments_lexer": "ipython3",
   "version": "3.12.3"
  }
 },
 "nbformat": 4,
 "nbformat_minor": 5
}
