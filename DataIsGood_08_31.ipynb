{
 "cells": [
  {
   "cell_type": "markdown",
   "id": "36743bb6-2a2c-4cde-991c-2b6861211e62",
   "metadata": {},
   "source": [
    "Pandas Library\n",
    "\n",
    "It help us to analyze the data."
   ]
  },
  {
   "cell_type": "code",
   "execution_count": 1,
   "id": "509b15ca-f137-4241-ac10-df699f30b1bb",
   "metadata": {},
   "outputs": [
    {
     "name": "stdout",
     "output_type": "stream",
     "text": [
      "Requirement already satisfied: pandas in c:\\users\\pk801\\.pyenv\\pyenv-win\\versions\\3.11.3\\lib\\site-packages (2.2.0)\n",
      "Requirement already satisfied: numpy<2,>=1.23.2 in c:\\users\\pk801\\.pyenv\\pyenv-win\\versions\\3.11.3\\lib\\site-packages (from pandas) (1.26.3)\n",
      "Requirement already satisfied: python-dateutil>=2.8.2 in c:\\users\\pk801\\.pyenv\\pyenv-win\\versions\\3.11.3\\lib\\site-packages (from pandas) (2.8.2)\n",
      "Requirement already satisfied: pytz>=2020.1 in c:\\users\\pk801\\.pyenv\\pyenv-win\\versions\\3.11.3\\lib\\site-packages (from pandas) (2024.1)\n",
      "Requirement already satisfied: tzdata>=2022.7 in c:\\users\\pk801\\.pyenv\\pyenv-win\\versions\\3.11.3\\lib\\site-packages (from pandas) (2023.4)\n",
      "Requirement already satisfied: six>=1.5 in c:\\users\\pk801\\.pyenv\\pyenv-win\\versions\\3.11.3\\lib\\site-packages (from python-dateutil>=2.8.2->pandas) (1.16.0)\n"
     ]
    },
    {
     "name": "stderr",
     "output_type": "stream",
     "text": [
      "\n",
      "[notice] A new release of pip available: 22.3.1 -> 24.2\n",
      "[notice] To update, run: python.exe -m pip install --upgrade pip\n"
     ]
    }
   ],
   "source": [
    "!pip install pandas"
   ]
  },
  {
   "cell_type": "code",
   "execution_count": 3,
   "id": "3ecd5c1f-2c0d-4b75-afa8-f3859b024858",
   "metadata": {},
   "outputs": [],
   "source": [
    "import pandas as pd\n",
    "\n",
    "mydataset = {\n",
    "    'cars' : [\"BMW\", \"VOLVO\", \"fORD\"],\n",
    "    'Avg' : [10, 9, 12]\n",
    "}"
   ]
  },
  {
   "cell_type": "code",
   "execution_count": 7,
   "id": "8fa2110d-1792-413b-b3b0-a3f20245a26e",
   "metadata": {},
   "outputs": [],
   "source": [
    "data = pd.DataFrame(mydataset)"
   ]
  },
  {
   "cell_type": "code",
   "execution_count": 8,
   "id": "22c6e852-3fd6-4ea6-9195-9016e41b3fff",
   "metadata": {},
   "outputs": [
    {
     "data": {
      "text/html": [
       "<div>\n",
       "<style scoped>\n",
       "    .dataframe tbody tr th:only-of-type {\n",
       "        vertical-align: middle;\n",
       "    }\n",
       "\n",
       "    .dataframe tbody tr th {\n",
       "        vertical-align: top;\n",
       "    }\n",
       "\n",
       "    .dataframe thead th {\n",
       "        text-align: right;\n",
       "    }\n",
       "</style>\n",
       "<table border=\"1\" class=\"dataframe\">\n",
       "  <thead>\n",
       "    <tr style=\"text-align: right;\">\n",
       "      <th></th>\n",
       "      <th>cars</th>\n",
       "      <th>Avg</th>\n",
       "    </tr>\n",
       "  </thead>\n",
       "  <tbody>\n",
       "    <tr>\n",
       "      <th>0</th>\n",
       "      <td>BMW</td>\n",
       "      <td>10</td>\n",
       "    </tr>\n",
       "    <tr>\n",
       "      <th>1</th>\n",
       "      <td>VOLVO</td>\n",
       "      <td>9</td>\n",
       "    </tr>\n",
       "    <tr>\n",
       "      <th>2</th>\n",
       "      <td>fORD</td>\n",
       "      <td>12</td>\n",
       "    </tr>\n",
       "  </tbody>\n",
       "</table>\n",
       "</div>"
      ],
      "text/plain": [
       "    cars  Avg\n",
       "0    BMW   10\n",
       "1  VOLVO    9\n",
       "2   fORD   12"
      ]
     },
     "execution_count": 8,
     "metadata": {},
     "output_type": "execute_result"
    }
   ],
   "source": [
    "data"
   ]
  },
  {
   "cell_type": "code",
   "execution_count": 9,
   "id": "68447aa5-b868-414b-a80b-30f6d1cb9e4d",
   "metadata": {},
   "outputs": [
    {
     "data": {
      "text/plain": [
       "pandas.core.frame.DataFrame"
      ]
     },
     "execution_count": 9,
     "metadata": {},
     "output_type": "execute_result"
    }
   ],
   "source": [
    "type(data)"
   ]
  },
  {
   "cell_type": "code",
   "execution_count": 11,
   "id": "02840fd7-f92b-4a4e-962a-7c1d41c0d0bf",
   "metadata": {},
   "outputs": [
    {
     "data": {
      "text/plain": [
       "pandas.core.series.Series"
      ]
     },
     "execution_count": 11,
     "metadata": {},
     "output_type": "execute_result"
    }
   ],
   "source": [
    "type(data[\"Avg\"])"
   ]
  },
  {
   "cell_type": "code",
   "execution_count": 13,
   "id": "937dd9db-b3ce-403a-ab92-1992bebaf0d9",
   "metadata": {},
   "outputs": [
    {
     "data": {
      "text/html": [
       "<div>\n",
       "<style scoped>\n",
       "    .dataframe tbody tr th:only-of-type {\n",
       "        vertical-align: middle;\n",
       "    }\n",
       "\n",
       "    .dataframe tbody tr th {\n",
       "        vertical-align: top;\n",
       "    }\n",
       "\n",
       "    .dataframe thead th {\n",
       "        text-align: right;\n",
       "    }\n",
       "</style>\n",
       "<table border=\"1\" class=\"dataframe\">\n",
       "  <thead>\n",
       "    <tr style=\"text-align: right;\">\n",
       "      <th></th>\n",
       "    </tr>\n",
       "  </thead>\n",
       "  <tbody>\n",
       "  </tbody>\n",
       "</table>\n",
       "</div>"
      ],
      "text/plain": [
       "Empty DataFrame\n",
       "Columns: []\n",
       "Index: []"
      ]
     },
     "execution_count": 13,
     "metadata": {},
     "output_type": "execute_result"
    }
   ],
   "source": [
    "# create a blank dataframe\n",
    "data = pd.DataFrame()"
   ]
  },
  {
   "cell_type": "markdown",
   "id": "878e5b60-4c30-477e-9ca6-634c00e52fdc",
   "metadata": {},
   "source": [
    "### Data (Input Data)"
   ]
  },
  {
   "cell_type": "code",
   "execution_count": 14,
   "id": "d9958b3d-1867-46e1-a8f1-c33d2bd93c32",
   "metadata": {},
   "outputs": [],
   "source": [
    "# can we create a series without creating a dataframe?\n",
    "# Yes\n",
    "series_ex = pd.Series([1,7,7])"
   ]
  },
  {
   "cell_type": "code",
   "execution_count": 16,
   "id": "94cf0093-0afc-4827-90d7-c950aeb61678",
   "metadata": {},
   "outputs": [
    {
     "data": {
      "text/plain": [
       "pandas.core.series.Series"
      ]
     },
     "execution_count": 16,
     "metadata": {},
     "output_type": "execute_result"
    }
   ],
   "source": [
    "type(series_ex)"
   ]
  },
  {
   "cell_type": "code",
   "execution_count": 17,
   "id": "e98ab6a1-18a0-4f18-bfbd-e40b9b01a3cd",
   "metadata": {},
   "outputs": [
    {
     "data": {
      "text/plain": [
       "0    a\n",
       "1    b\n",
       "2    c\n",
       "3    d\n",
       "dtype: object"
      ]
     },
     "execution_count": 17,
     "metadata": {},
     "output_type": "execute_result"
    }
   ],
   "source": [
    "import numpy as np\n",
    "data = np.array([\"a\",\"b\",\"c\",\"d\"])\n",
    "s = pd.Series(data)\n",
    "s"
   ]
  },
  {
   "cell_type": "markdown",
   "id": "f471123d-ab6b-4bf4-8c0c-8053d0b948c0",
   "metadata": {},
   "source": [
    "### index"
   ]
  },
  {
   "cell_type": "code",
   "execution_count": 18,
   "id": "22edbc3d-b0cf-40df-a251-099d2145078f",
   "metadata": {},
   "outputs": [
    {
     "data": {
      "text/plain": [
       "100    a\n",
       "101    b\n",
       "102    c\n",
       "103    d\n",
       "dtype: object"
      ]
     },
     "execution_count": 18,
     "metadata": {},
     "output_type": "execute_result"
    }
   ],
   "source": [
    "import numpy as np\n",
    "data = np.array([\"a\",\"b\",\"c\",\"d\"])\n",
    "s = pd.Series(data, index = [100,101,102,103])\n",
    "s"
   ]
  },
  {
   "cell_type": "code",
   "execution_count": 24,
   "id": "370da30a-b84d-4e24-945e-ffd9ab6983b5",
   "metadata": {},
   "outputs": [
    {
     "data": {
      "text/plain": [
       "'a'"
      ]
     },
     "execution_count": 24,
     "metadata": {},
     "output_type": "execute_result"
    }
   ],
   "source": [
    "s[100]"
   ]
  },
  {
   "cell_type": "markdown",
   "id": "79e39751-159f-4cf4-8c1b-cb6d32747d48",
   "metadata": {},
   "source": [
    "### Create a series from a dict"
   ]
  },
  {
   "cell_type": "code",
   "execution_count": 26,
   "id": "f569ae6d-2782-4766-815e-8a9dcca762d4",
   "metadata": {},
   "outputs": [
    {
     "data": {
      "text/plain": [
       "a    1\n",
       "b    2\n",
       "c    3\n",
       "d    4\n",
       "dtype: int64"
      ]
     },
     "execution_count": 26,
     "metadata": {},
     "output_type": "execute_result"
    }
   ],
   "source": [
    "data = {'a':1,\"b\":2,\"c\":3, \"d\":4}\n",
    "s = pd.Series(data)\n",
    "s"
   ]
  },
  {
   "cell_type": "code",
   "execution_count": 43,
   "id": "b19a5ce9-1e64-421f-b320-c7f4bb82fb39",
   "metadata": {},
   "outputs": [
    {
     "data": {
      "text/plain": [
       "b    2.0\n",
       "c    3.0\n",
       "d    4.0\n",
       "a    1.0\n",
       "r    NaN\n",
       "dtype: float64"
      ]
     },
     "execution_count": 43,
     "metadata": {},
     "output_type": "execute_result"
    }
   ],
   "source": [
    "data = {'a':1,\"b\":2,\"c\":3, \"d\":4}\n",
    "s = pd.Series(data, index = ['b', 'c', 'd', 'a', 'r'])\n",
    "s"
   ]
  },
  {
   "cell_type": "code",
   "execution_count": 29,
   "id": "f9952faa-aecb-43a3-af89-ddaf6de7f4e9",
   "metadata": {},
   "outputs": [
    {
     "data": {
      "text/plain": [
       "dtype('float64')"
      ]
     },
     "execution_count": 29,
     "metadata": {},
     "output_type": "execute_result"
    }
   ],
   "source": [
    "s.dtypes"
   ]
  },
  {
   "cell_type": "markdown",
   "id": "241e8c29-903e-4a74-b57f-12cd63a98304",
   "metadata": {},
   "source": [
    "## Accessing the data from series with position"
   ]
  },
  {
   "cell_type": "code",
   "execution_count": 31,
   "id": "57489faf-a708-4dce-a5cc-e2f73726ccf7",
   "metadata": {},
   "outputs": [
    {
     "data": {
      "text/plain": [
       "b    1\n",
       "c    2\n",
       "d    3\n",
       "e    4\n",
       "a    5\n",
       "dtype: int64"
      ]
     },
     "execution_count": 31,
     "metadata": {},
     "output_type": "execute_result"
    }
   ],
   "source": [
    "s = pd.Series([1,2,3,4,5], index =  ['b', 'c', 'd', 'e','a'])\n",
    "s"
   ]
  },
  {
   "cell_type": "code",
   "execution_count": 33,
   "id": "b9286ca3-f4ba-4646-81cf-111ef928f985",
   "metadata": {},
   "outputs": [
    {
     "data": {
      "text/plain": [
       "b    2\n",
       "c    3\n",
       "d    4\n",
       "dtype: int64"
      ]
     },
     "execution_count": 33,
     "metadata": {},
     "output_type": "execute_result"
    }
   ],
   "source": [
    "s[:3]"
   ]
  },
  {
   "cell_type": "code",
   "execution_count": 34,
   "id": "c9f0525a-e999-4bd1-ae2c-c3b23ffb01bb",
   "metadata": {},
   "outputs": [
    {
     "data": {
      "text/plain": [
       "2"
      ]
     },
     "execution_count": 34,
     "metadata": {},
     "output_type": "execute_result"
    }
   ],
   "source": [
    "s['b']"
   ]
  },
  {
   "cell_type": "markdown",
   "id": "cc17eac1-e835-4f30-8063-f1d38865f440",
   "metadata": {},
   "source": [
    "### DataFrame\n",
    "- List\n",
    "- Dictionary\n",
    "- Numpy Array\n",
    "- Another DataFrame\n",
    "- Load the File (CSV, JSON, TSV, Excel, SQL)"
   ]
  },
  {
   "cell_type": "markdown",
   "id": "9241d36d-99e9-4b2a-a4c3-962a7bd83584",
   "metadata": {},
   "source": [
    "## List\n",
    "\n",
    "data = [[\"Alex\", 23], [\"Alex\", 23], [\"Bob\", 23], [\"Clerk\", 23]]\n",
    "\n",
    "df = pd.DataFrame(data, columns = [\"Name\", \"Age\"])\n",
    "df[\"Age\"] = df[\"Age\"].astype(float)\n",
    "df"
   ]
  },
  {
   "cell_type": "code",
   "execution_count": 53,
   "id": "79a7013f-c961-4555-8e99-cef175306b6d",
   "metadata": {},
   "outputs": [
    {
     "data": {
      "text/html": [
       "<div>\n",
       "<style scoped>\n",
       "    .dataframe tbody tr th:only-of-type {\n",
       "        vertical-align: middle;\n",
       "    }\n",
       "\n",
       "    .dataframe tbody tr th {\n",
       "        vertical-align: top;\n",
       "    }\n",
       "\n",
       "    .dataframe thead th {\n",
       "        text-align: right;\n",
       "    }\n",
       "</style>\n",
       "<table border=\"1\" class=\"dataframe\">\n",
       "  <thead>\n",
       "    <tr style=\"text-align: right;\">\n",
       "      <th></th>\n",
       "      <th>Name</th>\n",
       "      <th>Age</th>\n",
       "    </tr>\n",
       "  </thead>\n",
       "  <tbody>\n",
       "    <tr>\n",
       "      <th>0</th>\n",
       "      <td>Alex</td>\n",
       "      <td>23.0</td>\n",
       "    </tr>\n",
       "    <tr>\n",
       "      <th>1</th>\n",
       "      <td>Alex</td>\n",
       "      <td>23.0</td>\n",
       "    </tr>\n",
       "    <tr>\n",
       "      <th>2</th>\n",
       "      <td>Alex</td>\n",
       "      <td>23.0</td>\n",
       "    </tr>\n",
       "    <tr>\n",
       "      <th>3</th>\n",
       "      <td>Alex</td>\n",
       "      <td>23.0</td>\n",
       "    </tr>\n",
       "  </tbody>\n",
       "</table>\n",
       "</div>"
      ],
      "text/plain": [
       "   Name   Age\n",
       "0  Alex  23.0\n",
       "1  Alex  23.0\n",
       "2  Alex  23.0\n",
       "3  Alex  23.0"
      ]
     },
     "execution_count": 53,
     "metadata": {},
     "output_type": "execute_result"
    }
   ],
   "source": [
    "\n",
    "data = [{\"Name\":\"Alex\",\"Age\": 23}, {\"Name\":\"Alex\",\"Age\": 23}, {\"Name\":\"Alex\",\"Age\": 23},{\"Name\":\"Alex\",\"Age\": 23}]\n",
    "\n",
    "df = pd.DataFrame(data)\n",
    "df[\"Age\"] = df[\"Age\"].astype(float)\n",
    "df"
   ]
  },
  {
   "cell_type": "markdown",
   "id": "ef370ab5-87bc-46b6-ab52-77e67f9f9b2a",
   "metadata": {},
   "source": [
    "### Columns Updaton"
   ]
  },
  {
   "cell_type": "code",
   "execution_count": 57,
   "id": "fdf28a3e-7858-4be0-82cc-fc571193488d",
   "metadata": {},
   "outputs": [],
   "source": [
    "df[\"Age_Updated\"] = df[\"Age\"] + 10"
   ]
  },
  {
   "cell_type": "code",
   "execution_count": 59,
   "id": "62c9e8bd-9a3a-46d5-9683-d589c3d3c204",
   "metadata": {},
   "outputs": [],
   "source": [
    "del df[\"Age\"]"
   ]
  },
  {
   "cell_type": "code",
   "execution_count": 60,
   "id": "a09ab2c6-c318-4437-b78c-42b8f7b9b83d",
   "metadata": {},
   "outputs": [
    {
     "data": {
      "text/html": [
       "<div>\n",
       "<style scoped>\n",
       "    .dataframe tbody tr th:only-of-type {\n",
       "        vertical-align: middle;\n",
       "    }\n",
       "\n",
       "    .dataframe tbody tr th {\n",
       "        vertical-align: top;\n",
       "    }\n",
       "\n",
       "    .dataframe thead th {\n",
       "        text-align: right;\n",
       "    }\n",
       "</style>\n",
       "<table border=\"1\" class=\"dataframe\">\n",
       "  <thead>\n",
       "    <tr style=\"text-align: right;\">\n",
       "      <th></th>\n",
       "      <th>Name</th>\n",
       "      <th>Age_Updated</th>\n",
       "    </tr>\n",
       "  </thead>\n",
       "  <tbody>\n",
       "    <tr>\n",
       "      <th>0</th>\n",
       "      <td>Alex</td>\n",
       "      <td>33.0</td>\n",
       "    </tr>\n",
       "    <tr>\n",
       "      <th>1</th>\n",
       "      <td>Alex</td>\n",
       "      <td>33.0</td>\n",
       "    </tr>\n",
       "    <tr>\n",
       "      <th>2</th>\n",
       "      <td>Alex</td>\n",
       "      <td>33.0</td>\n",
       "    </tr>\n",
       "    <tr>\n",
       "      <th>3</th>\n",
       "      <td>Alex</td>\n",
       "      <td>33.0</td>\n",
       "    </tr>\n",
       "  </tbody>\n",
       "</table>\n",
       "</div>"
      ],
      "text/plain": [
       "   Name  Age_Updated\n",
       "0  Alex         33.0\n",
       "1  Alex         33.0\n",
       "2  Alex         33.0\n",
       "3  Alex         33.0"
      ]
     },
     "execution_count": 60,
     "metadata": {},
     "output_type": "execute_result"
    }
   ],
   "source": [
    "df"
   ]
  },
  {
   "cell_type": "markdown",
   "id": "bb9ce809-91ab-4e9d-b4d4-8966d4ce2ab1",
   "metadata": {},
   "source": [
    "### Selection by Label"
   ]
  },
  {
   "cell_type": "code",
   "execution_count": 71,
   "id": "3828ca3f-866c-45fa-8910-053347587855",
   "metadata": {},
   "outputs": [
    {
     "data": {
      "text/html": [
       "<div>\n",
       "<style scoped>\n",
       "    .dataframe tbody tr th:only-of-type {\n",
       "        vertical-align: middle;\n",
       "    }\n",
       "\n",
       "    .dataframe tbody tr th {\n",
       "        vertical-align: top;\n",
       "    }\n",
       "\n",
       "    .dataframe thead th {\n",
       "        text-align: right;\n",
       "    }\n",
       "</style>\n",
       "<table border=\"1\" class=\"dataframe\">\n",
       "  <thead>\n",
       "    <tr style=\"text-align: right;\">\n",
       "      <th></th>\n",
       "      <th>one</th>\n",
       "      <th>two</th>\n",
       "    </tr>\n",
       "  </thead>\n",
       "  <tbody>\n",
       "    <tr>\n",
       "      <th>1</th>\n",
       "      <td>1.0</td>\n",
       "      <td>1</td>\n",
       "    </tr>\n",
       "    <tr>\n",
       "      <th>3</th>\n",
       "      <td>2.0</td>\n",
       "      <td>2</td>\n",
       "    </tr>\n",
       "    <tr>\n",
       "      <th>5</th>\n",
       "      <td>3.0</td>\n",
       "      <td>3</td>\n",
       "    </tr>\n",
       "    <tr>\n",
       "      <th>7</th>\n",
       "      <td>NaN</td>\n",
       "      <td>4</td>\n",
       "    </tr>\n",
       "  </tbody>\n",
       "</table>\n",
       "</div>"
      ],
      "text/plain": [
       "   one  two\n",
       "1  1.0    1\n",
       "3  2.0    2\n",
       "5  3.0    3\n",
       "7  NaN    4"
      ]
     },
     "execution_count": 71,
     "metadata": {},
     "output_type": "execute_result"
    }
   ],
   "source": [
    "d = {\"one\" : pd.Series([1,2,3], index=[1, 3, 5]),\n",
    "     \"two\" : pd.Series([1,2,3, 4], index=[1, 3, 5, 7])}\n",
    "\n",
    "df = pd.DataFrame(d)\n",
    "df"
   ]
  },
  {
   "cell_type": "code",
   "execution_count": 73,
   "id": "21952057-bf1e-49f1-8308-a66b389c03b0",
   "metadata": {},
   "outputs": [
    {
     "data": {
      "text/plain": [
       "one    3.0\n",
       "two    3.0\n",
       "Name: 5, dtype: float64"
      ]
     },
     "execution_count": 73,
     "metadata": {},
     "output_type": "execute_result"
    }
   ],
   "source": [
    "df.loc[5]"
   ]
  },
  {
   "cell_type": "code",
   "execution_count": 72,
   "id": "b932f620-29d0-485f-8a5e-8aa3cce3b621",
   "metadata": {},
   "outputs": [
    {
     "data": {
      "text/plain": [
       "one    2.0\n",
       "two    2.0\n",
       "Name: 3, dtype: float64"
      ]
     },
     "execution_count": 72,
     "metadata": {},
     "output_type": "execute_result"
    }
   ],
   "source": [
    "df.iloc[1]"
   ]
  },
  {
   "cell_type": "markdown",
   "id": "16968f6e-fc0d-4e8c-a139-dfb63901b1ad",
   "metadata": {},
   "source": [
    "## Reading from External Source "
   ]
  },
  {
   "cell_type": "code",
   "execution_count": 74,
   "id": "d93ee34f-89e2-4baf-9d26-a9c6b9855b2d",
   "metadata": {},
   "outputs": [],
   "source": [
    "data = pd.read_csv(\"annual-enterprise-survey-2023-financial-year-provisional-size-bands.csv\")"
   ]
  },
  {
   "cell_type": "code",
   "execution_count": 76,
   "id": "6e40d18e-889b-4bd4-97ac-c5ee806a54d0",
   "metadata": {},
   "outputs": [
    {
     "data": {
      "text/html": [
       "<div>\n",
       "<style scoped>\n",
       "    .dataframe tbody tr th:only-of-type {\n",
       "        vertical-align: middle;\n",
       "    }\n",
       "\n",
       "    .dataframe tbody tr th {\n",
       "        vertical-align: top;\n",
       "    }\n",
       "\n",
       "    .dataframe thead th {\n",
       "        text-align: right;\n",
       "    }\n",
       "</style>\n",
       "<table border=\"1\" class=\"dataframe\">\n",
       "  <thead>\n",
       "    <tr style=\"text-align: right;\">\n",
       "      <th></th>\n",
       "      <th>year</th>\n",
       "    </tr>\n",
       "  </thead>\n",
       "  <tbody>\n",
       "    <tr>\n",
       "      <th>count</th>\n",
       "      <td>20124.00000</td>\n",
       "    </tr>\n",
       "    <tr>\n",
       "      <th>mean</th>\n",
       "      <td>2017.00000</td>\n",
       "    </tr>\n",
       "    <tr>\n",
       "      <th>std</th>\n",
       "      <td>3.74175</td>\n",
       "    </tr>\n",
       "    <tr>\n",
       "      <th>min</th>\n",
       "      <td>2011.00000</td>\n",
       "    </tr>\n",
       "    <tr>\n",
       "      <th>25%</th>\n",
       "      <td>2014.00000</td>\n",
       "    </tr>\n",
       "    <tr>\n",
       "      <th>50%</th>\n",
       "      <td>2017.00000</td>\n",
       "    </tr>\n",
       "    <tr>\n",
       "      <th>75%</th>\n",
       "      <td>2020.00000</td>\n",
       "    </tr>\n",
       "    <tr>\n",
       "      <th>max</th>\n",
       "      <td>2023.00000</td>\n",
       "    </tr>\n",
       "  </tbody>\n",
       "</table>\n",
       "</div>"
      ],
      "text/plain": [
       "              year\n",
       "count  20124.00000\n",
       "mean    2017.00000\n",
       "std        3.74175\n",
       "min     2011.00000\n",
       "25%     2014.00000\n",
       "50%     2017.00000\n",
       "75%     2020.00000\n",
       "max     2023.00000"
      ]
     },
     "execution_count": 76,
     "metadata": {},
     "output_type": "execute_result"
    }
   ],
   "source": [
    "data.describe()"
   ]
  },
  {
   "cell_type": "code",
   "execution_count": 77,
   "id": "001a0f66-b96a-4692-b90f-0337efa9e46d",
   "metadata": {
    "scrolled": true
   },
   "outputs": [
    {
     "name": "stdout",
     "output_type": "stream",
     "text": [
      "<class 'pandas.core.frame.DataFrame'>\n",
      "RangeIndex: 20124 entries, 0 to 20123\n",
      "Data columns (total 7 columns):\n",
      " #   Column                Non-Null Count  Dtype \n",
      "---  ------                --------------  ----- \n",
      " 0   year                  20124 non-null  int64 \n",
      " 1   industry_code_ANZSIC  20124 non-null  object\n",
      " 2   industry_name_ANZSIC  20124 non-null  object\n",
      " 3   rme_size_grp          20124 non-null  object\n",
      " 4   variable              20124 non-null  object\n",
      " 5   value                 20124 non-null  object\n",
      " 6   unit                  20124 non-null  object\n",
      "dtypes: int64(1), object(6)\n",
      "memory usage: 1.1+ MB\n"
     ]
    }
   ],
   "source": [
    "data.info()"
   ]
  },
  {
   "cell_type": "code",
   "execution_count": 87,
   "id": "07fbad38-31a3-4015-8031-d63fd113c524",
   "metadata": {},
   "outputs": [
    {
     "data": {
      "text/html": [
       "<div>\n",
       "<style scoped>\n",
       "    .dataframe tbody tr th:only-of-type {\n",
       "        vertical-align: middle;\n",
       "    }\n",
       "\n",
       "    .dataframe tbody tr th {\n",
       "        vertical-align: top;\n",
       "    }\n",
       "\n",
       "    .dataframe thead th {\n",
       "        text-align: right;\n",
       "    }\n",
       "</style>\n",
       "<table border=\"1\" class=\"dataframe\">\n",
       "  <thead>\n",
       "    <tr style=\"text-align: right;\">\n",
       "      <th></th>\n",
       "      <th>year</th>\n",
       "      <th>industry_code_ANZSIC</th>\n",
       "      <th>industry_name_ANZSIC</th>\n",
       "      <th>rme_size_grp</th>\n",
       "      <th>variable</th>\n",
       "      <th>value</th>\n",
       "      <th>unit</th>\n",
       "    </tr>\n",
       "  </thead>\n",
       "  <tbody>\n",
       "    <tr>\n",
       "      <th>62</th>\n",
       "      <td>2011</td>\n",
       "      <td>A</td>\n",
       "      <td>Agriculture, Forestry and Fishing</td>\n",
       "      <td>g_100-199</td>\n",
       "      <td>Fixed tangible assets</td>\n",
       "      <td>C</td>\n",
       "      <td>DOLLARS(millions)</td>\n",
       "    </tr>\n",
       "    <tr>\n",
       "      <th>71</th>\n",
       "      <td>2011</td>\n",
       "      <td>A</td>\n",
       "      <td>Agriculture, Forestry and Fishing</td>\n",
       "      <td>h_200+</td>\n",
       "      <td>Fixed tangible assets</td>\n",
       "      <td>C</td>\n",
       "      <td>DOLLARS(millions)</td>\n",
       "    </tr>\n",
       "    <tr>\n",
       "      <th>102</th>\n",
       "      <td>2011</td>\n",
       "      <td>B</td>\n",
       "      <td>Mining</td>\n",
       "      <td>c_6-9</td>\n",
       "      <td>Sales, government funding, grants and subsidies</td>\n",
       "      <td>C</td>\n",
       "      <td>DOLLARS(millions)</td>\n",
       "    </tr>\n",
       "    <tr>\n",
       "      <th>123</th>\n",
       "      <td>2011</td>\n",
       "      <td>B</td>\n",
       "      <td>Mining</td>\n",
       "      <td>e_20-49</td>\n",
       "      <td>Operating profit before tax</td>\n",
       "      <td>C</td>\n",
       "      <td>DOLLARS(millions)</td>\n",
       "    </tr>\n",
       "    <tr>\n",
       "      <th>124</th>\n",
       "      <td>2011</td>\n",
       "      <td>B</td>\n",
       "      <td>Mining</td>\n",
       "      <td>e_20-49</td>\n",
       "      <td>Total assets</td>\n",
       "      <td>C</td>\n",
       "      <td>DOLLARS(millions)</td>\n",
       "    </tr>\n",
       "    <tr>\n",
       "      <th>...</th>\n",
       "      <td>...</td>\n",
       "      <td>...</td>\n",
       "      <td>...</td>\n",
       "      <td>...</td>\n",
       "      <td>...</td>\n",
       "      <td>...</td>\n",
       "      <td>...</td>\n",
       "    </tr>\n",
       "    <tr>\n",
       "      <th>19618</th>\n",
       "      <td>2023</td>\n",
       "      <td>M</td>\n",
       "      <td>Professional, Scientific and Technical Services</td>\n",
       "      <td>h_200+</td>\n",
       "      <td>Total assets</td>\n",
       "      <td>C</td>\n",
       "      <td>DOLLARS(millions)</td>\n",
       "    </tr>\n",
       "    <tr>\n",
       "      <th>19974</th>\n",
       "      <td>2023</td>\n",
       "      <td>R</td>\n",
       "      <td>Arts and Recreation Services</td>\n",
       "      <td>c_6-9</td>\n",
       "      <td>Sales, government funding, grants and subsidies</td>\n",
       "      <td>C</td>\n",
       "      <td>DOLLARS(millions)</td>\n",
       "    </tr>\n",
       "    <tr>\n",
       "      <th>19977</th>\n",
       "      <td>2023</td>\n",
       "      <td>R</td>\n",
       "      <td>Arts and Recreation Services</td>\n",
       "      <td>c_6-9</td>\n",
       "      <td>Operating profit before tax</td>\n",
       "      <td>C</td>\n",
       "      <td>DOLLARS(millions)</td>\n",
       "    </tr>\n",
       "    <tr>\n",
       "      <th>20013</th>\n",
       "      <td>2023</td>\n",
       "      <td>R</td>\n",
       "      <td>Arts and Recreation Services</td>\n",
       "      <td>g_100-199</td>\n",
       "      <td>Operating profit before tax</td>\n",
       "      <td>C</td>\n",
       "      <td>DOLLARS(millions)</td>\n",
       "    </tr>\n",
       "    <tr>\n",
       "      <th>20019</th>\n",
       "      <td>2023</td>\n",
       "      <td>R</td>\n",
       "      <td>Arts and Recreation Services</td>\n",
       "      <td>h_200+</td>\n",
       "      <td>Sales, government funding, grants and subsidies</td>\n",
       "      <td>C</td>\n",
       "      <td>DOLLARS(millions)</td>\n",
       "    </tr>\n",
       "  </tbody>\n",
       "</table>\n",
       "<p>373 rows × 7 columns</p>\n",
       "</div>"
      ],
      "text/plain": [
       "       year industry_code_ANZSIC  \\\n",
       "62     2011                    A   \n",
       "71     2011                    A   \n",
       "102    2011                    B   \n",
       "123    2011                    B   \n",
       "124    2011                    B   \n",
       "...     ...                  ...   \n",
       "19618  2023                    M   \n",
       "19974  2023                    R   \n",
       "19977  2023                    R   \n",
       "20013  2023                    R   \n",
       "20019  2023                    R   \n",
       "\n",
       "                                  industry_name_ANZSIC rme_size_grp  \\\n",
       "62                   Agriculture, Forestry and Fishing    g_100-199   \n",
       "71                   Agriculture, Forestry and Fishing       h_200+   \n",
       "102                                             Mining        c_6-9   \n",
       "123                                             Mining      e_20-49   \n",
       "124                                             Mining      e_20-49   \n",
       "...                                                ...          ...   \n",
       "19618  Professional, Scientific and Technical Services       h_200+   \n",
       "19974                     Arts and Recreation Services        c_6-9   \n",
       "19977                     Arts and Recreation Services        c_6-9   \n",
       "20013                     Arts and Recreation Services    g_100-199   \n",
       "20019                     Arts and Recreation Services       h_200+   \n",
       "\n",
       "                                              variable value  \\\n",
       "62                               Fixed tangible assets     C   \n",
       "71                               Fixed tangible assets     C   \n",
       "102    Sales, government funding, grants and subsidies     C   \n",
       "123                        Operating profit before tax     C   \n",
       "124                                       Total assets     C   \n",
       "...                                                ...   ...   \n",
       "19618                                     Total assets     C   \n",
       "19974  Sales, government funding, grants and subsidies     C   \n",
       "19977                      Operating profit before tax     C   \n",
       "20013                      Operating profit before tax     C   \n",
       "20019  Sales, government funding, grants and subsidies     C   \n",
       "\n",
       "                    unit  \n",
       "62     DOLLARS(millions)  \n",
       "71     DOLLARS(millions)  \n",
       "102    DOLLARS(millions)  \n",
       "123    DOLLARS(millions)  \n",
       "124    DOLLARS(millions)  \n",
       "...                  ...  \n",
       "19618  DOLLARS(millions)  \n",
       "19974  DOLLARS(millions)  \n",
       "19977  DOLLARS(millions)  \n",
       "20013  DOLLARS(millions)  \n",
       "20019  DOLLARS(millions)  \n",
       "\n",
       "[373 rows x 7 columns]"
      ]
     },
     "execution_count": 87,
     "metadata": {},
     "output_type": "execute_result"
    }
   ],
   "source": [
    "data[data[\"value\"] == 'C']"
   ]
  },
  {
   "cell_type": "code",
   "execution_count": 81,
   "id": "291a2bf1-4211-4f15-9462-dc73e03f2e3c",
   "metadata": {},
   "outputs": [
    {
     "data": {
      "text/html": [
       "<div>\n",
       "<style scoped>\n",
       "    .dataframe tbody tr th:only-of-type {\n",
       "        vertical-align: middle;\n",
       "    }\n",
       "\n",
       "    .dataframe tbody tr th {\n",
       "        vertical-align: top;\n",
       "    }\n",
       "\n",
       "    .dataframe thead th {\n",
       "        text-align: right;\n",
       "    }\n",
       "</style>\n",
       "<table border=\"1\" class=\"dataframe\">\n",
       "  <thead>\n",
       "    <tr style=\"text-align: right;\">\n",
       "      <th></th>\n",
       "      <th>year</th>\n",
       "      <th>industry_code_ANZSIC</th>\n",
       "      <th>industry_name_ANZSIC</th>\n",
       "      <th>rme_size_grp</th>\n",
       "      <th>variable</th>\n",
       "      <th>value</th>\n",
       "      <th>unit</th>\n",
       "    </tr>\n",
       "  </thead>\n",
       "  <tbody>\n",
       "    <tr>\n",
       "      <th>20119</th>\n",
       "      <td>2023</td>\n",
       "      <td>all</td>\n",
       "      <td>All Industries</td>\n",
       "      <td>j_Grand_Total</td>\n",
       "      <td>Total income</td>\n",
       "      <td>930995</td>\n",
       "      <td>DOLLARS(millions)</td>\n",
       "    </tr>\n",
       "    <tr>\n",
       "      <th>20120</th>\n",
       "      <td>2023</td>\n",
       "      <td>all</td>\n",
       "      <td>All Industries</td>\n",
       "      <td>j_Grand_Total</td>\n",
       "      <td>Total expenditure</td>\n",
       "      <td>832964</td>\n",
       "      <td>DOLLARS(millions)</td>\n",
       "    </tr>\n",
       "    <tr>\n",
       "      <th>20121</th>\n",
       "      <td>2023</td>\n",
       "      <td>all</td>\n",
       "      <td>All Industries</td>\n",
       "      <td>j_Grand_Total</td>\n",
       "      <td>Operating profit before tax</td>\n",
       "      <td>103616</td>\n",
       "      <td>DOLLARS(millions)</td>\n",
       "    </tr>\n",
       "    <tr>\n",
       "      <th>20122</th>\n",
       "      <td>2023</td>\n",
       "      <td>all</td>\n",
       "      <td>All Industries</td>\n",
       "      <td>j_Grand_Total</td>\n",
       "      <td>Total assets</td>\n",
       "      <td>2831894</td>\n",
       "      <td>DOLLARS(millions)</td>\n",
       "    </tr>\n",
       "    <tr>\n",
       "      <th>20123</th>\n",
       "      <td>2023</td>\n",
       "      <td>all</td>\n",
       "      <td>All Industries</td>\n",
       "      <td>j_Grand_Total</td>\n",
       "      <td>Fixed tangible assets</td>\n",
       "      <td>681890</td>\n",
       "      <td>DOLLARS(millions)</td>\n",
       "    </tr>\n",
       "  </tbody>\n",
       "</table>\n",
       "</div>"
      ],
      "text/plain": [
       "       year industry_code_ANZSIC industry_name_ANZSIC   rme_size_grp  \\\n",
       "20119  2023                  all       All Industries  j_Grand_Total   \n",
       "20120  2023                  all       All Industries  j_Grand_Total   \n",
       "20121  2023                  all       All Industries  j_Grand_Total   \n",
       "20122  2023                  all       All Industries  j_Grand_Total   \n",
       "20123  2023                  all       All Industries  j_Grand_Total   \n",
       "\n",
       "                          variable    value               unit  \n",
       "20119                 Total income   930995  DOLLARS(millions)  \n",
       "20120            Total expenditure   832964  DOLLARS(millions)  \n",
       "20121  Operating profit before tax   103616  DOLLARS(millions)  \n",
       "20122                 Total assets  2831894  DOLLARS(millions)  \n",
       "20123        Fixed tangible assets   681890  DOLLARS(millions)  "
      ]
     },
     "execution_count": 81,
     "metadata": {},
     "output_type": "execute_result"
    }
   ],
   "source": [
    "data.tail()"
   ]
  },
  {
   "cell_type": "code",
   "execution_count": 82,
   "id": "f8841b6f-ee72-4ff1-b62a-409be1f5f4d8",
   "metadata": {},
   "outputs": [
    {
     "data": {
      "text/plain": [
       "0                                          Activity unit\n",
       "1                                 Rolling mean employees\n",
       "2                                Salaries and wages paid\n",
       "3        Sales, government funding, grants and subsidies\n",
       "4                                           Total income\n",
       "                              ...                       \n",
       "20119                                       Total income\n",
       "20120                                  Total expenditure\n",
       "20121                        Operating profit before tax\n",
       "20122                                       Total assets\n",
       "20123                              Fixed tangible assets\n",
       "Name: variable, Length: 20124, dtype: object"
      ]
     },
     "execution_count": 82,
     "metadata": {},
     "output_type": "execute_result"
    }
   ],
   "source": [
    "data[\"variable\"]"
   ]
  },
  {
   "cell_type": "code",
   "execution_count": 88,
   "id": "9d328843-8c3d-4da7-8589-0b151d6d70be",
   "metadata": {},
   "outputs": [
    {
     "data": {
      "text/plain": [
       "unit\n",
       "DOLLARS(millions)    15652\n",
       "COUNT                 4472\n",
       "Name: count, dtype: int64"
      ]
     },
     "execution_count": 88,
     "metadata": {},
     "output_type": "execute_result"
    }
   ],
   "source": [
    "data[\"unit\"].value_counts()"
   ]
  },
  {
   "cell_type": "code",
   "execution_count": 95,
   "id": "e5c04b74-f707-41ae-840d-b01e7b9fde85",
   "metadata": {},
   "outputs": [],
   "source": [
    "data.loc[data[\"value\"] == 'C', \"value\"] = 0"
   ]
  },
  {
   "cell_type": "code",
   "execution_count": 97,
   "id": "11cf20f4-8df5-40d9-820c-9657dbfb8fc4",
   "metadata": {},
   "outputs": [
    {
     "data": {
      "text/html": [
       "<div>\n",
       "<style scoped>\n",
       "    .dataframe tbody tr th:only-of-type {\n",
       "        vertical-align: middle;\n",
       "    }\n",
       "\n",
       "    .dataframe tbody tr th {\n",
       "        vertical-align: top;\n",
       "    }\n",
       "\n",
       "    .dataframe thead th {\n",
       "        text-align: right;\n",
       "    }\n",
       "</style>\n",
       "<table border=\"1\" class=\"dataframe\">\n",
       "  <thead>\n",
       "    <tr style=\"text-align: right;\">\n",
       "      <th></th>\n",
       "      <th>year</th>\n",
       "      <th>industry_code_ANZSIC</th>\n",
       "      <th>industry_name_ANZSIC</th>\n",
       "      <th>rme_size_grp</th>\n",
       "      <th>variable</th>\n",
       "      <th>value</th>\n",
       "      <th>unit</th>\n",
       "    </tr>\n",
       "  </thead>\n",
       "  <tbody>\n",
       "  </tbody>\n",
       "</table>\n",
       "</div>"
      ],
      "text/plain": [
       "Empty DataFrame\n",
       "Columns: [year, industry_code_ANZSIC, industry_name_ANZSIC, rme_size_grp, variable, value, unit]\n",
       "Index: []"
      ]
     },
     "execution_count": 97,
     "metadata": {},
     "output_type": "execute_result"
    }
   ],
   "source": [
    "data[data[\"value\"] == 'C']"
   ]
  },
  {
   "cell_type": "code",
   "execution_count": 100,
   "id": "36ca40f1-5aba-4fff-931f-9a1d196f9fc0",
   "metadata": {},
   "outputs": [],
   "source": [
    "data[\"value\"] = data[\"value\"].astype(int)"
   ]
  },
  {
   "cell_type": "code",
   "execution_count": 101,
   "id": "c06248b6-1e3e-4dcb-9d82-2b023d49bf31",
   "metadata": {},
   "outputs": [],
   "source": [
    "# create a new column with this dataframe named percentage of value\n",
    "data[\"percentage\"] = (data[\"value\"] / data[\"value\"].sum())*100"
   ]
  },
  {
   "cell_type": "code",
   "execution_count": 107,
   "id": "4736251a-36d8-49b4-8c6c-8d72c516df03",
   "metadata": {},
   "outputs": [
    {
     "data": {
      "text/html": [
       "<div>\n",
       "<style scoped>\n",
       "    .dataframe tbody tr th:only-of-type {\n",
       "        vertical-align: middle;\n",
       "    }\n",
       "\n",
       "    .dataframe tbody tr th {\n",
       "        vertical-align: top;\n",
       "    }\n",
       "\n",
       "    .dataframe thead th {\n",
       "        text-align: right;\n",
       "    }\n",
       "</style>\n",
       "<table border=\"1\" class=\"dataframe\">\n",
       "  <thead>\n",
       "    <tr style=\"text-align: right;\">\n",
       "      <th></th>\n",
       "      <th>year</th>\n",
       "      <th>industry_code_ANZSIC</th>\n",
       "      <th>industry_name_ANZSIC</th>\n",
       "      <th>rme_size_grp</th>\n",
       "      <th>variable</th>\n",
       "      <th>value</th>\n",
       "      <th>unit</th>\n",
       "      <th>percentage</th>\n",
       "    </tr>\n",
       "  </thead>\n",
       "  <tbody>\n",
       "    <tr>\n",
       "      <th>20122</th>\n",
       "      <td>2023</td>\n",
       "      <td>all</td>\n",
       "      <td>All Industries</td>\n",
       "      <td>j_Grand_Total</td>\n",
       "      <td>Total assets</td>\n",
       "      <td>2831894</td>\n",
       "      <td>DOLLARS(millions)</td>\n",
       "      <td>1.062782</td>\n",
       "    </tr>\n",
       "    <tr>\n",
       "      <th>18574</th>\n",
       "      <td>2022</td>\n",
       "      <td>all</td>\n",
       "      <td>All Industries</td>\n",
       "      <td>j_Grand_Total</td>\n",
       "      <td>Total assets</td>\n",
       "      <td>2750156</td>\n",
       "      <td>DOLLARS(millions)</td>\n",
       "      <td>1.032106</td>\n",
       "    </tr>\n",
       "    <tr>\n",
       "      <th>17026</th>\n",
       "      <td>2021</td>\n",
       "      <td>all</td>\n",
       "      <td>All Industries</td>\n",
       "      <td>j_Grand_Total</td>\n",
       "      <td>Total assets</td>\n",
       "      <td>2519921</td>\n",
       "      <td>DOLLARS(millions)</td>\n",
       "      <td>0.945701</td>\n",
       "    </tr>\n",
       "    <tr>\n",
       "      <th>15477</th>\n",
       "      <td>2020</td>\n",
       "      <td>all</td>\n",
       "      <td>All Industries</td>\n",
       "      <td>j_Grand_Total</td>\n",
       "      <td>Total assets</td>\n",
       "      <td>2384577</td>\n",
       "      <td>DOLLARS(millions)</td>\n",
       "      <td>0.894908</td>\n",
       "    </tr>\n",
       "    <tr>\n",
       "      <th>13930</th>\n",
       "      <td>2019</td>\n",
       "      <td>all</td>\n",
       "      <td>All Industries</td>\n",
       "      <td>j_Grand_Total</td>\n",
       "      <td>Total assets</td>\n",
       "      <td>2228678</td>\n",
       "      <td>DOLLARS(millions)</td>\n",
       "      <td>0.836401</td>\n",
       "    </tr>\n",
       "    <tr>\n",
       "      <th>...</th>\n",
       "      <td>...</td>\n",
       "      <td>...</td>\n",
       "      <td>...</td>\n",
       "      <td>...</td>\n",
       "      <td>...</td>\n",
       "      <td>...</td>\n",
       "      <td>...</td>\n",
       "      <td>...</td>\n",
       "    </tr>\n",
       "    <tr>\n",
       "      <th>15621</th>\n",
       "      <td>2021</td>\n",
       "      <td>B</td>\n",
       "      <td>Mining</td>\n",
       "      <td>g_100-199</td>\n",
       "      <td>Operating profit before tax</td>\n",
       "      <td>-69</td>\n",
       "      <td>DOLLARS(millions)</td>\n",
       "      <td>-0.000026</td>\n",
       "    </tr>\n",
       "    <tr>\n",
       "      <th>9375</th>\n",
       "      <td>2017</td>\n",
       "      <td>B</td>\n",
       "      <td>Mining</td>\n",
       "      <td>a_0</td>\n",
       "      <td>Operating profit before tax</td>\n",
       "      <td>-74</td>\n",
       "      <td>DOLLARS(millions)</td>\n",
       "      <td>-0.000028</td>\n",
       "    </tr>\n",
       "    <tr>\n",
       "      <th>7764</th>\n",
       "      <td>2016</td>\n",
       "      <td>A</td>\n",
       "      <td>Agriculture, Forestry and Fishing</td>\n",
       "      <td>c_6-9</td>\n",
       "      <td>Operating profit before tax</td>\n",
       "      <td>-101</td>\n",
       "      <td>DOLLARS(millions)</td>\n",
       "      <td>-0.000038</td>\n",
       "    </tr>\n",
       "    <tr>\n",
       "      <th>861</th>\n",
       "      <td>2011</td>\n",
       "      <td>K</td>\n",
       "      <td>Financial and Insurance Services</td>\n",
       "      <td>f_50-99</td>\n",
       "      <td>Operating profit before tax</td>\n",
       "      <td>-113</td>\n",
       "      <td>DOLLARS(millions)</td>\n",
       "      <td>-0.000042</td>\n",
       "    </tr>\n",
       "    <tr>\n",
       "      <th>7827</th>\n",
       "      <td>2016</td>\n",
       "      <td>B</td>\n",
       "      <td>Mining</td>\n",
       "      <td>a_0</td>\n",
       "      <td>Operating profit before tax</td>\n",
       "      <td>-130</td>\n",
       "      <td>DOLLARS(millions)</td>\n",
       "      <td>-0.000049</td>\n",
       "    </tr>\n",
       "  </tbody>\n",
       "</table>\n",
       "<p>20124 rows × 8 columns</p>\n",
       "</div>"
      ],
      "text/plain": [
       "       year industry_code_ANZSIC               industry_name_ANZSIC  \\\n",
       "20122  2023                  all                     All Industries   \n",
       "18574  2022                  all                     All Industries   \n",
       "17026  2021                  all                     All Industries   \n",
       "15477  2020                  all                     All Industries   \n",
       "13930  2019                  all                     All Industries   \n",
       "...     ...                  ...                                ...   \n",
       "15621  2021                    B                             Mining   \n",
       "9375   2017                    B                             Mining   \n",
       "7764   2016                    A  Agriculture, Forestry and Fishing   \n",
       "861    2011                    K   Financial and Insurance Services   \n",
       "7827   2016                    B                             Mining   \n",
       "\n",
       "        rme_size_grp                     variable    value               unit  \\\n",
       "20122  j_Grand_Total                 Total assets  2831894  DOLLARS(millions)   \n",
       "18574  j_Grand_Total                 Total assets  2750156  DOLLARS(millions)   \n",
       "17026  j_Grand_Total                 Total assets  2519921  DOLLARS(millions)   \n",
       "15477  j_Grand_Total                 Total assets  2384577  DOLLARS(millions)   \n",
       "13930  j_Grand_Total                 Total assets  2228678  DOLLARS(millions)   \n",
       "...              ...                          ...      ...                ...   \n",
       "15621      g_100-199  Operating profit before tax      -69  DOLLARS(millions)   \n",
       "9375             a_0  Operating profit before tax      -74  DOLLARS(millions)   \n",
       "7764           c_6-9  Operating profit before tax     -101  DOLLARS(millions)   \n",
       "861          f_50-99  Operating profit before tax     -113  DOLLARS(millions)   \n",
       "7827             a_0  Operating profit before tax     -130  DOLLARS(millions)   \n",
       "\n",
       "       percentage  \n",
       "20122    1.062782  \n",
       "18574    1.032106  \n",
       "17026    0.945701  \n",
       "15477    0.894908  \n",
       "13930    0.836401  \n",
       "...           ...  \n",
       "15621   -0.000026  \n",
       "9375    -0.000028  \n",
       "7764    -0.000038  \n",
       "861     -0.000042  \n",
       "7827    -0.000049  \n",
       "\n",
       "[20124 rows x 8 columns]"
      ]
     },
     "execution_count": 107,
     "metadata": {},
     "output_type": "execute_result"
    }
   ],
   "source": [
    "data.sort_values(by = \"percentage\",  ascending=False)"
   ]
  },
  {
   "cell_type": "code",
   "execution_count": 108,
   "id": "33bd6e7f-861f-479d-bc56-6e13cae0a13f",
   "metadata": {},
   "outputs": [
    {
     "data": {
      "text/plain": [
       "13930    All Industries\n",
       "15477    All Industries\n",
       "17026    All Industries\n",
       "18574    All Industries\n",
       "20122    All Industries\n",
       "Name: industry_name_ANZSIC, dtype: object"
      ]
     },
     "execution_count": 108,
     "metadata": {},
     "output_type": "execute_result"
    }
   ],
   "source": [
    "data.loc[data['percentage'] > 0.83, \"industry_name_ANZSIC\"]"
   ]
  },
  {
   "cell_type": "code",
   "execution_count": 112,
   "id": "5be92dc5-0450-481f-9d4f-8e233580a2ff",
   "metadata": {},
   "outputs": [
    {
     "data": {
      "text/plain": [
       "Series([], Name: industry_name_ANZSIC, dtype: object)"
      ]
     },
     "execution_count": 112,
     "metadata": {},
     "output_type": "execute_result"
    }
   ],
   "source": [
    "data[(data['percentage'] > 0.83)  (data[\"variable\"] == \"Operating profit before tax\")][\"industry_name_ANZSIC\"]"
   ]
  },
  {
   "cell_type": "code",
   "execution_count": null,
   "id": "206b17ef-5929-47ed-8063-0e21787c1bc3",
   "metadata": {},
   "outputs": [],
   "source": [
    "~  Note\n",
    "& And\n",
    "| OR\n",
    "== equal\n",
    "!= Not equal"
   ]
  }
 ],
 "metadata": {
  "kernelspec": {
   "display_name": "Python 3 (ipykernel)",
   "language": "python",
   "name": "python3"
  },
  "language_info": {
   "codemirror_mode": {
    "name": "ipython",
    "version": 3
   },
   "file_extension": ".py",
   "mimetype": "text/x-python",
   "name": "python",
   "nbconvert_exporter": "python",
   "pygments_lexer": "ipython3",
   "version": "3.11.3"
  }
 },
 "nbformat": 4,
 "nbformat_minor": 5
}
