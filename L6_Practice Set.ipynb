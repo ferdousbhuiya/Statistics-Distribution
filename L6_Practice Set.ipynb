{
 "cells": [
  {
   "cell_type": "markdown",
   "id": "a2d5f7ad-8aa5-4e20-80e1-b643e07d2cda",
   "metadata": {},
   "source": [
    "Q1. Find all matches of the word \"data\" in the given string.\n",
    "\n",
    "text = \"Data Science is a field that uses data analysis to extract knowledge from data.\""
   ]
  },
  {
   "cell_type": "code",
   "execution_count": 1,
   "id": "1cfe1645-1b2a-469b-8850-ae9b8aaa4453",
   "metadata": {},
   "outputs": [
    {
     "name": "stdout",
     "output_type": "stream",
     "text": [
      "Matches found: ['Data', 'data', 'data']\n"
     ]
    }
   ],
   "source": [
    "import re\n",
    "\n",
    "text = \"Data Science is a field that uses data analysis to extract knowledge from data.\"\n",
    "\n",
    "# Use re.findall to find all occurrences of 'data', ignoring case\n",
    "matches = re.findall(r'\\bdata\\b', text, re.IGNORECASE)\n",
    "\n",
    "# Print the matches\n",
    "print(\"Matches found:\", matches)\n"
   ]
  },
  {
   "cell_type": "markdown",
   "id": "eef454a2-4214-4dd7-a45b-a3c56f471836",
   "metadata": {},
   "source": [
    "Q2. Split the string on each comma and space.\n",
    "\n",
    "text = \"data, science, is, awesome\""
   ]
  },
  {
   "cell_type": "code",
   "execution_count": 2,
   "id": "a1928f0c-a8a7-411c-908e-8793ebaa51e8",
   "metadata": {},
   "outputs": [
    {
     "name": "stdout",
     "output_type": "stream",
     "text": [
      "['data', 'science', 'is', 'awesome']\n"
     ]
    }
   ],
   "source": [
    "import re\n",
    "\n",
    "text = \"data, science, is, awesome\"\n",
    "\n",
    "# Use re.split to split on commas and spaces\n",
    "parts = re.split(r'[,\\s]+', text)\n",
    "\n",
    "# Print the resulting list\n",
    "print(parts)\n"
   ]
  },
  {
   "cell_type": "markdown",
   "id": "76895942-87a8-4dfd-b989-ea2021a905f2",
   "metadata": {},
   "source": [
    "Q3. Replace all digits with a hash (#).\n",
    "\n",
    "    text = \"My phone number is 123-456-7890.\""
   ]
  },
  {
   "cell_type": "code",
   "execution_count": 3,
   "id": "f9fd6cfe-5152-4d5a-a076-18253c1b75d6",
   "metadata": {},
   "outputs": [
    {
     "name": "stdout",
     "output_type": "stream",
     "text": [
      "My phone number is ###-###-####.\n"
     ]
    }
   ],
   "source": [
    "import re\n",
    "\n",
    "text = \"My phone number is 123-456-7890.\"\n",
    "\n",
    "# Use re.sub to replace all digits with a hash (#)\n",
    "modified_text = re.sub(r'\\d', '#', text)\n",
    "\n",
    "# Print the resulting string\n",
    "print(modified_text)\n"
   ]
  },
  {
   "cell_type": "markdown",
   "id": "ac30d7c1-f42e-4db0-8cb7-260750233b7b",
   "metadata": {},
   "source": [
    "Q4. Find the first match of the word \"Python\" in the following string.\n",
    "\n",
    "text = \"I love python programming. Python is great!\""
   ]
  },
  {
   "cell_type": "code",
   "execution_count": 4,
   "id": "23d38081-8beb-40d4-a019-324612669f67",
   "metadata": {},
   "outputs": [
    {
     "name": "stdout",
     "output_type": "stream",
     "text": [
      "First match found: Python\n"
     ]
    }
   ],
   "source": [
    "import re\n",
    "\n",
    "text = \"I love python programming. Python is great!\"\n",
    "\n",
    "# Use re.search to find the first occurrence of the word \"Python\"\n",
    "match = re.search(r'Python', text)\n",
    "\n",
    "# Check if a match was found and print it\n",
    "if match:\n",
    "    print(\"First match found:\", match.group())\n",
    "else:\n",
    "    print(\"No match found.\")\n"
   ]
  },
  {
   "cell_type": "markdown",
   "id": "ddea1d2b-82e2-4e54-8202-14885238e211",
   "metadata": {},
   "source": [
    "Q5. Check if the string starts with \"Hello\".\n",
    "\n",
    "text = \"Hello, how are you?\""
   ]
  },
  {
   "cell_type": "code",
   "execution_count": 5,
   "id": "0bf02c97-34c7-4a7a-b9af-1650c3a38eeb",
   "metadata": {},
   "outputs": [
    {
     "name": "stdout",
     "output_type": "stream",
     "text": [
      "The string starts with 'Hello'.\n"
     ]
    }
   ],
   "source": [
    "text = \"Hello, how are you?\"\n",
    "\n",
    "# Check if the string starts with \"Hello\"\n",
    "if text.startswith(\"Hello\"):\n",
    "    print(\"The string starts with 'Hello'.\")\n",
    "else:\n",
    "    print(\"The string does not start with 'Hello'.\")"
   ]
  },
  {
   "cell_type": "markdown",
   "id": "fe6e9dbd-56da-43dd-a2db-d0a0344073b6",
   "metadata": {},
   "source": [
    "Q6. Extract all the words starting with a capital letter.\n",
    "\n",
    "text = \"Hello World. Welcome to the Universe.\""
   ]
  },
  {
   "cell_type": "code",
   "execution_count": 6,
   "id": "46e84478-7cac-42da-b6ad-812989af2018",
   "metadata": {},
   "outputs": [
    {
     "name": "stdout",
     "output_type": "stream",
     "text": [
      "['Hello', 'World', 'Welcome', 'Universe']\n"
     ]
    }
   ],
   "source": [
    "import re\n",
    "\n",
    "text = \"Hello World. Welcome to the Universe.\"\n",
    "\n",
    "# Use regular expression to find all words starting with a capital letter\n",
    "capitalized_words = re.findall(r'\\b[A-Z][a-z]*\\b', text)\n",
    "\n",
    "print(capitalized_words)\n"
   ]
  },
  {
   "cell_type": "markdown",
   "id": "559726d6-b186-48ec-b54b-612ecc75a275",
   "metadata": {},
   "source": [
    "Q7. Find all email addresses in the given text.\n",
    "\n",
    "text = \"Please contact us at support@example.com or sales@example.org.\""
   ]
  },
  {
   "cell_type": "code",
   "execution_count": 7,
   "id": "918ddcbd-66ef-413e-966a-de766d0973fd",
   "metadata": {},
   "outputs": [
    {
     "name": "stdout",
     "output_type": "stream",
     "text": [
      "['support@example.com', 'sales@example.org']\n"
     ]
    }
   ],
   "source": [
    "import re\n",
    "\n",
    "text = \"Please contact us at support@example.com or sales@example.org.\"\n",
    "\n",
    "# Define a regular expression pattern for matching email addresses\n",
    "email_pattern = r'\\b[A-Za-z0-9._%+-]+@[A-Za-z0-9.-]+\\.[A-Z|a-z]{2,}\\b'\n",
    "\n",
    "# Use re.findall to find all email addresses in the text\n",
    "email_addresses = re.findall(email_pattern, text)\n",
    "\n",
    "print(email_addresses)\n"
   ]
  },
  {
   "cell_type": "markdown",
   "id": "1f3be57c-d6a5-4f91-9333-5e1d02d24eec",
   "metadata": {},
   "source": [
    "Q8. Check if the string contains only alphanumeric characters.\n",
    "\n",
    "text = \"DataScience2024\""
   ]
  },
  {
   "cell_type": "code",
   "execution_count": 8,
   "id": "16b65d75-ec5b-4c3f-bd84-5adf238c72a2",
   "metadata": {},
   "outputs": [
    {
     "name": "stdout",
     "output_type": "stream",
     "text": [
      "True\n"
     ]
    }
   ],
   "source": [
    "text = \"DataScience2024\"\n",
    "\n",
    "# Check if the string contains only alphanumeric characters\n",
    "is_alphanumeric = text.isalnum()\n",
    "\n",
    "print(is_alphanumeric)"
   ]
  },
  {
   "cell_type": "markdown",
   "id": "5c3e3dc8-e30e-4fa1-a308-cf5b109aa766",
   "metadata": {},
   "source": [
    "Q9. Replace multiple spaces with a single space.\n",
    "\n",
    "text = \"Data    Science   is   fun\""
   ]
  },
  {
   "cell_type": "code",
   "execution_count": 9,
   "id": "dd046218-2f0d-4f8b-a511-b0d0bcc86c70",
   "metadata": {},
   "outputs": [
    {
     "name": "stdout",
     "output_type": "stream",
     "text": [
      "Data Science is fun\n"
     ]
    }
   ],
   "source": [
    "import re\n",
    "\n",
    "text = \"Data    Science   is   fun\"\n",
    "\n",
    "# Replace multiple spaces with a single space\n",
    "cleaned_text = re.sub(r'\\s+', ' ', text).strip()\n",
    "\n",
    "print(cleaned_text)\n"
   ]
  },
  {
   "cell_type": "markdown",
   "id": "fa769ef9-beee-49e7-b608-3859c11168c9",
   "metadata": {},
   "source": [
    "Q10. Find all the words in the given string.\n",
    "\n",
    "text = \"DataScience 101: Introduction to Data!\""
   ]
  },
  {
   "cell_type": "code",
   "execution_count": 10,
   "id": "1e10c8a0-bc7f-4c8a-8adb-5d08de9cba81",
   "metadata": {},
   "outputs": [
    {
     "name": "stdout",
     "output_type": "stream",
     "text": [
      "['DataScience', '101', 'Introduction', 'to', 'Data']\n"
     ]
    }
   ],
   "source": [
    "import re\n",
    "\n",
    "text = \"DataScience 101: Introduction to Data!\"\n",
    "\n",
    "# Find all words using regular expressions\n",
    "words = re.findall(r'\\w+', text)\n",
    "\n",
    "print(words)\n"
   ]
  },
  {
   "cell_type": "markdown",
   "id": "d96e8062-a131-4132-b564-df8ffa0fe9ad",
   "metadata": {},
   "source": [
    "Q11. Extract all phone numbers in the format XXX-XXX-XXXX.\n",
    "\n",
    "text = \"Call me at 123-456-7890 or 987-654-3210.\""
   ]
  },
  {
   "cell_type": "code",
   "execution_count": 11,
   "id": "88153e9b-fe8b-470c-a1a5-86c62605f9e4",
   "metadata": {},
   "outputs": [
    {
     "name": "stdout",
     "output_type": "stream",
     "text": [
      "['123-456-7890', '987-654-3210']\n"
     ]
    }
   ],
   "source": [
    "import re\n",
    "\n",
    "text = \"Call me at 123-456-7890 or 987-654-3210.\"\n",
    "\n",
    "# Find all phone numbers in the format XXX-XXX-XXXX\n",
    "phone_numbers = re.findall(r'\\b\\d{3}-\\d{3}-\\d{4}\\b', text)\n",
    "\n",
    "print(phone_numbers)"
   ]
  },
  {
   "cell_type": "markdown",
   "id": "00b4b3b5-fa20-4886-96e5-ca295c9ec214",
   "metadata": {},
   "source": [
    "Q12. Find all sequences of consecutive vowels in the given string.\n",
    "\n",
    "text = \"Artificial Intelligence and Deep Learning are fascinating fields.\""
   ]
  },
  {
   "cell_type": "code",
   "execution_count": 12,
   "id": "f3f4951b-7635-4dbe-8cbe-6dbb73a0da58",
   "metadata": {},
   "outputs": [
    {
     "name": "stdout",
     "output_type": "stream",
     "text": [
      "['A', 'i', 'i', 'ia', 'I', 'e', 'i', 'e', 'e', 'a', 'ee', 'ea', 'i', 'a', 'e', 'a', 'i', 'a', 'i', 'ie']\n"
     ]
    }
   ],
   "source": [
    "import re\n",
    "\n",
    "text = \"Artificial Intelligence and Deep Learning are fascinating fields.\"\n",
    "\n",
    "# Define the regular expression pattern for consecutive vowels\n",
    "pattern = r'[aeiouAEIOU]+'\n",
    "\n",
    "# Find all sequences of consecutive vowels\n",
    "sequences = re.findall(pattern, text)\n",
    "\n",
    "print(sequences)\n"
   ]
  }
 ],
 "metadata": {
  "kernelspec": {
   "display_name": "Python 3 (ipykernel)",
   "language": "python",
   "name": "python3"
  },
  "language_info": {
   "codemirror_mode": {
    "name": "ipython",
    "version": 3
   },
   "file_extension": ".py",
   "mimetype": "text/x-python",
   "name": "python",
   "nbconvert_exporter": "python",
   "pygments_lexer": "ipython3",
   "version": "3.12.3"
  }
 },
 "nbformat": 4,
 "nbformat_minor": 5
}
