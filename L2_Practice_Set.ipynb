{
 "cells": [
  {
   "cell_type": "markdown",
   "id": "00a2b5c2",
   "metadata": {},
   "source": [
    "## List"
   ]
  },
  {
   "cell_type": "markdown",
   "id": "bd82036a",
   "metadata": {},
   "source": [
    "Q1. Define a list named my_list containing integers 1, 2, 3, 4, 5."
   ]
  },
  {
   "cell_type": "code",
   "execution_count": 1,
   "id": "f6d79bf9",
   "metadata": {},
   "outputs": [],
   "source": [
    "my_list = [1, 2, 3, 4, 5]"
   ]
  },
  {
   "cell_type": "markdown",
   "id": "e9dfc871",
   "metadata": {},
   "source": [
    "Q2. add the number 6 to the end of my_list created in Q1."
   ]
  },
  {
   "cell_type": "code",
   "execution_count": 2,
   "id": "27695611",
   "metadata": {},
   "outputs": [],
   "source": [
    "my_list = [1, 2, 3, 4, 5]  # Initial list\n",
    "my_list.append(6)          # Adding 6 to the end of the list"
   ]
  },
  {
   "cell_type": "markdown",
   "id": "6a553aa5",
   "metadata": {},
   "source": [
    "Q3.  Remove only the first occurrences of item 3 from the following list_3.\n",
    "\n",
    "list_3 = [6,5,1,2,3,5,3,5,7,9,3,8,2,3,1,0,3,9,6,5,3,4,7]"
   ]
  },
  {
   "cell_type": "code",
   "execution_count": 3,
   "id": "24d219fb",
   "metadata": {},
   "outputs": [
    {
     "name": "stdout",
     "output_type": "stream",
     "text": [
      "[6, 5, 1, 2, 5, 3, 5, 7, 9, 3, 8, 2, 3, 1, 0, 3, 9, 6, 5, 3, 4, 7]\n"
     ]
    }
   ],
   "source": [
    "list_3 = [6,5,1,2,3,5,3,5,7,9,3,8,2,3,1,0,3,9,6,5,3,4,7]\n",
    "\n",
    "# Remove the first occurrence of the item 3\n",
    "list_3.remove(3)\n",
    "\n",
    "print(list_3)\n"
   ]
  },
  {
   "cell_type": "markdown",
   "id": "10f5f943",
   "metadata": {},
   "source": [
    "Q4. Return the index of the first occurrence of item 9 in the following list_4.\n",
    "\n",
    "list_4 = [6,5,1,2,9,3,5,3,5,3,8,2,3,1,0,3,9,6,5,3,4,7]"
   ]
  },
  {
   "cell_type": "code",
   "execution_count": 4,
   "id": "bc124df4",
   "metadata": {},
   "outputs": [
    {
     "name": "stdout",
     "output_type": "stream",
     "text": [
      "4\n"
     ]
    }
   ],
   "source": [
    "list_4 = [6,5,1,2,9,3,5,3,5,3,8,2,3,1,0,3,9,6,5,3,4,7]\n",
    "\n",
    "# Find the index of the first occurrence of item 9\n",
    "index_of_9 = list_4.index(9)\n",
    "\n",
    "print(index_of_9)"
   ]
  },
  {
   "cell_type": "markdown",
   "id": "b61072b0",
   "metadata": {},
   "source": [
    "Q5. Rotate the elements of a list lst to the right by 2 positions. list_5 is [1, 2, 3, 4, 5]. The output should be [4, 5, 1, 2, 3]."
   ]
  },
  {
   "cell_type": "code",
   "execution_count": 5,
   "id": "0c3bf101",
   "metadata": {},
   "outputs": [
    {
     "name": "stdout",
     "output_type": "stream",
     "text": [
      "[4, 5, 1, 2, 3]\n"
     ]
    }
   ],
   "source": [
    "list_5 = [1, 2, 3, 4, 5]\n",
    "\n",
    "# Rotate the list to the right by 2 positions\n",
    "n = 2\n",
    "rotated_list = list_5[-n:] + list_5[:-n]\n",
    "\n",
    "print(rotated_list)"
   ]
  },
  {
   "cell_type": "markdown",
   "id": "37707cf3",
   "metadata": {},
   "source": [
    "Q6. Return a new list where each element of the following list is multiplied by 5.\n",
    "\n",
    "list_6 = [0,1,2,3,4,5,6]"
   ]
  },
  {
   "cell_type": "code",
   "execution_count": 6,
   "id": "8d830175",
   "metadata": {},
   "outputs": [
    {
     "name": "stdout",
     "output_type": "stream",
     "text": [
      "[0, 5, 10, 15, 20, 25, 30]\n"
     ]
    }
   ],
   "source": [
    "list_6 = [0, 1, 2, 3, 4, 5, 6]\n",
    "\n",
    "# Create a new list with each element multiplied by 5\n",
    "new_list = [x * 5 for x in list_6]\n",
    "\n",
    "print(new_list)"
   ]
  },
  {
   "cell_type": "markdown",
   "id": "25817b94",
   "metadata": {},
   "source": [
    "## Set"
   ]
  },
  {
   "cell_type": "markdown",
   "id": "0da3b0a1",
   "metadata": {},
   "source": [
    "Q7. Create a Python program to find common elements of two sets.\n",
    "\n",
    "set1 = {1, 2, 3, 4, 5}\n",
    "\n",
    "set2 = {4, 5, 6, 7, 8}\n"
   ]
  },
  {
   "cell_type": "code",
   "execution_count": 7,
   "id": "e031af07",
   "metadata": {},
   "outputs": [
    {
     "name": "stdout",
     "output_type": "stream",
     "text": [
      "Common elements: {4, 5}\n"
     ]
    }
   ],
   "source": [
    "# Define the sets\n",
    "set1 = {1, 2, 3, 4, 5}\n",
    "set2 = {4, 5, 6, 7, 8}\n",
    "\n",
    "# Method 1: Using the intersection method\n",
    "common_elements = set1.intersection(set2)\n",
    "\n",
    "# Method 2: Using the & operator\n",
    "# common_elements = set1 & set2\n",
    "\n",
    "# Print the common elements\n",
    "print(\"Common elements:\", common_elements)\n"
   ]
  },
  {
   "cell_type": "markdown",
   "id": "fcb60420",
   "metadata": {},
   "source": [
    "Q8. Write a Python script to check if a given set1 is a subset of set2.\n",
    "\n",
    "set1 = {1, 2, 3}\n",
    "\n",
    "set2 = {1, 2, 3, 4, 5}\n"
   ]
  },
  {
   "cell_type": "code",
   "execution_count": 8,
   "id": "9552e7c7",
   "metadata": {},
   "outputs": [
    {
     "name": "stdout",
     "output_type": "stream",
     "text": [
      "set1 is a subset of set2.\n"
     ]
    }
   ],
   "source": [
    "# Define the sets\n",
    "set1 = {1, 2, 3}\n",
    "set2 = {1, 2, 3, 4, 5}\n",
    "\n",
    "# Method 1: Using the issubset() method\n",
    "is_subset = set1.issubset(set2)\n",
    "\n",
    "# Method 2: Using the <= operator\n",
    "# is_subset = set1 <= set2\n",
    "\n",
    "# Print the result\n",
    "if is_subset:\n",
    "    print(\"set1 is a subset of set2.\")\n",
    "else:\n",
    "    print(\"set1 is not a subset of set2.\")\n"
   ]
  },
  {
   "cell_type": "markdown",
   "id": "27fd8bee",
   "metadata": {},
   "source": [
    "Q9. Write a Python program to find the symmetric difference between set A and the union of set B and set C.\n",
    "\n",
    "Set A: {1, 3, 5, 7, 9}\n",
    "\n",
    "Set B: {2, 4, 6, 8, 10}\n",
    "\n",
    "Set C: {1, 2, 3, 4, 5}\n"
   ]
  },
  {
   "cell_type": "code",
   "execution_count": 9,
   "id": "cda5fccb",
   "metadata": {},
   "outputs": [
    {
     "name": "stdout",
     "output_type": "stream",
     "text": [
      "The symmetric difference between set A and the union of set B and set C is: {2, 4, 6, 7, 8, 9, 10}\n"
     ]
    }
   ],
   "source": [
    "# Define the sets\n",
    "A = {1, 3, 5, 7, 9}\n",
    "B = {2, 4, 6, 8, 10}\n",
    "C = {1, 2, 3, 4, 5}\n",
    "\n",
    "# Calculate the union of B and C\n",
    "union_B_C = B.union(C)\n",
    "\n",
    "# Calculate the symmetric difference between A and the union of B and C\n",
    "symmetric_difference = A.symmetric_difference(union_B_C)\n",
    "\n",
    "# Print the result\n",
    "print(\"The symmetric difference between set A and the union of set B and set C is:\", symmetric_difference)\n"
   ]
  },
  {
   "cell_type": "markdown",
   "id": "b5a13baf",
   "metadata": {},
   "source": [
    "## Dictionary"
   ]
  },
  {
   "cell_type": "markdown",
   "id": "f45c62e1",
   "metadata": {},
   "source": [
    "Q10. Add a key (4:2000) to the following dictionary.\n",
    "\n",
    "dict1 = {1:100, 2:500, 3:1000}"
   ]
  },
  {
   "cell_type": "code",
   "execution_count": 10,
   "id": "bf543e46",
   "metadata": {},
   "outputs": [
    {
     "name": "stdout",
     "output_type": "stream",
     "text": [
      "{1: 100, 2: 500, 3: 1000, 4: 2000}\n"
     ]
    }
   ],
   "source": [
    "# Existing dictionary\n",
    "dict1 = {1: 100, 2: 500, 3: 1000}\n",
    "\n",
    "# Adding a new key-value pair to the dictionary\n",
    "dict1[4] = 2000\n",
    "\n",
    "# Print the updated dictionary\n",
    "print(dict1)\n"
   ]
  },
  {
   "cell_type": "markdown",
   "id": "2cd87e38",
   "metadata": {},
   "source": [
    "Q11. Create a dictionary by using the data specified in the following lists. Use data in list1 as keys and corresponding data in list2 as values.\n",
    "\n",
    "list1 = ['a','b','c','d', 'e']\n",
    "\n",
    "list2 = [1, 4, 9, 16, 25 ]"
   ]
  },
  {
   "cell_type": "code",
   "execution_count": 11,
   "id": "6b0a6428",
   "metadata": {},
   "outputs": [
    {
     "name": "stdout",
     "output_type": "stream",
     "text": [
      "{'a': 1, 'b': 4, 'c': 9, 'd': 16, 'e': 25}\n"
     ]
    }
   ],
   "source": [
    "# Lists provided\n",
    "list1 = ['a', 'b', 'c', 'd', 'e']\n",
    "list2 = [1, 4, 9, 16, 25]\n",
    "\n",
    "# Create a dictionary by pairing elements from list1 and list2\n",
    "dictionary = dict(zip(list1, list2))\n",
    "\n",
    "# Print the resulting dictionary\n",
    "print(dictionary)\n"
   ]
  },
  {
   "cell_type": "markdown",
   "id": "993f2825",
   "metadata": {},
   "source": [
    "Q12. Write a program to remove spaces from keys of the given dictionary.\n",
    "\n",
    "dict1 =  {'key 1': 10, 'key 2': 20, 'key 3': 30}\n",
    "\n",
    "output dict2 = {'key1': 10, 'key2': 20, 'key3': 30}\n"
   ]
  },
  {
   "cell_type": "code",
   "execution_count": 12,
   "id": "94841f62",
   "metadata": {},
   "outputs": [
    {
     "name": "stdout",
     "output_type": "stream",
     "text": [
      "{'key1': 10, 'key2': 20, 'key3': 30}\n"
     ]
    }
   ],
   "source": [
    "# Original dictionary with spaces in keys\n",
    "dict1 = {'key 1': 10, 'key 2': 20, 'key 3': 30}\n",
    "\n",
    "# Remove spaces from the keys\n",
    "dict2 = {key.replace(' ', ''): value for key, value in dict1.items()}\n",
    "\n",
    "# Print the resulting dictionary\n",
    "print(dict2)"
   ]
  }
 ],
 "metadata": {
  "kernelspec": {
   "display_name": "Python 3 (ipykernel)",
   "language": "python",
   "name": "python3"
  },
  "language_info": {
   "codemirror_mode": {
    "name": "ipython",
    "version": 3
   },
   "file_extension": ".py",
   "mimetype": "text/x-python",
   "name": "python",
   "nbconvert_exporter": "python",
   "pygments_lexer": "ipython3",
   "version": "3.12.3"
  }
 },
 "nbformat": 4,
 "nbformat_minor": 5
}
