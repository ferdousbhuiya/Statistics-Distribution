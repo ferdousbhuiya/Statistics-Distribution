{
 "cells": [
  {
   "cell_type": "markdown",
   "id": "29233757",
   "metadata": {},
   "source": [
    "Q1. Write a Python function that takes two numbers and returns their division. Use a try-except block to handle division by zero."
   ]
  },
  {
   "cell_type": "code",
   "execution_count": 1,
   "id": "ba894708",
   "metadata": {},
   "outputs": [
    {
     "name": "stdout",
     "output_type": "stream",
     "text": [
      "5.0\n",
      "Error: Division by zero is not allowed.\n"
     ]
    }
   ],
   "source": [
    "def safe_division(num1, num2):\n",
    "    try:\n",
    "        result = num1 / num2\n",
    "        return result\n",
    "    except ZeroDivisionError:\n",
    "        return \"Error: Division by zero is not allowed.\"\n",
    "\n",
    "\n",
    "print(safe_division(10, 2))  \n",
    "print(safe_division(10, 0))  "
   ]
  },
  {
   "cell_type": "markdown",
   "id": "be20b995",
   "metadata": {},
   "source": [
    "Q2.Write a Python function that takes a list and an index, and returns the element at that index. Use a `try-except` block to handle index errors and type errors."
   ]
  },
  {
   "cell_type": "code",
   "execution_count": 2,
   "id": "58ad80d5",
   "metadata": {},
   "outputs": [
    {
     "name": "stdout",
     "output_type": "stream",
     "text": [
      "3\n",
      "Error: Index out of range.\n",
      "Error: Invalid index type. Index must be an integer.\n"
     ]
    }
   ],
   "source": [
    "def get_element_at_index(lst, index):\n",
    "\n",
    "    try:\n",
    "        element = lst[index]\n",
    "        return element\n",
    "    except IndexError:\n",
    "        return \"Error: Index out of range.\"\n",
    "    except TypeError:\n",
    "        return \"Error: Invalid index type. Index must be an integer.\"\n",
    "\n",
    "\n",
    "print(get_element_at_index([1, 2, 3, 4, 5], 2))  \n",
    "print(get_element_at_index([1, 2, 3, 4, 5], 10)) \n",
    "print(get_element_at_index([1, 2, 3, 4, 5], 'a')) \n"
   ]
  },
  {
   "cell_type": "markdown",
   "id": "9ebbfc7a",
   "metadata": {},
   "source": [
    "Q3. Write a Python function that opens a file and reads its contents. Use a `try-except-finally` block to ensure the file is always closed."
   ]
  },
  {
   "cell_type": "code",
   "execution_count": 3,
   "id": "37b05b46",
   "metadata": {},
   "outputs": [],
   "source": [
    "def read_file(file_path):\n",
    "\n",
    "    try:\n",
    "        file = open(file_path, 'r')\n",
    "        contents = file.read()\n",
    "        return contents\n",
    "    except FileNotFoundError:\n",
    "        return \"Error: The file was not found.\"\n",
    "    except IOError:\n",
    "        return \"Error: An IOError occurred while reading the file.\"\n",
    "    finally:\n",
    "        try:\n",
    "            file.close()\n",
    "        except NameError:\n",
    "            pass  # file was never opened\n",
    "        except Exception as e:\n",
    "            return f\"Error: An unexpected error occurred when closing the file: {e}\"\n"
   ]
  },
  {
   "cell_type": "markdown",
   "id": "931e7ed2",
   "metadata": {},
   "source": [
    "Q4. Write a Python function that checks if a number is positive. If not, raise a `ValueError` with an appropriate message."
   ]
  },
  {
   "cell_type": "code",
   "execution_count": 15,
   "id": "e5f99637",
   "metadata": {},
   "outputs": [
    {
     "name": "stdout",
     "output_type": "stream",
     "text": [
      "Number is positive.\n",
      "Error: Number is not positive.\n"
     ]
    }
   ],
   "source": [
    "def num_check(num):\n",
    "    if num > 0:\n",
    "        return 'Number is positive.'\n",
    "    else:\n",
    "        raise ValueError('Error: Number is not positive.')\n",
    "\n",
    "# Example usage:\n",
    "try:\n",
    "    print(num_check(5))  # This will print 'Number is positive.'\n",
    "    print(num_check(-3)) # This will raise a ValueError\n",
    "except ValueError as e:\n",
    "    print(e)\n"
   ]
  },
  {
   "cell_type": "markdown",
   "id": "69b1284b",
   "metadata": {},
   "source": [
    "Q5. Write a Python function that reads two integers from the user and returns their division. Use nested `try-except` blocks to handle invalid input and division by zero separately."
   ]
  },
  {
   "cell_type": "code",
   "execution_count": 19,
   "id": "de95e0b2",
   "metadata": {},
   "outputs": [
    {
     "name": "stdout",
     "output_type": "stream",
     "text": [
      "Enter the first integer: 8\n",
      "Enter the second integer: 1.5\n",
      "Error: Invalid input. Please enter valid integers.\n"
     ]
    }
   ],
   "source": [
    "def divide_two_numbers():\n",
    "    try:\n",
    "        # Outer try block to handle invalid input\n",
    "        num1 = int(input(\"Enter the first integer: \"))\n",
    "        num2 = int(input(\"Enter the second integer: \"))\n",
    "        \n",
    "        try:\n",
    "            # Inner try block to handle division by zero\n",
    "            result = num1 / num2\n",
    "            return result\n",
    "        except ZeroDivisionError:\n",
    "            return \"Error: Division by zero is not allowed.\"\n",
    "    \n",
    "    except ValueError:\n",
    "        return \"Error: Invalid input. Please enter valid integers.\"\n",
    "\n",
    "# Example usage\n",
    "result = divide_two_numbers()\n",
    "print(result)\n"
   ]
  },
  {
   "cell_type": "markdown",
   "id": "b8ef6bde",
   "metadata": {},
   "source": [
    "Q6. Write a Python function that takes a list of integers and asserts that the list is not empty. If the assertion fails, handle the `AssertionError`."
   ]
  },
  {
   "cell_type": "code",
   "execution_count": 22,
   "id": "28e84ccc",
   "metadata": {},
   "outputs": [
    {
     "name": "stdout",
     "output_type": "stream",
     "text": [
      "The list is not empty.\n",
      "AssertionError: The list is empty.\n"
     ]
    }
   ],
   "source": [
    "def check_non_empty_list(int_list):\n",
    "    try:\n",
    "        assert len(int_list) > 0, \"The list is empty.\"\n",
    "        return \"The list is not empty.\"\n",
    "    except AssertionError as e:\n",
    "        return f\"AssertionError: {e}\"\n",
    "\n",
    "# Example usage\n",
    "result1 = check_non_empty_list([1, 2, 3])\n",
    "print(result1) \n",
    "\n",
    "result2 = check_non_empty_list([])\n",
    "print(result2)  \n"
   ]
  },
  {
   "cell_type": "markdown",
   "id": "4b805a76",
   "metadata": {},
   "source": [
    "Q7. Write two functions: `function_a` that calls `function_b`. In `function_b`, raise a `RuntimeError`. Ensure `function_a` catches and handles the exception."
   ]
  },
  {
   "cell_type": "code",
   "execution_count": 23,
   "id": "513b7fc5",
   "metadata": {},
   "outputs": [
    {
     "name": "stdout",
     "output_type": "stream",
     "text": [
      "Caught an exception: An error occurred in function_b.\n"
     ]
    }
   ],
   "source": [
    "def function_b():\n",
    "    raise RuntimeError(\"An error occurred in function_b.\")\n",
    "\n",
    "def function_a():\n",
    "    try:\n",
    "        function_b()\n",
    "        \n",
    "    except RuntimeError as e:\n",
    "        print(f\"Caught an exception: {e}\")\n",
    "\n",
    "\n",
    "function_a()  "
   ]
  }
 ],
 "metadata": {
  "kernelspec": {
   "display_name": "Python 3 (ipykernel)",
   "language": "python",
   "name": "python3"
  },
  "language_info": {
   "codemirror_mode": {
    "name": "ipython",
    "version": 3
   },
   "file_extension": ".py",
   "mimetype": "text/x-python",
   "name": "python",
   "nbconvert_exporter": "python",
   "pygments_lexer": "ipython3",
   "version": "3.12.3"
  }
 },
 "nbformat": 4,
 "nbformat_minor": 5
}
