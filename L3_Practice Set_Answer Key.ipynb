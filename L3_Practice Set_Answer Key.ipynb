{
 "cells": [
  {
   "cell_type": "markdown",
   "id": "1e1d724f",
   "metadata": {},
   "source": [
    "\n",
    "1. Write a Python program to print all numbers between 1 and 10."
   ]
  },
  {
   "cell_type": "code",
   "execution_count": 1,
   "id": "d1921b52",
   "metadata": {},
   "outputs": [
    {
     "name": "stdout",
     "output_type": "stream",
     "text": [
      "1\n",
      "2\n",
      "3\n",
      "4\n",
      "5\n",
      "6\n",
      "7\n",
      "8\n",
      "9\n",
      "10\n"
     ]
    }
   ],
   "source": [
    "num = 1\n",
    "while num <= 10:\n",
    "    print(num)\n",
    "    num += 1\n"
   ]
  },
  {
   "cell_type": "markdown",
   "id": "bc3d78c3",
   "metadata": {},
   "source": [
    "2. Write a Python program to find the sum of all even numbers between 1 and 20.\n"
   ]
  },
  {
   "cell_type": "code",
   "execution_count": 2,
   "id": "dbe67939",
   "metadata": {},
   "outputs": [
    {
     "name": "stdout",
     "output_type": "stream",
     "text": [
      "110\n"
     ]
    }
   ],
   "source": [
    "total_sum = 0\n",
    "num = 2\n",
    "while num <= 20:\n",
    "    total_sum += num\n",
    "    num += 2\n",
    "print(total_sum)\n"
   ]
  },
  {
   "cell_type": "markdown",
   "id": "9b254a0f",
   "metadata": {},
   "source": [
    "3. Write a Python program to print the multiplication table of a given number. Take input from user.\n"
   ]
  },
  {
   "cell_type": "code",
   "execution_count": 3,
   "id": "f1cac8da",
   "metadata": {},
   "outputs": [
    {
     "name": "stdout",
     "output_type": "stream",
     "text": [
      "Enter a number: 5\n",
      "5 x 1 = 5\n",
      "5 x 2 = 10\n",
      "5 x 3 = 15\n",
      "5 x 4 = 20\n",
      "5 x 5 = 25\n",
      "5 x 6 = 30\n",
      "5 x 7 = 35\n",
      "5 x 8 = 40\n",
      "5 x 9 = 45\n",
      "5 x 10 = 50\n"
     ]
    }
   ],
   "source": [
    "num = int(input(\"Enter a number: \"))\n",
    "\n",
    "for i in range(1, 11):\n",
    "    print(f\"{num} x {i} = {num * i}\")\n"
   ]
  },
  {
   "cell_type": "markdown",
   "id": "01b70ad3",
   "metadata": {},
   "source": [
    "4. Write a Python program to check if a given number is prime or not. Take input from user.\n"
   ]
  },
  {
   "cell_type": "code",
   "execution_count": 4,
   "id": "1ebf32ca",
   "metadata": {},
   "outputs": [
    {
     "name": "stdout",
     "output_type": "stream",
     "text": [
      "Enter a number: 10\n",
      "This number is not a prime number.\n"
     ]
    }
   ],
   "source": [
    "n = int(input(\"Enter a number: \"))\n",
    "\n",
    "if n <= 0:\n",
    "    print(\"Invalid input. Enter a number greater than zero.\")\n",
    "\n",
    "elif n ==1:\n",
    "    print(\"The number is not a prime number.\")\n",
    "\n",
    "else:\n",
    "    \n",
    "    for i in range(2,int(n**0.5) + 1):\n",
    "        if n%i==0:\n",
    "            print(\"This number is not a prime number.\")\n",
    "            break\n",
    "    else:\n",
    "        print(\"The number is a prime number.\")"
   ]
  },
  {
   "cell_type": "markdown",
   "id": "20f7589c",
   "metadata": {},
   "source": [
    "5. Write a Python program to print the Fibonacci sequence up to n terms. Take input from user.\n"
   ]
  },
  {
   "cell_type": "code",
   "execution_count": 5,
   "id": "e0829796",
   "metadata": {},
   "outputs": [
    {
     "name": "stdout",
     "output_type": "stream",
     "text": [
      "Enter the number of terms: 7\n",
      "Fibonacci sequence up to 7 terms:\n",
      "[0, 1, 1, 2, 3, 5, 8]\n"
     ]
    }
   ],
   "source": [
    "n = int(input(\"Enter the number of terms: \"))\n",
    "\n",
    "fib_sequence = [0, 1]  \n",
    "    \n",
    "while len(fib_sequence) < n:\n",
    "    next_term = fib_sequence[-1] + fib_sequence[-2]\n",
    "    fib_sequence.append(next_term)\n",
    "\n",
    "\n",
    "print(\"Fibonacci sequence up to\", n, \"terms:\")\n",
    "print(fib_sequence)\n"
   ]
  },
  {
   "cell_type": "markdown",
   "id": "a8fb8527",
   "metadata": {},
   "source": [
    "6. Write a Python program to find the factorial of a given number. Take input from user.\n"
   ]
  },
  {
   "cell_type": "code",
   "execution_count": 3,
   "id": "414b239f",
   "metadata": {},
   "outputs": [
    {
     "name": "stdout",
     "output_type": "stream",
     "text": [
      "Enter a number: 3\n",
      "Factorial of the number is:  6\n"
     ]
    }
   ],
   "source": [
    "n = int(input(\"Enter a number: \"))\n",
    "\n",
    "num =1 \n",
    "\n",
    "if n == 0 or n == 1:\n",
    "    print('1')\n",
    "else:\n",
    "    for i in range(1,n+1):\n",
    "        fact = num* i\n",
    "        num = fact\n",
    "    print(\"Factorial of the number is: \", fact)"
   ]
  },
  {
   "cell_type": "markdown",
   "id": "127b02cb",
   "metadata": {},
   "source": [
    "7. Write a Python program to check if a given string is a palindrome or not. Take input from user.\n"
   ]
  },
  {
   "cell_type": "code",
   "execution_count": 7,
   "id": "9b990341",
   "metadata": {},
   "outputs": [
    {
     "name": "stdout",
     "output_type": "stream",
     "text": [
      "Enter a string: Madam\n",
      "The string 'Madam' is a palindrome.\n"
     ]
    }
   ],
   "source": [
    "str1 = input(\"Enter a string: \")\n",
    "\n",
    "s = ''\n",
    "\n",
    "for char in str1:\n",
    "    \n",
    "    if char.isalnum():\n",
    "        char = char.lower()\n",
    "    s = s + char\n",
    "    \n",
    "\n",
    "if s == s[::-1]:\n",
    "    print(f\"The string '{str1}' is a palindrome.\")\n",
    "else:\n",
    "    print(f\"The string '{str1}' is not a palindrome.\")"
   ]
  },
  {
   "cell_type": "markdown",
   "id": "67c3f2ab",
   "metadata": {},
   "source": [
    "8. Write a Python program to find the largest element in the following list.\n",
    "\n",
    "my_list = [3, 5, 2, 8, 1, 9, 7]\n"
   ]
  },
  {
   "cell_type": "code",
   "execution_count": 8,
   "id": "bf3cf614",
   "metadata": {},
   "outputs": [
    {
     "name": "stdout",
     "output_type": "stream",
     "text": [
      "9\n"
     ]
    }
   ],
   "source": [
    "my_list = [3, 5, 2, 8, 1, 9, 7]\n",
    "\n",
    "largest = my_list[0]\n",
    "\n",
    "# Iterate through the list and update the largest element\n",
    "for element in my_list:\n",
    "    if element > largest:\n",
    "        largest = element\n",
    "    \n",
    "print(largest)\n",
    "\n"
   ]
  },
  {
   "cell_type": "markdown",
   "id": "04207649",
   "metadata": {},
   "source": [
    "9. Write a Python program to find the sum of digits of a given number.\n"
   ]
  },
  {
   "cell_type": "code",
   "execution_count": 9,
   "id": "3dca67e3",
   "metadata": {},
   "outputs": [
    {
     "name": "stdout",
     "output_type": "stream",
     "text": [
      "Enter a number: 452\n",
      "11\n"
     ]
    }
   ],
   "source": [
    "n = int(input(\"Enter a number: \"))\n",
    "\n",
    "str1 = str(n)\n",
    "\n",
    "list1 = sorted(str1)\n",
    "\n",
    "total = 0\n",
    "\n",
    "for i in list1:\n",
    "    total += int(i)\n",
    "\n",
    "print(total)\n"
   ]
  },
  {
   "cell_type": "markdown",
   "id": "c6071db8",
   "metadata": {},
   "source": [
    "10. Write a Python program to count the number of vowels in a given string. Take input from user."
   ]
  },
  {
   "cell_type": "code",
   "execution_count": 10,
   "id": "7e707a24",
   "metadata": {},
   "outputs": [
    {
     "name": "stdout",
     "output_type": "stream",
     "text": [
      "Enter any string: aeroplane\n",
      "Number of vowels are:  5\n"
     ]
    }
   ],
   "source": [
    "str1 = input(\"Enter any string: \")\n",
    "\n",
    "vowels = 'aeiou'\n",
    "total = 0\n",
    "for i in str1:\n",
    "    if i in vowels:\n",
    "        total += 1\n",
    "\n",
    "print(\"Number of vowels are: \",total)"
   ]
  },
  {
   "cell_type": "markdown",
   "id": "bb6de83e",
   "metadata": {},
   "source": [
    "11. Write a Python program to sort a list of integers in ascending order.\n",
    "\n",
    "my_list = [3, 5, 2, 8, 1, 9, 7]"
   ]
  },
  {
   "cell_type": "code",
   "execution_count": 11,
   "id": "c6ba2309",
   "metadata": {},
   "outputs": [
    {
     "data": {
      "text/plain": [
       "[1, 2, 3, 5, 7, 8, 9]"
      ]
     },
     "execution_count": 11,
     "metadata": {},
     "output_type": "execute_result"
    }
   ],
   "source": [
    "my_list = [3, 5, 2, 8, 1, 9, 7]\n",
    "\n",
    "my_list.sort()\n",
    "\n",
    "my_list\n"
   ]
  },
  {
   "cell_type": "markdown",
   "id": "8de4ce30",
   "metadata": {},
   "source": [
    "12. Write a Python program to check if a given list is sorted in ascending order. Take input from user separated by comma.\n"
   ]
  },
  {
   "cell_type": "code",
   "execution_count": 12,
   "id": "dd62c860",
   "metadata": {},
   "outputs": [],
   "source": [
    "#Try these two lists.\n",
    "\n",
    "#A = [3,7,5,4,2,5,7,5,3,8,1,0]\n",
    "\n",
    "#B = [2,3,5,6,7,8,9]"
   ]
  },
  {
   "cell_type": "code",
   "execution_count": 13,
   "id": "9c91707f",
   "metadata": {},
   "outputs": [
    {
     "name": "stdout",
     "output_type": "stream",
     "text": [
      "Enter the numbers sepated by comma: 2,3,5,6,7,8,9\n",
      "List is sorted in ascending order.\n"
     ]
    }
   ],
   "source": [
    "str1 = str(input(\"Enter the numbers sepated by comma: \"))\n",
    "\n",
    "list1 = str1.split(',')\n",
    "\n",
    "\n",
    "for i in range(len(list1)):\n",
    "    list1[i] = int(list1[i])\n",
    "\n",
    "largest = list1[0]\n",
    "\n",
    "for i in range(len(list1)):\n",
    "    if list1[i] < largest:\n",
    "        print(\"List is not sorted in ascending order.\")\n",
    "        break\n",
    "else:\n",
    "    print(\"List is sorted in ascending order.\")"
   ]
  },
  {
   "cell_type": "markdown",
   "id": "18d76a35",
   "metadata": {},
   "source": [
    "13. Write a Python program to find the second largest element in a list. Take input from user separated by comma."
   ]
  },
  {
   "cell_type": "code",
   "execution_count": 14,
   "id": "f7342951",
   "metadata": {},
   "outputs": [
    {
     "name": "stdout",
     "output_type": "stream",
     "text": [
      "Enter the numbers sepated by comma: 2,3,5,6,7,8,9\n",
      "The second largest element is: 8\n"
     ]
    }
   ],
   "source": [
    "str1 = str(input(\"Enter the numbers sepated by comma: \"))\n",
    "\n",
    "list1 = str1.split(',')\n",
    "\n",
    "\n",
    "for i in range(len(list1)):\n",
    "    list1[i] = int(list1[i])\n",
    "\n",
    "# Remove duplicates\n",
    "numbers_list = list(set(list1))\n",
    "\n",
    "\n",
    "numbers_list.sort(reverse=True)\n",
    "    \n",
    "\n",
    "print(\"The second largest element is:\", numbers_list[1])\n"
   ]
  },
  {
   "cell_type": "markdown",
   "id": "c8f4890e",
   "metadata": {},
   "source": [
    "14. Write a Python program to find all prime numbers between 1 and 100.\n"
   ]
  },
  {
   "cell_type": "code",
   "execution_count": 15,
   "id": "f4673703",
   "metadata": {},
   "outputs": [
    {
     "name": "stdout",
     "output_type": "stream",
     "text": [
      "Prime numbers between 1 and 100: [2, 3, 5, 7, 11, 13, 17, 19, 23, 29, 31, 37, 41, 43, 47, 53, 59, 61, 67, 71, 73, 79, 83, 89, 97]\n"
     ]
    }
   ],
   "source": [
    "prime_numbers = []\n",
    "\n",
    "for n in range(1, 101):\n",
    "\n",
    "    if n == 1:\n",
    "        continue\n",
    "    elif n==2:\n",
    "        prime_numbers.append(2)\n",
    "    else:\n",
    "        is_prime = True\n",
    "        for i in range(2, int(n ** 0.5) + 1):\n",
    "            if n % i == 0:\n",
    "                is_prime = False\n",
    "                break\n",
    "        if is_prime:\n",
    "            prime_numbers.append(n)\n",
    "\n",
    "print(\"Prime numbers between 1 and 100:\", prime_numbers)\n"
   ]
  },
  {
   "cell_type": "markdown",
   "id": "b74d76cd",
   "metadata": {},
   "source": [
    "15. Write a Python program to find the GCD (Greatest Common Divisor) of two numbers.\n"
   ]
  },
  {
   "cell_type": "code",
   "execution_count": 17,
   "id": "54c4e9aa",
   "metadata": {},
   "outputs": [
    {
     "name": "stdout",
     "output_type": "stream",
     "text": [
      "Enter first number: 15\n",
      "Enter second number: 54\n",
      "The GCD is: 3\n"
     ]
    }
   ],
   "source": [
    "\n",
    "num1 = int(input(\"Enter first number: \"))\n",
    "num2 = int(input(\"Enter second number: \"))\n",
    "\n",
    "\n",
    "while num2:\n",
    "    num1, num2 = num2, num1 % num2\n",
    "\n",
    "\n",
    "print(\"The GCD is:\", num1)\n",
    "\n",
    "\n",
    "\n"
   ]
  },
  {
   "cell_type": "code",
   "execution_count": null,
   "id": "a3dee06e",
   "metadata": {},
   "outputs": [],
   "source": [
    "#num1 15, 54, 15, 9, 6,3\n",
    "#num2 54, 15, 9, 6, 3,0"
   ]
  },
  {
   "cell_type": "markdown",
   "id": "120e2445",
   "metadata": {},
   "source": [
    "16. Write a Python program to implement binary search to find a number 16 on the following sorted list.\n",
    "\n",
    "sorted_list = [2, 5, 8, 12, 16, 23, 38, 56, 72, 91]"
   ]
  },
  {
   "cell_type": "code",
   "execution_count": 18,
   "id": "1326a376",
   "metadata": {},
   "outputs": [
    {
     "name": "stdout",
     "output_type": "stream",
     "text": [
      "Element 16 found at index 4\n"
     ]
    }
   ],
   "source": [
    "# Sorted list\n",
    "sorted_list = [2, 5, 8, 12, 16, 23, 38, 56, 72, 91]\n",
    "\n",
    "target = 16\n",
    "\n",
    "# Binary search\n",
    "left = 0\n",
    "right = len(sorted_list) - 1\n",
    "found = False\n",
    "\n",
    "while left <= right and not found:\n",
    "    mid = (left + right) // 2\n",
    "    if sorted_list[mid] == target:\n",
    "        print(\"Element\", target, \"found at index\", mid)\n",
    "        found = True\n",
    "    elif sorted_list[mid] < target:\n",
    "        left = mid + 1\n",
    "    else:\n",
    "        right = mid - 1\n",
    "\n",
    "if not found:\n",
    "    print(\"Element 16 not found in the list.\")\n"
   ]
  }
 ],
 "metadata": {
  "kernelspec": {
   "display_name": "Python 3 (ipykernel)",
   "language": "python",
   "name": "python3"
  },
  "language_info": {
   "codemirror_mode": {
    "name": "ipython",
    "version": 3
   },
   "file_extension": ".py",
   "mimetype": "text/x-python",
   "name": "python",
   "nbconvert_exporter": "python",
   "pygments_lexer": "ipython3",
   "version": "3.12.4"
  }
 },
 "nbformat": 4,
 "nbformat_minor": 5
}
