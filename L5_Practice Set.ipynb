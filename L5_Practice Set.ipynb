{
 "cells": [
  {
   "cell_type": "markdown",
   "id": "d3a1c174",
   "metadata": {},
   "source": [
    "Q1. Write a Python function that takes two numbers and returns their division. Use a try-except block to handle division by zero."
   ]
  },
  {
   "cell_type": "code",
   "execution_count": 1,
   "id": "befdfbc7",
   "metadata": {},
   "outputs": [
    {
     "name": "stdout",
     "output_type": "stream",
     "text": [
      "The result of 10 divided by 2 is: 5.0\n",
      "The result of 10 divided by 0 is: Error: Division by zero is not allowed.\n",
      "The result of 10 divided by a is: Error: Invalid input. Please provide numbers.\n"
     ]
    }
   ],
   "source": [
    "def safe_divide(num1, num2):\n",
    "    try:\n",
    "        # Attempt to divide num1 by num2\n",
    "        result = num1 / num2\n",
    "    except ZeroDivisionError:\n",
    "        # Handle the case where num2 is zero\n",
    "        return \"Error: Division by zero is not allowed.\"\n",
    "    except TypeError:\n",
    "        # Handle the case where the input values are not numbers\n",
    "        return \"Error: Invalid input. Please provide numbers.\"\n",
    "    else:\n",
    "        # Return the result if no exception occurs\n",
    "        return result\n",
    "\n",
    "# Example usage\n",
    "numerator = 10\n",
    "denominator = 2\n",
    "print(f\"The result of {numerator} divided by {denominator} is: {safe_divide(numerator, denominator)}\")\n",
    "\n",
    "# Example usage with division by zero\n",
    "numerator = 10\n",
    "denominator = 0\n",
    "print(f\"The result of {numerator} divided by {denominator} is: {safe_divide(numerator, denominator)}\")\n",
    "\n",
    "# Example usage with invalid input\n",
    "numerator = 10\n",
    "denominator = 'a'\n",
    "print(f\"The result of {numerator} divided by {denominator} is: {safe_divide(numerator, denominator)}\")\n"
   ]
  },
  {
   "cell_type": "markdown",
   "id": "759d894b",
   "metadata": {},
   "source": [
    "Q2.Write a Python function that takes a list and an index, and returns the element at that index. Use a `try-except` block to handle index errors and type errors."
   ]
  },
  {
   "cell_type": "code",
   "execution_count": 2,
   "id": "2eb2c8e9",
   "metadata": {},
   "outputs": [
    {
     "name": "stdout",
     "output_type": "stream",
     "text": [
      "Element at index 2: 30\n",
      "Element at index 10: Error: Index out of range. Please provide a valid index.\n",
      "Element at index 'a': Error: Invalid input. Please ensure the first argument is a list and the second argument is an integer.\n",
      "Element at index 1: o\n"
     ]
    }
   ],
   "source": [
    "def get_element_at_index(lst, index):\n",
    "    try:\n",
    "        # Attempt to access the element at the specified index\n",
    "        return lst[index]\n",
    "    except IndexError:\n",
    "        # Handle the case where the index is out of range\n",
    "        return \"Error: Index out of range. Please provide a valid index.\"\n",
    "    except TypeError:\n",
    "        # Handle the case where lst is not a list or index is not an integer\n",
    "        return \"Error: Invalid input. Please ensure the first argument is a list and the second argument is an integer.\"\n",
    "    \n",
    "# Example usage\n",
    "my_list = [10, 20, 30, 40, 50]\n",
    "\n",
    "# Valid index\n",
    "print(f\"Element at index 2: {get_element_at_index(my_list, 2)}\")\n",
    "\n",
    "# Index out of range\n",
    "print(f\"Element at index 10: {get_element_at_index(my_list, 10)}\")\n",
    "\n",
    "# Invalid index type\n",
    "print(f\"Element at index 'a': {get_element_at_index(my_list, 'a')}\")\n",
    "\n",
    "# Invalid list type\n",
    "print(f\"Element at index 1: {get_element_at_index('not_a_list', 1)}\")\n"
   ]
  },
  {
   "cell_type": "markdown",
   "id": "68d4987d",
   "metadata": {},
   "source": [
    "Q3. Write a Python function that opens a file and reads its contents. Use a `try-except-finally` block to ensure the file is always closed."
   ]
  },
  {
   "cell_type": "code",
   "execution_count": 3,
   "id": "a89a74fe",
   "metadata": {},
   "outputs": [
    {
     "name": "stdout",
     "output_type": "stream",
     "text": [
      "Error: File not found. Please check the file path.\n"
     ]
    }
   ],
   "source": [
    "def read_file(file_path):\n",
    "    file = None\n",
    "    try:\n",
    "        # Attempt to open the file\n",
    "        file = open(file_path, 'r')\n",
    "        # Read the contents of the file\n",
    "        contents = file.read()\n",
    "        return contents\n",
    "    except FileNotFoundError:\n",
    "        # Handle the case where the file does not exist\n",
    "        return \"Error: File not found. Please check the file path.\"\n",
    "    except IOError:\n",
    "        # Handle other I/O errors\n",
    "        return \"Error: An I/O error occurred while trying to read the file.\"\n",
    "    finally:\n",
    "        # Ensure the file is always closed\n",
    "        if file is not None:\n",
    "            file.close()\n",
    "\n",
    "# Example usage\n",
    "file_path = 'example.txt'\n",
    "file_contents = read_file(file_path)\n",
    "print(file_contents)"
   ]
  },
  {
   "cell_type": "markdown",
   "id": "a4982928",
   "metadata": {},
   "source": [
    "Q4. Write a Python function that checks if a number is positive. If not, raise a `ValueError` with an appropriate message."
   ]
  },
  {
   "cell_type": "code",
   "execution_count": 4,
   "id": "8095621b",
   "metadata": {},
   "outputs": [
    {
     "name": "stdout",
     "output_type": "stream",
     "text": [
      "The number is positive.\n",
      "Error: The number must be positive.\n"
     ]
    }
   ],
   "source": [
    "def check_positive(number):\n",
    "    if number <= 0:\n",
    "        raise ValueError(\"The number must be positive.\")\n",
    "    return True\n",
    "\n",
    "# Example usage\n",
    "try:\n",
    "    check_positive(10)  # Positive number\n",
    "    print(\"The number is positive.\")\n",
    "    \n",
    "    check_positive(-5)  # Negative number\n",
    "except ValueError as e:\n",
    "    print(f\"Error: {e}\")\n"
   ]
  },
  {
   "cell_type": "markdown",
   "id": "bb923431",
   "metadata": {},
   "source": [
    "Q5. Write a Python function that reads two integers from the user and returns their division. Use nested `try-except` blocks to handle invalid input and division by zero separately."
   ]
  },
  {
   "cell_type": "code",
   "execution_count": 5,
   "id": "e478af59",
   "metadata": {},
   "outputs": [
    {
     "name": "stdout",
     "output_type": "stream",
     "text": [
      "The result of the division is: 7.631878866818626e-05\n"
     ]
    }
   ],
   "source": [
    "def divide_numbers():\n",
    "    while True:\n",
    "        try:\n",
    "            # Read input from the user\n",
    "            numerator = input(\"Enter the numerator: \")\n",
    "            denominator = input(\"Enter the denominator: \")\n",
    "\n",
    "            # Convert inputs to integers\n",
    "            try:\n",
    "                numerator = int(numerator)\n",
    "                denominator = int(denominator)\n",
    "            except ValueError:\n",
    "                print(\"Invalid input. Please enter valid integers.\")\n",
    "                continue\n",
    "\n",
    "            # Perform division\n",
    "            try:\n",
    "                result = numerator / denominator\n",
    "                return result\n",
    "            except ZeroDivisionError:\n",
    "                print(\"Error: Division by zero is not allowed.\")\n",
    "                continue\n",
    "        \n",
    "        # Optionally, break the loop if you want to handle retries differently\n",
    "        except Exception as e:\n",
    "            print(f\"An unexpected error occurred: {e}\")\n",
    "            break\n",
    "\n",
    "# Example usage\n",
    "result = divide_numbers()\n",
    "if result is not None:\n",
    "    print(f\"The result of the division is: {result}\")"
   ]
  },
  {
   "cell_type": "markdown",
   "id": "0f4c13f4",
   "metadata": {},
   "source": [
    "Q6. Write a Python function that takes a list of integers and asserts that the list is not empty. If the assertion fails, handle the `AssertionError`."
   ]
  },
  {
   "cell_type": "code",
   "execution_count": 6,
   "id": "6084b580",
   "metadata": {},
   "outputs": [],
   "source": [
    "def process_list(int_list):\n",
    "    try:\n",
    "        # Assert that the list is not empty\n",
    "        assert len(int_list) > 0, \"The list should not be empty.\"\n",
    "        \n",
    "        # Process the list (e.g., print it)\n",
    "        print(f\"The list is: {int_list}\")\n",
    "        \n",
    "        # Example: Calculate the sum of the list\n",
    "        total_sum = sum(int_list)\n",
    "        print(f\"The sum of the list is: {total_sum}\")\n",
    "\n",
    "    except AssertionError as e:\n",
    "        # Handle the AssertionError\n",
    "        print(f\"AssertionError: {e}\")\n",
    "\n",
    "# Example usage\n",
    "# Uncomment the lines below to test the function with different inputs\n",
    "\n",
    "# Test with a non-empty list\n",
    "# process_list([1, 2, 3, 4, 5])\n",
    "\n",
    "# Test with an empty list\n",
    "# process_list([])\n"
   ]
  },
  {
   "cell_type": "markdown",
   "id": "f0f291bc",
   "metadata": {},
   "source": [
    "Q7. Write two functions: `function_a` that calls `function_b`. In `function_b`, raise a `RuntimeError`. Ensure `function_a` catches and handles the exception."
   ]
  },
  {
   "cell_type": "code",
   "execution_count": 7,
   "id": "53eeb693",
   "metadata": {},
   "outputs": [
    {
     "name": "stdout",
     "output_type": "stream",
     "text": [
      "Caught an exception in function_a: Something went wrong in function_b!\n"
     ]
    }
   ],
   "source": [
    "def function_b():\n",
    "    # Raise a RuntimeError in function_b\n",
    "    raise RuntimeError(\"Something went wrong in function_b!\")\n",
    "\n",
    "def function_a():\n",
    "    try:\n",
    "        # Call function_b which raises RuntimeError\n",
    "        function_b()\n",
    "    except RuntimeError as e:\n",
    "        # Handle the RuntimeError raised by function_b\n",
    "        print(f\"Caught an exception in function_a: {e}\")\n",
    "\n",
    "# Example usage\n",
    "function_a()\n"
   ]
  }
 ],
 "metadata": {
  "kernelspec": {
   "display_name": "Python 3 (ipykernel)",
   "language": "python",
   "name": "python3"
  },
  "language_info": {
   "codemirror_mode": {
    "name": "ipython",
    "version": 3
   },
   "file_extension": ".py",
   "mimetype": "text/x-python",
   "name": "python",
   "nbconvert_exporter": "python",
   "pygments_lexer": "ipython3",
   "version": "3.12.3"
  }
 },
 "nbformat": 4,
 "nbformat_minor": 5
}
